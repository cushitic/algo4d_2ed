{
 "cells": [
  {
   "cell_type": "markdown",
   "metadata": {},
   "source": [
    "# Make change algorithm"
   ]
  },
  {
   "cell_type": "code",
   "execution_count": 1,
   "metadata": {},
   "outputs": [],
   "source": [
    "def change(to_be_changed, denomination):\n",
    "    resulting_change = list()\n",
    "    for bill in denomination:\n",
    "        while to_be_changed >= bill:\n",
    "            resulting_change.append(bill)\n",
    "            to_be_changed = to_be_changed - bill\n",
    "    return resulting_change, len(resulting_change)"
   ]
  },
  {
   "cell_type": "code",
   "execution_count": 2,
   "metadata": {},
   "outputs": [
    {
     "name": "stdout",
     "output_type": "stream",
     "text": [
      "Change: [100, 100, 100, 50, 10, 5, 1, 1] (using 8 bills)\n"
     ]
    }
   ],
   "source": [
    "currency = [100, 50, 20, 10, 5, 1]\n",
    "amount = 367\n",
    "print ('Change: %s (using %i bills)' \n",
    "       % (change(amount, currency)))"
   ]
  },
  {
   "cell_type": "code",
   "execution_count": 3,
   "metadata": {},
   "outputs": [
    {
     "name": "stdout",
     "output_type": "stream",
     "text": [
      "Change: [25, 1, 1, 1, 1, 1] (using 6 bills)\n"
     ]
    }
   ],
   "source": [
    "print ('Change: %s (using %i bills)' \n",
    "       % (change(30, [25, 15, 1])))"
   ]
  },
  {
   "cell_type": "markdown",
   "metadata": {
    "collapsed": true
   },
   "source": [
    "# Reprising Huffman compression"
   ]
  },
  {
   "cell_type": "code",
   "execution_count": 11,
   "metadata": {},
   "outputs": [
    {
     "name": "stdout",
     "output_type": "stream",
     "text": [
      "CAACCCCGACACGCCTCCATAGCCA ... Counter({'A': 405, 'C': 292, 'T': 158, 'G': 145})\n"
     ]
    }
   ],
   "source": [
    "from random import shuffle, seed\n",
    "from collections import defaultdict, Counter\n",
    "\n",
    "generator = [\"A\"]*6+[\"C\"]*4+[\"G\"]*2+[\"T\"]*2\n",
    "text = ''\n",
    "seed(4)\n",
    "for i in range(1000):\n",
    "    shuffle(generator)\n",
    "    text += generator[0]\n",
    "\n",
    "frequencies = Counter(list(text))\n",
    "print(f\"{text[:25]} ... {frequencies}\")"
   ]
  },
  {
   "cell_type": "code",
   "execution_count": 31,
   "metadata": {},
   "outputs": [],
   "source": [
    "class BinaryHeap():\n",
    "    def __init__(self):\n",
    "        self.heap = []\n",
    "        \n",
    "    def swap(self, i, j):\n",
    "        self.heap[i], self.heap[j] = self.heap[j], self.heap[i]\n",
    "                \n",
    "    def insert(self, key, value):\n",
    "        index = len(self.heap)\n",
    "        self.heap.append([key, value])\n",
    "        while index!=0:\n",
    "            parent = (index - 1) // 2\n",
    "            if self.heap[parent][1] < self.heap[index][1]:\n",
    "                self.swap(parent, index)\n",
    "            index = parent"
   ]
  },
  {
   "cell_type": "code",
   "execution_count": 42,
   "metadata": {},
   "outputs": [
    {
     "name": "stdout",
     "output_type": "stream",
     "text": [
      "[['A', 405], ['C', 292], ['G', 145], ['T', 158]]\n"
     ]
    }
   ],
   "source": [
    "heap = BinaryHeap()\n",
    "for key_value_pair in frequencies.items():\n",
    "    heap.insert(*key_value_pair)\n",
    "print(heap.heap)"
   ]
  },
  {
   "cell_type": "code",
   "execution_count": 64,
   "metadata": {},
   "outputs": [
    {
     "name": "stdout",
     "output_type": "stream",
     "text": [
      "[['T', 158]] + ['G', 145] = {'A': '', 'C': '', 'G': '0', 'T': '1'}\n",
      "[['G', 145], ['T', 158]] + ['C', 292] = {'A': '', 'C': '0', 'G': '10', 'T': '11'}\n",
      "[['C', 292], ['G', 145], ['T', 158]] + ['A', 405] = {'A': '0', 'C': '10', 'G': '110', 'T': '111'}\n"
     ]
    }
   ],
   "source": [
    "encoding = {item[0]:'' for item in heap.heap}\n",
    "for i in range(1, len(heap.heap)):\n",
    "    aggregate = heap.heap[-i:]\n",
    "    new = heap.heap[-i-1]\n",
    "    # putting a 1 in front of previous\n",
    "    for item in aggregate:\n",
    "        encoding[item[0]] = '1' + encoding[item[0]]\n",
    "    # putting a 0 in front of following\n",
    "    encoding[new[0]] = '0' + encoding[new[0]]\n",
    "    \n",
    "    print(f\"{aggregate} + {new} = {encoding}\")"
   ]
  }
 ],
 "metadata": {
  "anaconda-cloud": {},
  "kernelspec": {
   "display_name": "Python 3",
   "language": "python",
   "name": "python3"
  },
  "language_info": {
   "codemirror_mode": {
    "name": "ipython",
    "version": 3
   },
   "file_extension": ".py",
   "mimetype": "text/x-python",
   "name": "python",
   "nbconvert_exporter": "python",
   "pygments_lexer": "ipython3",
   "version": "3.7.6"
  }
 },
 "nbformat": 4,
 "nbformat_minor": 1
}
