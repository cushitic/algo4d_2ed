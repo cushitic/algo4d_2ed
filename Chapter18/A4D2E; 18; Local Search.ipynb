{
 "cells": [
  {
   "cell_type": "code",
   "execution_count": 1,
   "id": "b0957730",
   "metadata": {
    "_cell_guid": "b1076dfc-b9ad-4769-8c92-a6c4dae69d19",
    "_uuid": "8f2839f25d086af736a60e9eeb907d3b93b6e0e5",
    "execution": {
     "iopub.execute_input": "2021-11-07T10:31:13.669616Z",
     "iopub.status.busy": "2021-11-07T10:31:13.660783Z",
     "iopub.status.idle": "2021-11-07T10:31:13.674832Z",
     "shell.execute_reply": "2021-11-07T10:31:13.674128Z"
    },
    "papermill": {
     "duration": 0.0305,
     "end_time": "2021-11-07T10:31:13.675005",
     "exception": false,
     "start_time": "2021-11-07T10:31:13.644505",
     "status": "completed"
    },
    "tags": []
   },
   "outputs": [],
   "source": [
    "import random\n",
    "from math import log2\n",
    "\n",
    "import matplotlib.pyplot as plt\n",
    "\n",
    "def signed(v):\n",
    "    return v if random.random()<0.5 else -v\n",
    "\n",
    "def create_clauses(i, seed=1):\n",
    "    random.seed(seed)\n",
    "    return [(signed(random.randint(0, i-1)), \n",
    "             signed(random.randint(0, i-1))) \n",
    "            for j in range(i)]\n",
    "\n",
    "def create_random_solution(i, *kwargs):\n",
    "    return {j:signed(1)==1 for j in range(i)}\n",
    "\n",
    "def check_solution(solution, clauses):\n",
    "    violations = list()\n",
    "    for k,(a,b) in enumerate(clauses):\n",
    "        if not (((solution[abs(a)]) == (a>0)) | \n",
    "                ((solution[abs(b)]) == (b>0))):\n",
    "            violations.append(k)\n",
    "    return violations\n"
   ]
  },
  {
   "cell_type": "code",
   "execution_count": 2,
   "id": "60ae47f9",
   "metadata": {
    "execution": {
     "iopub.execute_input": "2021-11-07T10:31:13.699061Z",
     "iopub.status.busy": "2021-11-07T10:31:13.698381Z",
     "iopub.status.idle": "2021-11-07T10:31:13.701587Z",
     "shell.execute_reply": "2021-11-07T10:31:13.700979Z"
    },
    "papermill": {
     "duration": 0.019635,
     "end_time": "2021-11-07T10:31:13.701772",
     "exception": false,
     "start_time": "2021-11-07T10:31:13.682137",
     "status": "completed"
    },
    "tags": []
   },
   "outputs": [],
   "source": [
    "def sat2(clauses, n, start=create_random_solution):\n",
    "    not_solved = True\n",
    "    for external_loop in range(round(log2(n))):\n",
    "        solution = start(n, clauses)\n",
    "        history = list()\n",
    "        for internal_loop in range(2*n**2):\n",
    "            response = check_solution(solution, clauses)\n",
    "            unsatisfied = len(response)\n",
    "            history.append(unsatisfied)\n",
    "            if unsatisfied==0:\n",
    "                print (\"Solution in %i external loops,\" % \n",
    "                       (external_loop+1), end=\" \")\n",
    "                print (\"%i internal loops\" % \n",
    "                       (internal_loop+1))\n",
    "                not_solved = False\n",
    "                break\n",
    "            else:\n",
    "                r1 = random.choice(response)\n",
    "                r2 = random.randint(0, 1)\n",
    "                clause_to_fix = clauses[r1][r2]\n",
    "                solution[abs(clause_to_fix)] = (\n",
    "                 clause_to_fix>0)\n",
    "        else:\n",
    "            continue\n",
    "        break\n",
    "    if not_solved is True:\n",
    "        print(\"Not solvable\")\n",
    "    return history, solution\n"
   ]
  },
  {
   "cell_type": "code",
   "execution_count": 3,
   "id": "92beba29",
   "metadata": {
    "execution": {
     "iopub.execute_input": "2021-11-07T10:31:13.719339Z",
     "iopub.status.busy": "2021-11-07T10:31:13.718348Z",
     "iopub.status.idle": "2021-11-07T10:31:14.045059Z",
     "shell.execute_reply": "2021-11-07T10:31:14.044512Z"
    },
    "papermill": {
     "duration": 0.336888,
     "end_time": "2021-11-07T10:31:14.045220",
     "exception": false,
     "start_time": "2021-11-07T10:31:13.708332",
     "status": "completed"
    },
    "tags": []
   },
   "outputs": [
    {
     "name": "stdout",
     "output_type": "stream",
     "text": [
      "Solution in 1 external loops, 674 internal loops\n"
     ]
    }
   ],
   "source": [
    "n = 1000\n",
    "clauses = create_clauses(n, seed=0)\n",
    "history, solution = sat2(clauses, n, \n",
    "        start=create_random_solution)"
   ]
  },
  {
   "cell_type": "code",
   "execution_count": 4,
   "id": "f900b211",
   "metadata": {
    "execution": {
     "iopub.execute_input": "2021-11-07T10:31:14.084875Z",
     "iopub.status.busy": "2021-11-07T10:31:14.084194Z",
     "iopub.status.idle": "2021-11-07T10:31:14.311478Z",
     "shell.execute_reply": "2021-11-07T10:31:14.312004Z"
    },
    "papermill": {
     "duration": 0.25962,
     "end_time": "2021-11-07T10:31:14.312326",
     "exception": false,
     "start_time": "2021-11-07T10:31:14.052706",
     "status": "completed"
    },
    "tags": []
   },
   "outputs": [
    {
     "data": {
      "image/png": "[encoded data removed]",
      "text/plain": [
       "<Figure size 864x432 with 1 Axes>"
      ]
     },
     "metadata": {
      "needs_background": "light"
     },
     "output_type": "display_data"
    }
   ],
   "source": [
    "import matplotlib.pyplot as plt\n",
    "\n",
    "plt.figure(figsize=(12, 6))\n",
    "plt.plot(history, 'b-')\n",
    "plt.xlabel(\"Random adjustments\")\n",
    "plt.ylabel(\"Unsatisfied clauses\")\n",
    "plt.grid(True)\n",
    "plt.show()"
   ]
  },
  {
   "cell_type": "code",
   "execution_count": 5,
   "id": "ff9ac4cd",
   "metadata": {
    "execution": {
     "iopub.execute_input": "2021-11-07T10:31:14.339566Z",
     "iopub.status.busy": "2021-11-07T10:31:14.337834Z",
     "iopub.status.idle": "2021-11-07T10:31:14.340304Z",
     "shell.execute_reply": "2021-11-07T10:31:14.340804Z"
    },
    "papermill": {
     "duration": 0.018332,
     "end_time": "2021-11-07T10:31:14.340968",
     "exception": false,
     "start_time": "2021-11-07T10:31:14.322636",
     "status": "completed"
    },
    "tags": []
   },
   "outputs": [],
   "source": [
    "def better_start(n, clauses):\n",
    "    clause_dict = dict()\n",
    "    for pair in clauses:\n",
    "        for clause in pair:\n",
    "            if abs(clause) in clause_dict:\n",
    "                clause_dict[abs(clause)].add(clause)\n",
    "            else:\n",
    "                clause_dict[abs(clause)] = {clause}\n",
    "\n",
    "    solution = create_random_solution(n)\n",
    "\n",
    "    for clause, value in clause_dict.items():\n",
    "        if len(value)==1:\n",
    "            solution[clause] = value.pop() > 0\n",
    "    return solution"
   ]
  },
  {
   "cell_type": "code",
   "execution_count": 6,
   "id": "4a2312d7",
   "metadata": {
    "execution": {
     "iopub.execute_input": "2021-11-07T10:31:14.396752Z",
     "iopub.status.busy": "2021-11-07T10:31:14.381050Z",
     "iopub.status.idle": "2021-11-07T10:31:14.581842Z",
     "shell.execute_reply": "2021-11-07T10:31:14.582538Z"
    },
    "papermill": {
     "duration": 0.233528,
     "end_time": "2021-11-07T10:31:14.582733",
     "exception": false,
     "start_time": "2021-11-07T10:31:14.349205",
     "status": "completed"
    },
    "tags": []
   },
   "outputs": [
    {
     "name": "stdout",
     "output_type": "stream",
     "text": [
      "Solution in 1 external loops, 400 internal loops\n"
     ]
    }
   ],
   "source": [
    "n = 1000\n",
    "clauses = create_clauses(n, seed=0)\n",
    "history, solution = sat2(clauses, n, \n",
    "        start=better_start)"
   ]
  },
  {
   "cell_type": "code",
   "execution_count": 7,
   "id": "0651b96c",
   "metadata": {
    "execution": {
     "iopub.execute_input": "2021-11-07T10:31:14.611645Z",
     "iopub.status.busy": "2021-11-07T10:31:14.610641Z",
     "iopub.status.idle": "2021-11-07T10:31:14.810704Z",
     "shell.execute_reply": "2021-11-07T10:31:14.810039Z"
    },
    "papermill": {
     "duration": 0.216082,
     "end_time": "2021-11-07T10:31:14.810843",
     "exception": false,
     "start_time": "2021-11-07T10:31:14.594761",
     "status": "completed"
    },
    "tags": []
   },
   "outputs": [
    {
     "data": {
      "image/png": "[encoded data removed]",
      "text/plain": [
       "<Figure size 864x432 with 1 Axes>"
      ]
     },
     "metadata": {
      "needs_background": "light"
     },
     "output_type": "display_data"
    }
   ],
   "source": [
    "plt.figure(figsize=(12, 6))\n",
    "plt.plot(history, 'b-')\n",
    "plt.xlabel(\"Random adjustments\")\n",
    "plt.ylabel(\"Unsatisfied clauses\")\n",
    "plt.grid(True)\n",
    "plt.show()"
   ]
  }
 ],
 "metadata": {
  "kernelspec": {
   "display_name": "Python 3",
   "language": "python",
   "name": "python3"
  },
  "language_info": {
   "codemirror_mode": {
    "name": "ipython",
    "version": 3
   },
   "file_extension": ".py",
   "mimetype": "text/x-python",
   "name": "python",
   "nbconvert_exporter": "python",
   "pygments_lexer": "ipython3",
   "version": "3.7.10"
  },
  "papermill": {
   "default_parameters": {},
   "duration": 11.201151,
   "end_time": "2021-11-07T10:31:15.430277",
   "environment_variables": {},
   "exception": null,
   "input_path": "__notebook__.ipynb",
   "output_path": "__notebook__.ipynb",
   "parameters": {},
   "start_time": "2021-11-07T10:31:04.229126",
   "version": "2.3.3"
  }
 },
 "nbformat": 4,
 "nbformat_minor": 5
}
