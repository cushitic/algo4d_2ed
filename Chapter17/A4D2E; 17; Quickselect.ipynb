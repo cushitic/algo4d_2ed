{
 "cells": [
  {
   "cell_type": "markdown",
   "metadata": {},
   "source": [
    "# Calculating median with quickselect"
   ]
  },
  {
   "cell_type": "code",
   "execution_count": 1,
   "metadata": {},
   "outputs": [],
   "source": [
    "from random import randint, random\n",
    "from random import choice, seed\n",
    "import sys\n",
    "sys.setrecursionlimit(1500)"
   ]
  },
  {
   "cell_type": "code",
   "execution_count": 2,
   "metadata": {},
   "outputs": [
    {
     "name": "stdout",
     "output_type": "stream",
     "text": [
      "Median is 12\n"
     ]
    }
   ],
   "source": [
    "n = 501\n",
    "seed(0)\n",
    "series = [randint(1,25) for i in range(n)]\n",
    "\n",
    "from statistics import median\n",
    "# https://docs.python.org/3/library/statistics.html\n",
    "print(f'Median is {median(series)}')"
   ]
  },
  {
   "cell_type": "code",
   "execution_count": 3,
   "metadata": {},
   "outputs": [
    {
     "name": "stdout",
     "output_type": "stream",
     "text": [
      "251st element of the ordered series is 12\n"
     ]
    }
   ],
   "source": [
    "elem_251 = sorted(series)[250]\n",
    "print(f'251st element of the ordered series is {elem_251}')"
   ]
  },
  {
   "cell_type": "code",
   "execution_count": 4,
   "metadata": {},
   "outputs": [],
   "source": [
    "def quickselect(series, k):\n",
    "    pivot = choice(series)\n",
    "\n",
    "    left, right = list(),list()\n",
    "    for item in series:\n",
    "        if item < pivot: \n",
    "            left.append(item)\n",
    "        if item > pivot:\n",
    "            right.append(item)\n",
    "            \n",
    "    length_left = len(left)\n",
    "    if length_left > k:\n",
    "        return quickselect(left, k)\n",
    "    k -= length_left\n",
    "\n",
    "    duplicates = len(series) - (length_left + len(right))\n",
    "    if duplicates > k:\n",
    "        return float(pivot)\n",
    "    k -= duplicates\n",
    "    \n",
    "    return quickselect(right, k)"
   ]
  },
  {
   "cell_type": "code",
   "execution_count": 5,
   "metadata": {},
   "outputs": [
    {
     "data": {
      "text/plain": [
       "12.0"
      ]
     },
     "execution_count": 5,
     "metadata": {},
     "output_type": "execute_result"
    }
   ],
   "source": [
    "quickselect(series, 250)"
   ]
  },
  {
   "cell_type": "code",
   "execution_count": 6,
   "metadata": {},
   "outputs": [],
   "source": [
    "def my_median(series):\n",
    "    if len(series) % 2 != 0:\n",
    "        return quickselect(series, len(series)//2)\n",
    "    else:\n",
    "        left  = quickselect(series, (len(series)-1) // 2)\n",
    "        right = quickselect(series, (len(series)+1) // 2)\n",
    "        return (left + right) / 2"
   ]
  },
  {
   "cell_type": "code",
   "execution_count": 7,
   "metadata": {},
   "outputs": [
    {
     "data": {
      "text/plain": [
       "12.0"
      ]
     },
     "execution_count": 7,
     "metadata": {},
     "output_type": "execute_result"
    }
   ],
   "source": [
    "my_median(series)"
   ]
  },
  {
   "cell_type": "markdown",
   "metadata": {},
   "source": [
    "### MonteCarlo simulation"
   ]
  },
  {
   "cell_type": "code",
   "execution_count": 8,
   "metadata": {},
   "outputs": [],
   "source": [
    "def quickselect(series, k, counter=0):\n",
    "    pivot = choice(series)\n",
    "\n",
    "    left, right = list(),list()\n",
    "    for item in series:\n",
    "        if item < pivot: \n",
    "            left.append(item)\n",
    "        if item > pivot:\n",
    "            right.append(item)\n",
    "    \n",
    "    counter += len(series)\n",
    "            \n",
    "    length_left = len(left)\n",
    "    if length_left > k:\n",
    "        return quickselect(left, k, counter)\n",
    "    k -= length_left\n",
    "\n",
    "    duplicates = series.count(pivot)\n",
    "    if duplicates > k:\n",
    "        return float(pivot), counter\n",
    "    k -= duplicates\n",
    "    \n",
    "    return quickselect(right, k, counter)"
   ]
  },
  {
   "cell_type": "code",
   "execution_count": 9,
   "metadata": {},
   "outputs": [
    {
     "name": "stdout",
     "output_type": "stream",
     "text": [
      "Mean operations: 27564.3649\n"
     ]
    }
   ],
   "source": [
    "results = list()\n",
    "n = 10001\n",
    "for run in range(1, n):\n",
    "    series = [randint(1, 25) for i in range(n)]\n",
    "    med, count = quickselect(series, n//2)\n",
    "    assert(med==median(series))\n",
    "    results.append(count)\n",
    "\n",
    "avg_ops = sum(results) / len(results)\n",
    "    \n",
    "print(f\"Mean operations: {avg_ops}\")"
   ]
  },
  {
   "cell_type": "code",
   "execution_count": 10,
   "metadata": {},
   "outputs": [
    {
     "data": {
      "image/png": "[encoded data removed]",
      "text/plain": [
       "<Figure size 864x432 with 1 Axes>"
      ]
     },
     "metadata": {
      "needs_background": "light"
     },
     "output_type": "display_data"
    }
   ],
   "source": [
    "import matplotlib.pyplot as plt\n",
    "\n",
    "plt.figure(figsize=(12, 6))\n",
    "plt.hist(results, bins=30, color='lightblue', \n",
    "         edgecolor='black', linewidth=1.2)\n",
    "plt.xlabel(\"Computations\")\n",
    "plt.ylabel(\"Frequency\")\n",
    "plt.show()"
   ]
  },
  {
   "cell_type": "code",
   "execution_count": 11,
   "metadata": {},
   "outputs": [],
   "source": [
    "input_size = [501, 1001, 5001, 10001, 20001, 50001]\n",
    "computations = list()\n",
    "for n in input_size:\n",
    "    results = list()\n",
    "    for run in range(1_000):\n",
    "        series = [randint(1, 25) for i in range(n)]\n",
    "        med,count = quickselect(series, n//2)\n",
    "        assert(med==median(series))\n",
    "        results.append(count)\n",
    "    avg_ops = sum(results) / len(results)\n",
    "    computations.append(avg_ops)"
   ]
  },
  {
   "cell_type": "code",
   "execution_count": 12,
   "metadata": {},
   "outputs": [
    {
     "data": {
      "image/png": "[encoded data removed]",
      "text/plain": [
       "<Figure size 864x432 with 1 Axes>"
      ]
     },
     "metadata": {
      "needs_background": "light"
     },
     "output_type": "display_data"
    }
   ],
   "source": [
    "plt.figure(figsize=(12, 6))\n",
    "plt.plot(input_size, computations, '-o')\n",
    "plt.xlabel(\"Input size\")\n",
    "plt.ylabel(\"Number of computations\")\n",
    "plt.show()"
   ]
  },
  {
   "cell_type": "markdown",
   "metadata": {},
   "source": [
    "### Quicksort"
   ]
  },
  {
   "cell_type": "code",
   "execution_count": 13,
   "metadata": {},
   "outputs": [],
   "source": [
    "def choose_leftmost(l): return l[0]"
   ]
  },
  {
   "cell_type": "code",
   "execution_count": 14,
   "metadata": {},
   "outputs": [],
   "source": [
    "def quicksort(series, get):\n",
    "    \n",
    "    try:\n",
    "        global operations\n",
    "        operations += len(series)\n",
    "    except:pass\n",
    "        \n",
    "    if len(series) <= 3:\n",
    "        return sorted(series)\n",
    "    \n",
    "    pivot = get(series)\n",
    "    duplicates = series.count(pivot)\n",
    "    \n",
    "    left, right = list(),list()\n",
    "    for item in series:\n",
    "        if item < pivot: \n",
    "            left.append(item)\n",
    "        if item > pivot:\n",
    "            right.append(item)\n",
    "            \n",
    "    return quicksort(left, get) + [pivot\n",
    "            ] * duplicates + quicksort(right, get)"
   ]
  },
  {
   "cell_type": "code",
   "execution_count": 15,
   "metadata": {},
   "outputs": [
    {
     "name": "stdout",
     "output_type": "stream",
     "text": [
      "Operations: 322\n"
     ]
    }
   ],
   "source": [
    "series = list(range(25))\n",
    "operations = 0\n",
    "sorted_list = quicksort(series, choose_leftmost)\n",
    "print(f\"Operations: {operations}\" )"
   ]
  },
  {
   "cell_type": "code",
   "execution_count": 16,
   "metadata": {},
   "outputs": [],
   "source": [
    "def choose_random(l): return choice(l)"
   ]
  },
  {
   "cell_type": "code",
   "execution_count": 17,
   "metadata": {},
   "outputs": [
    {
     "name": "stdout",
     "output_type": "stream",
     "text": [
      "Operations: 92\n"
     ]
    }
   ],
   "source": [
    "seed(0)\n",
    "series = [randint(1, 25) for i in range(25)]\n",
    "operations = 0\n",
    "sorted_list = quicksort(series, choose_random)\n",
    "print(f\"Operations: {operations}\")"
   ]
  },
  {
   "cell_type": "code",
   "execution_count": 18,
   "metadata": {},
   "outputs": [
    {
     "name": "stdout",
     "output_type": "stream",
     "text": [
      "80.47189562170502\n"
     ]
    }
   ],
   "source": [
    "import math\n",
    "print(math.log(25) * 25)"
   ]
  }
 ],
 "metadata": {
  "anaconda-cloud": {},
  "kernelspec": {
   "display_name": "Python 3",
   "language": "python",
   "name": "python3"
  },
  "language_info": {
   "codemirror_mode": {
    "name": "ipython",
    "version": 3
   },
   "file_extension": ".py",
   "mimetype": "text/x-python",
   "name": "python",
   "nbconvert_exporter": "python",
   "pygments_lexer": "ipython3",
   "version": "3.7.6"
  }
 },
 "nbformat": 4,
 "nbformat_minor": 1
}
