{
 "cells": [
  {
   "cell_type": "markdown",
   "metadata": {
    "papermill": {
     "duration": 0.012609,
     "end_time": "2021-12-04T22:10:58.518212",
     "exception": false,
     "start_time": "2021-12-04T22:10:58.505603",
     "status": "completed"
    },
    "tags": []
   },
   "source": [
    "# Finding the Shortest Route"
   ]
  },
  {
   "cell_type": "markdown",
   "metadata": {
    "papermill": {
     "duration": 0.013464,
     "end_time": "2021-12-04T22:10:59.238320",
     "exception": false,
     "start_time": "2021-12-04T22:10:59.224856",
     "status": "completed"
    },
    "tags": []
   },
   "source": [
    "## Priority queue *(Explained in the Introducing priority queues section)*"
   ]
  },
  {
   "cell_type": "code",
   "execution_count": 1,
   "metadata": {
    "execution": {
     "iopub.execute_input": "2021-12-04T22:10:59.270795Z",
     "iopub.status.busy": "2021-12-04T22:10:59.270015Z",
     "iopub.status.idle": "2021-12-04T22:10:59.272278Z",
     "shell.execute_reply": "2021-12-04T22:10:59.272857Z",
     "shell.execute_reply.started": "2021-12-04T22:06:13.275944Z"
    },
    "papermill": {
     "duration": 0.02304,
     "end_time": "2021-12-04T22:10:59.273029",
     "exception": false,
     "start_time": "2021-12-04T22:10:59.249989",
     "status": "completed"
    },
    "tags": []
   },
   "outputs": [],
   "source": [
    "from heapq import heapify, heappop, heappush\n",
    "\n",
    "class priority_queue():\n",
    "    def __init__(self):\n",
    "        self.queue = list()\n",
    "        heapify(self.queue)\n",
    "        self.index = dict()\n",
    "    def push(self, priority, label):\n",
    "        if label in self.index:\n",
    "            self.queue = [(w,l) \n",
    "                          for w,l in self.queue if l!=label]\n",
    "            heapify(self.queue)\n",
    "        heappush(self.queue, (priority, label))\n",
    "        self.index[label] = priority \n",
    "    def pop(self):\n",
    "        if self.queue:\n",
    "            return heappop(self.queue)\n",
    "    def __contains__(self, label):\n",
    "        return label in self.index\n",
    "    def __len__(self):\n",
    "        return len(self.queue)"
   ]
  },
  {
   "cell_type": "markdown",
   "metadata": {
    "papermill": {
     "duration": 0.011525,
     "end_time": "2021-12-04T22:10:59.296573",
     "exception": false,
     "start_time": "2021-12-04T22:10:59.285048",
     "status": "completed"
    },
    "tags": []
   },
   "source": [
    "## Defining what it means to find the shortest path"
   ]
  },
  {
   "cell_type": "code",
   "execution_count": 2,
   "metadata": {
    "execution": {
     "iopub.execute_input": "2021-12-04T22:10:58.546161Z",
     "iopub.status.busy": "2021-12-04T22:10:58.545011Z",
     "iopub.status.idle": "2021-12-04T22:10:59.212039Z",
     "shell.execute_reply": "2021-12-04T22:10:59.211211Z",
     "shell.execute_reply.started": "2021-12-04T22:06:13.262715Z"
    },
    "papermill": {
     "duration": 0.682171,
     "end_time": "2021-12-04T22:10:59.212262",
     "exception": false,
     "start_time": "2021-12-04T22:10:58.530091",
     "status": "completed"
    },
    "tags": []
   },
   "outputs": [],
   "source": [
    "import networkx as nx\n",
    "import matplotlib.pyplot as plt"
   ]
  },
  {
   "cell_type": "code",
   "execution_count": 3,
   "metadata": {
    "execution": {
     "iopub.execute_input": "2021-12-04T22:10:59.324052Z",
     "iopub.status.busy": "2021-12-04T22:10:59.323355Z",
     "iopub.status.idle": "2021-12-04T22:10:59.327552Z",
     "shell.execute_reply": "2021-12-04T22:10:59.328106Z",
     "shell.execute_reply.started": "2021-12-04T22:06:13.288283Z"
    },
    "papermill": {
     "duration": 0.019633,
     "end_time": "2021-12-04T22:10:59.328269",
     "exception": false,
     "start_time": "2021-12-04T22:10:59.308636",
     "status": "completed"
    },
    "tags": []
   },
   "outputs": [],
   "source": [
    "graph = {'A': {'B':2, 'C':3},\n",
    "         'B': {'C':2, 'D':2},\n",
    "         'C': {'D':3, 'E':2},\n",
    "         'D': {'F':3},\n",
    "         'E': {'D':1,'F':1},\n",
    "         'F': {}}"
   ]
  },
  {
   "cell_type": "code",
   "execution_count": 4,
   "metadata": {
    "execution": {
     "iopub.execute_input": "2021-12-04T22:10:59.354763Z",
     "iopub.status.busy": "2021-12-04T22:10:59.354120Z",
     "iopub.status.idle": "2021-12-04T22:10:59.358572Z",
     "shell.execute_reply": "2021-12-04T22:10:59.359082Z",
     "shell.execute_reply.started": "2021-12-04T22:06:13.304630Z"
    },
    "jupyter": {
     "outputs_hidden": false
    },
    "papermill": {
     "duration": 0.019213,
     "end_time": "2021-12-04T22:10:59.359285",
     "exception": false,
     "start_time": "2021-12-04T22:10:59.340072",
     "status": "completed"
    },
    "tags": []
   },
   "outputs": [],
   "source": [
    "Graph = nx.DiGraph()\n",
    "for node in graph:\n",
    "    Graph.add_nodes_from(node)\n",
    "    for edge, weight in graph[node].items():\n",
    "        Graph.add_edge(node,edge, weight=weight)"
   ]
  },
  {
   "cell_type": "code",
   "execution_count": 5,
   "metadata": {
    "execution": {
     "iopub.execute_input": "2021-12-04T22:10:59.398691Z",
     "iopub.status.busy": "2021-12-04T22:10:59.392941Z",
     "iopub.status.idle": "2021-12-04T22:10:59.762611Z",
     "shell.execute_reply": "2021-12-04T22:10:59.761910Z",
     "shell.execute_reply.started": "2021-12-04T22:06:13.317884Z"
    },
    "jupyter": {
     "outputs_hidden": false
    },
    "papermill": {
     "duration": 0.391694,
     "end_time": "2021-12-04T22:10:59.762759",
     "exception": false,
     "start_time": "2021-12-04T22:10:59.371065",
     "status": "completed"
    },
    "tags": []
   },
   "outputs": [
    {
     "data": {
      "image/png": "[encoded data removed]",
      "text/plain": [
       "<Figure size 432x288 with 1 Axes>"
      ]
     },
     "metadata": {},
     "output_type": "display_data"
    }
   ],
   "source": [
    "pos = { 'A': [0.00, 0.50], 'B': [0.25, 0.75],\n",
    "        'C': [0.25, 0.25], 'D': [0.75, 0.75],\n",
    "        'E': [0.75, 0.25], 'F': [1.00, 0.50]}\n",
    "\n",
    "labels = nx.get_edge_attributes(Graph,'weight')\n",
    "\n",
    "draw_params = {'with_labels':True,\n",
    "               'arrows': True,\n",
    "               'node_color':'skyblue',\n",
    "               'node_size':700, 'width':2, \n",
    "               'font_size':14}\n",
    "\n",
    "nx.draw(Graph, pos, **draw_params)\n",
    "nx.draw_networkx_edge_labels(Graph, pos,\n",
    "                             font_size=14,\n",
    "                             edge_labels=labels)\n",
    "plt.show()"
   ]
  },
  {
   "cell_type": "markdown",
   "metadata": {},
   "source": [
    "## Adding a negative edge"
   ]
  },
  {
   "cell_type": "code",
   "execution_count": 6,
   "metadata": {},
   "outputs": [
    {
     "data": {
      "image/png": "[encoded data removed]",
      "text/plain": [
       "<Figure size 432x288 with 1 Axes>"
      ]
     },
     "metadata": {},
     "output_type": "display_data"
    }
   ],
   "source": [
    "ngraph = {'A': {'B':2, 'C':3},\n",
    "          'B': {'C':-1, 'D':2},\n",
    "          'C': {'D':3, 'E':2},\n",
    "          'D': {'F':3},\n",
    "          'E': {'D':-1,'F':1},\n",
    "          'F': {}}\n",
    "\n",
    "nGraph = nx.DiGraph()\n",
    "for node in ngraph:\n",
    "    nGraph.add_nodes_from(node)\n",
    "    for edge, weight in ngraph[node].items():\n",
    "        nGraph.add_edge(node, edge, weight=weight)\n",
    "        \n",
    "labels = nx.get_edge_attributes(nGraph,'weight')\n",
    "\n",
    "nx.draw(nGraph, pos, **draw_params)\n",
    "nx.draw_networkx_edge_labels(nGraph, pos,\n",
    "                             font_size=14,\n",
    "                             edge_labels=labels)\n",
    "plt.title(\"negative edges\")\n",
    "plt.show()"
   ]
  },
  {
   "cell_type": "code",
   "execution_count": 7,
   "metadata": {},
   "outputs": [
    {
     "data": {
      "image/png": "[encoded data removed]",
      "text/plain": [
       "<Figure size 432x288 with 1 Axes>"
      ]
     },
     "metadata": {},
     "output_type": "display_data"
    }
   ],
   "source": [
    "ncgraph = {'A': {'B':1},\n",
    "          'B': {'C':1, 'D':2},\n",
    "          'C': {'A':-3, 'D':3, 'E':2},\n",
    "          'D': {'F':3},\n",
    "          'E': {'D':1,'F':1},\n",
    "          'F': {}}\n",
    "\n",
    "ncGraph = nx.DiGraph()\n",
    "for node in ncgraph:\n",
    "    ncGraph.add_nodes_from(node)\n",
    "    for edge, weight in ncgraph[node].items():\n",
    "        ncGraph.add_edge(node, edge, weight=weight)\n",
    "        \n",
    "labels = nx.get_edge_attributes(ncGraph,'weight')\n",
    "\n",
    "nx.draw(ncGraph, pos, **draw_params)\n",
    "nx.draw_networkx_edge_labels(ncGraph, pos,\n",
    "                             font_size=14,\n",
    "                             edge_labels=labels)\n",
    "plt.title(\"negative cycle\")\n",
    "plt.show()"
   ]
  },
  {
   "cell_type": "markdown",
   "metadata": {
    "papermill": {
     "duration": 0.012464,
     "end_time": "2021-12-04T22:10:59.788483",
     "exception": false,
     "start_time": "2021-12-04T22:10:59.776019",
     "status": "completed"
    },
    "tags": []
   },
   "source": [
    "## Explaining Dijkstra’s algorithm *(Using the graph found in the \"Defining what it means to find the shortest path\" section of the chapter)*"
   ]
  },
  {
   "cell_type": "code",
   "execution_count": 8,
   "metadata": {
    "execution": {
     "iopub.execute_input": "2021-12-04T22:10:59.823671Z",
     "iopub.status.busy": "2021-12-04T22:10:59.821798Z",
     "iopub.status.idle": "2021-12-04T22:10:59.825624Z",
     "shell.execute_reply": "2021-12-04T22:10:59.826160Z",
     "shell.execute_reply.started": "2021-12-04T22:06:13.701905Z"
    },
    "papermill": {
     "duration": 0.025148,
     "end_time": "2021-12-04T22:10:59.826328",
     "exception": false,
     "start_time": "2021-12-04T22:10:59.801180",
     "status": "completed"
    },
    "tags": []
   },
   "outputs": [],
   "source": [
    "def dijkstra(graph, start, end):\n",
    "    inf = float('inf')\n",
    "    known = set()\n",
    "    priority = priority_queue()\n",
    "    path = {start: start}\n",
    "\n",
    "    for vertex in graph:\n",
    "        if vertex == start:\n",
    "            priority.push(0, vertex)\n",
    "        else:\n",
    "            priority.push(inf, vertex)\n",
    "\n",
    "    last = start    \n",
    "    while last != end:\n",
    "        (weight, actual_node) = priority.pop()\n",
    "        if actual_node not in known:\n",
    "            for next_node in graph[actual_node]:\n",
    "                upto_actual = priority.index[actual_node]\n",
    "                upto_next = priority.index[next_node]\n",
    "                to_next = upto_actual + \\\n",
    "                graph[actual_node][next_node]\n",
    "                if to_next < upto_next:\n",
    "                    priority.push(to_next, next_node)\n",
    "                    print(\"Found shortcut from %s to %s\" \n",
    "                          % (actual_node, next_node))\n",
    "                    print(\"\\tTotal length up so far: %i\" \n",
    "                           % to_next)\n",
    "                    path[next_node] = actual_node\n",
    "                    \n",
    "            last = actual_node\n",
    "            known.add(actual_node)\n",
    "    \n",
    "    return priority.index, path"
   ]
  },
  {
   "cell_type": "code",
   "execution_count": 9,
   "metadata": {
    "execution": {
     "iopub.execute_input": "2021-12-04T22:10:59.859092Z",
     "iopub.status.busy": "2021-12-04T22:10:59.858128Z",
     "iopub.status.idle": "2021-12-04T22:10:59.861905Z",
     "shell.execute_reply": "2021-12-04T22:10:59.861273Z",
     "shell.execute_reply.started": "2021-12-04T22:06:13.715138Z"
    },
    "jupyter": {
     "outputs_hidden": false
    },
    "papermill": {
     "duration": 0.023012,
     "end_time": "2021-12-04T22:10:59.862038",
     "exception": false,
     "start_time": "2021-12-04T22:10:59.839026",
     "status": "completed"
    },
    "tags": []
   },
   "outputs": [
    {
     "name": "stdout",
     "output_type": "stream",
     "text": [
      "Found shortcut from A to B\n",
      "\tTotal length up so far: 2\n",
      "Found shortcut from A to C\n",
      "\tTotal length up so far: 3\n",
      "Found shortcut from B to D\n",
      "\tTotal length up so far: 4\n",
      "Found shortcut from C to E\n",
      "\tTotal length up so far: 5\n",
      "Found shortcut from D to F\n",
      "\tTotal length up so far: 7\n",
      "Found shortcut from E to F\n",
      "\tTotal length up so far: 6\n"
     ]
    }
   ],
   "source": [
    "dist, path = dijkstra(graph, 'A', 'F')"
   ]
  },
  {
   "cell_type": "code",
   "execution_count": 10,
   "metadata": {
    "execution": {
     "iopub.execute_input": "2021-12-04T22:10:59.894431Z",
     "iopub.status.busy": "2021-12-04T22:10:59.893441Z",
     "iopub.status.idle": "2021-12-04T22:10:59.895741Z",
     "shell.execute_reply": "2021-12-04T22:10:59.896259Z",
     "shell.execute_reply.started": "2021-12-04T22:06:13.736117Z"
    },
    "papermill": {
     "duration": 0.021519,
     "end_time": "2021-12-04T22:10:59.896425",
     "exception": false,
     "start_time": "2021-12-04T22:10:59.874906",
     "status": "completed"
    },
    "tags": []
   },
   "outputs": [],
   "source": [
    "def reverse_path(path, start, end):\n",
    "    progression = [end]\n",
    "    while progression[-1] != start:\n",
    "        progression.append(path[progression[-1]])\n",
    "    return progression[::-1]    "
   ]
  },
  {
   "cell_type": "code",
   "execution_count": 11,
   "metadata": {
    "execution": {
     "iopub.execute_input": "2021-12-04T22:10:59.925815Z",
     "iopub.status.busy": "2021-12-04T22:10:59.924862Z",
     "iopub.status.idle": "2021-12-04T22:10:59.929631Z",
     "shell.execute_reply": "2021-12-04T22:10:59.930125Z",
     "shell.execute_reply.started": "2021-12-04T22:06:13.746684Z"
    },
    "jupyter": {
     "outputs_hidden": false
    },
    "papermill": {
     "duration": 0.021082,
     "end_time": "2021-12-04T22:10:59.930280",
     "exception": false,
     "start_time": "2021-12-04T22:10:59.909198",
     "status": "completed"
    },
    "tags": []
   },
   "outputs": [
    {
     "name": "stdout",
     "output_type": "stream",
     "text": [
      "['A', 'C', 'E', 'F']\n"
     ]
    }
   ],
   "source": [
    "print(reverse_path(path, 'A', 'F'))"
   ]
  },
  {
   "cell_type": "code",
   "execution_count": 12,
   "metadata": {
    "execution": {
     "iopub.execute_input": "2021-12-04T22:10:59.961039Z",
     "iopub.status.busy": "2021-12-04T22:10:59.960020Z",
     "iopub.status.idle": "2021-12-04T22:10:59.965649Z",
     "shell.execute_reply": "2021-12-04T22:10:59.964996Z",
     "shell.execute_reply.started": "2021-12-04T22:06:13.762044Z"
    },
    "jupyter": {
     "outputs_hidden": false
    },
    "papermill": {
     "duration": 0.022531,
     "end_time": "2021-12-04T22:10:59.965799",
     "exception": false,
     "start_time": "2021-12-04T22:10:59.943268",
     "status": "completed"
    },
    "tags": []
   },
   "outputs": [
    {
     "name": "stdout",
     "output_type": "stream",
     "text": [
      "{'A': 0, 'B': 2, 'C': 3, 'D': 4, 'E': 5, 'F': 6}\n"
     ]
    }
   ],
   "source": [
    "print(dist)"
   ]
  },
  {
   "cell_type": "markdown",
   "metadata": {},
   "source": [
    "## Explaining Bellman-Ford algorithm"
   ]
  },
  {
   "cell_type": "markdown",
   "metadata": {},
   "source": [
    "### Routing information more efficiently"
   ]
  },
  {
   "cell_type": "code",
   "execution_count": 13,
   "metadata": {},
   "outputs": [],
   "source": [
    "def bellman_ford(graph, start):\n",
    "    inf = float('inf')\n",
    "    distance = {node: inf if node!=start else 0.0 for node in graph}\n",
    "    previous = {node: None for node in graph}\n",
    "\n",
    "    for actual_node in graph:\n",
    "        for next_node in graph[actual_node]:\n",
    "            edge_weight = graph[actual_node][next_node]\n",
    "            tempDistance = (distance[actual_node] +     \n",
    "                  edge_weight)\n",
    "            if tempDistance < distance[next_node]:\n",
    "                distance[next_node] = tempDistance\n",
    "                previous[next_node] = actual_node\n",
    "    return distance, previous"
   ]
  },
  {
   "cell_type": "markdown",
   "metadata": {},
   "source": [
    "### Proving algorithm versatility"
   ]
  },
  {
   "cell_type": "code",
   "execution_count": 14,
   "metadata": {},
   "outputs": [],
   "source": [
    "def detect_negative_cycle(graph, distance, previous):           \n",
    "    for actual_node in graph:\n",
    "        for next_node in graph[actual_node]:      \n",
    "            edge_weight = graph[actual_node][next_node]\n",
    "            if distance[actual_node] + edge_weight < distance[next_node]:\n",
    "                return True\n",
    "    return False\n",
    "        \n",
    "def retrace_shortest_path(previous, end):\n",
    "    path = [end]\n",
    "    while path[0] != 'A':\n",
    "        path = [previous[end]] + path\n",
    "        end = previous[end]\n",
    "    return path"
   ]
  },
  {
   "cell_type": "code",
   "execution_count": 15,
   "metadata": {},
   "outputs": [
    {
     "name": "stdout",
     "output_type": "stream",
     "text": [
      "{'A': 0.0, 'B': 2.0, 'C': 3.0, 'D': 4.0, 'E': 5.0, 'F': 6.0}\n",
      "path: ['A', 'C', 'E', 'F']\n",
      "There are negative cycles in the graph: False\n"
     ]
    }
   ],
   "source": [
    "distance, previous = bellman_ford(graph, 'A')\n",
    "print(distance)\n",
    "print(\"path:\", retrace_shortest_path(previous, 'F'))\n",
    "neg_cycle = detect_negative_cycle(graph, distance, previous)\n",
    "print(f\"There are negative cycles in the graph: {neg_cycle}\")"
   ]
  },
  {
   "cell_type": "code",
   "execution_count": 16,
   "metadata": {},
   "outputs": [
    {
     "name": "stdout",
     "output_type": "stream",
     "text": [
      "{'A': 0.0, 'B': 2.0, 'C': 1.0, 'D': 2.0, 'E': 3.0, 'F': 4.0}\n",
      "path: ['A', 'B', 'C', 'E', 'F']\n",
      "There are negative cycles in the graph: False\n"
     ]
    }
   ],
   "source": [
    "distance, previous = bellman_ford(ngraph, 'A')\n",
    "print(distance)\n",
    "print(\"path:\", retrace_shortest_path(previous, 'F'))\n",
    "neg_cycle = detect_negative_cycle(ngraph, distance, previous)\n",
    "print(f\"There are negative cycles in the graph: {neg_cycle}\")"
   ]
  },
  {
   "cell_type": "code",
   "execution_count": 17,
   "metadata": {},
   "outputs": [
    {
     "name": "stdout",
     "output_type": "stream",
     "text": [
      "{'A': -1.0, 'B': 1.0, 'C': 2.0, 'D': 3.0, 'E': 4.0, 'F': 5.0}\n",
      "path: ['A', 'B', 'C', 'E', 'F']\n",
      "There are negative cycles in the graph: True\n"
     ]
    }
   ],
   "source": [
    "distance, previous = bellman_ford(ncgraph, 'A')\n",
    "print(distance)\n",
    "print(\"path:\", retrace_shortest_path(previous, 'F'))\n",
    "neg_cycle = detect_negative_cycle(ncgraph, distance, previous)\n",
    "print(f\"There are negative cycles in the graph: {neg_cycle}\")"
   ]
  },
  {
   "cell_type": "markdown",
   "metadata": {},
   "source": [
    "## Explaining Floyd-Warshall algorithm"
   ]
  },
  {
   "cell_type": "markdown",
   "metadata": {},
   "source": [
    "### Using three passes is better"
   ]
  },
  {
   "cell_type": "code",
   "execution_count": 18,
   "metadata": {},
   "outputs": [],
   "source": [
    "def dist(graph, start, end):\n",
    "    if end in graph[start]:\n",
    "        return float(graph[start][end])\n",
    "    elif start==end:\n",
    "        return 0.0\n",
    "    else:\n",
    "        return float('inf')"
   ]
  },
  {
   "cell_type": "code",
   "execution_count": 19,
   "metadata": {},
   "outputs": [],
   "source": [
    "def floyd_warshall(graph): \n",
    "    \n",
    "    mat = {row: {col: dist(graph, row, col)\n",
    "                 for col in graph} for row in graph}\n",
    "    for k in mat:\n",
    "        for i in mat:\n",
    "            for j in mat:\n",
    "                if mat[i][j] > mat[i][k] + mat[k][j]:\n",
    "                    mat[i][j] = mat[i][k] + mat[k][j]\n",
    "    return mat"
   ]
  },
  {
   "cell_type": "code",
   "execution_count": 20,
   "metadata": {},
   "outputs": [],
   "source": [
    "def print_mat(mat):\n",
    "    els = [item for item in mat]\n",
    "    labels = [' '] + [item for item in els]\n",
    "    printable = [labels]\n",
    "    for k, row in enumerate(els):\n",
    "        printable.append([labels[k+1]] + [mat[row][col] for col in els])\n",
    "    return printable"
   ]
  },
  {
   "cell_type": "code",
   "execution_count": 21,
   "metadata": {},
   "outputs": [],
   "source": [
    "def extract_diagonal(mat):\n",
    "    return [mat[item][item] for item in mat]"
   ]
  },
  {
   "cell_type": "code",
   "execution_count": 22,
   "metadata": {},
   "outputs": [
    {
     "data": {
      "text/plain": [
       "[[' ', 'A', 'B', 'C', 'D', 'E', 'F'],\n",
       " ['A', 0.0, 2.0, 3.0, 4.0, 5.0, 6.0],\n",
       " ['B', inf, 0.0, 2.0, 2.0, 4.0, 5.0],\n",
       " ['C', inf, inf, 0.0, 3.0, 2.0, 3.0],\n",
       " ['D', inf, inf, inf, 0.0, inf, 3.0],\n",
       " ['E', inf, inf, inf, 1.0, 0.0, 1.0],\n",
       " ['F', inf, inf, inf, inf, inf, 0.0]]"
      ]
     },
     "execution_count": 22,
     "metadata": {},
     "output_type": "execute_result"
    }
   ],
   "source": [
    "print_mat(floyd_warshall(graph))"
   ]
  },
  {
   "cell_type": "code",
   "execution_count": 23,
   "metadata": {},
   "outputs": [
    {
     "data": {
      "text/plain": [
       "[[' ', 'A', 'B', 'C', 'D', 'E', 'F'],\n",
       " ['A', 0.0, 2.0, 1.0, 2.0, 3.0, 4.0],\n",
       " ['B', inf, 0.0, -1.0, 0.0, 1.0, 2.0],\n",
       " ['C', inf, inf, 0.0, 1.0, 2.0, 3.0],\n",
       " ['D', inf, inf, inf, 0.0, inf, 3.0],\n",
       " ['E', inf, inf, inf, -1.0, 0.0, 1.0],\n",
       " ['F', inf, inf, inf, inf, inf, 0.0]]"
      ]
     },
     "execution_count": 23,
     "metadata": {},
     "output_type": "execute_result"
    }
   ],
   "source": [
    "print_mat(floyd_warshall(ngraph))"
   ]
  },
  {
   "cell_type": "code",
   "execution_count": 24,
   "metadata": {},
   "outputs": [
    {
     "data": {
      "text/plain": [
       "[-1.0, -1.0, -2.0, 0.0, 0.0, 0.0]"
      ]
     },
     "execution_count": 24,
     "metadata": {},
     "output_type": "execute_result"
    }
   ],
   "source": [
    "mat = floyd_warshall(ncgraph)\n",
    "extract_diagonal(mat)"
   ]
  },
  {
   "cell_type": "code",
   "execution_count": null,
   "metadata": {},
   "outputs": [],
   "source": []
  }
 ],
 "metadata": {
  "kernelspec": {
   "display_name": "Python 3",
   "language": "python",
   "name": "python3"
  },
  "language_info": {
   "codemirror_mode": {
    "name": "ipython",
    "version": 3
   },
   "file_extension": ".py",
   "mimetype": "text/x-python",
   "name": "python",
   "nbconvert_exporter": "python",
   "pygments_lexer": "ipython3",
   "version": "3.8.3"
  },
  "papermill": {
   "default_parameters": {},
   "duration": 11.536351,
   "end_time": "2021-12-04T22:11:00.590696",
   "environment_variables": {},
   "exception": null,
   "input_path": "__notebook__.ipynb",
   "output_path": "__notebook__.ipynb",
   "parameters": {},
   "start_time": "2021-12-04T22:10:49.054345",
   "version": "2.3.3"
  }
 },
 "nbformat": 4,
 "nbformat_minor": 5
}
