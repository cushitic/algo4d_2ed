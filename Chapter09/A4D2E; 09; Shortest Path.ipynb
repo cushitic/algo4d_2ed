{
 "cells": [
  {
   "cell_type": "markdown",
   "id": "f61171a3",
   "metadata": {
    "papermill": {
     "duration": 0.027588,
     "end_time": "2021-12-07T15:23:42.668738",
     "exception": false,
     "start_time": "2021-12-07T15:23:42.641150",
     "status": "completed"
    },
    "tags": []
   },
   "source": [
    "# Shortest Path"
   ]
  },
  {
   "cell_type": "code",
   "execution_count": 1,
   "id": "bef8bb34",
   "metadata": {
    "execution": {
     "iopub.execute_input": "2021-12-07T15:23:42.729718Z",
     "iopub.status.busy": "2021-12-07T15:23:42.728326Z",
     "iopub.status.idle": "2021-12-07T15:23:43.417013Z",
     "shell.execute_reply": "2021-12-07T15:23:43.417673Z",
     "shell.execute_reply.started": "2021-12-07T14:45:44.30655Z"
    },
    "papermill": {
     "duration": 0.724102,
     "end_time": "2021-12-07T15:23:43.417968",
     "exception": false,
     "start_time": "2021-12-07T15:23:42.693866",
     "status": "completed"
    },
    "tags": []
   },
   "outputs": [],
   "source": [
    "import networkx as nx\n",
    "import matplotlib.pyplot as plt"
   ]
  },
  {
   "cell_type": "markdown",
   "id": "7fe6a9da",
   "metadata": {
    "papermill": {
     "duration": 0.021581,
     "end_time": "2021-12-07T15:23:43.462830",
     "exception": false,
     "start_time": "2021-12-07T15:23:43.441249",
     "status": "completed"
    },
    "tags": []
   },
   "source": [
    "# Priority queue (Explained in the Introducing priority queues section)"
   ]
  },
  {
   "cell_type": "code",
   "execution_count": 2,
   "id": "bab50d6a",
   "metadata": {
    "execution": {
     "iopub.execute_input": "2021-12-07T15:23:43.509246Z",
     "iopub.status.busy": "2021-12-07T15:23:43.508644Z",
     "iopub.status.idle": "2021-12-07T15:23:43.517632Z",
     "shell.execute_reply": "2021-12-07T15:23:43.518189Z",
     "shell.execute_reply.started": "2021-12-07T14:45:45.03558Z"
    },
    "papermill": {
     "duration": 0.033983,
     "end_time": "2021-12-07T15:23:43.518384",
     "exception": false,
     "start_time": "2021-12-07T15:23:43.484401",
     "status": "completed"
    },
    "tags": []
   },
   "outputs": [],
   "source": [
    "from heapq import heapify, heappop, heappush\n",
    "\n",
    "class priority_queue():\n",
    "    def __init__(self):\n",
    "        self.queue = list()\n",
    "        heapify(self.queue)\n",
    "        self.index = dict()\n",
    "    def push(self, priority, label):\n",
    "        if label in self.index:\n",
    "            self.queue = [(w,l) \n",
    "                          for w,l in self.queue if l!=label]\n",
    "            heapify(self.queue)\n",
    "        heappush(self.queue, (priority, label))\n",
    "        self.index[label] = priority \n",
    "    def pop(self):\n",
    "        if self.queue:\n",
    "            return heappop(self.queue)\n",
    "    def __contains__(self, label):\n",
    "        return label in self.index\n",
    "    def __len__(self):\n",
    "        return len(self.queue)"
   ]
  },
  {
   "cell_type": "markdown",
   "id": "6d13f6a7",
   "metadata": {
    "papermill": {
     "duration": 0.02204,
     "end_time": "2021-12-07T15:23:43.562609",
     "exception": false,
     "start_time": "2021-12-07T15:23:43.540569",
     "status": "completed"
    },
    "tags": []
   },
   "source": [
    "## Directed graphs"
   ]
  },
  {
   "cell_type": "code",
   "execution_count": 3,
   "id": "2fe43fbb",
   "metadata": {
    "execution": {
     "iopub.execute_input": "2021-12-07T15:23:43.612461Z",
     "iopub.status.busy": "2021-12-07T15:23:43.611815Z",
     "iopub.status.idle": "2021-12-07T15:23:43.613673Z",
     "shell.execute_reply": "2021-12-07T15:23:43.614276Z",
     "shell.execute_reply.started": "2021-12-07T14:45:45.045802Z"
    },
    "papermill": {
     "duration": 0.029915,
     "end_time": "2021-12-07T15:23:43.614437",
     "exception": false,
     "start_time": "2021-12-07T15:23:43.584522",
     "status": "completed"
    },
    "tags": []
   },
   "outputs": [],
   "source": [
    "graph = {'A': {'B':2, 'C':3},\n",
    "         'B': {'C':2, 'D':2},\n",
    "         'C': {'D':3, 'E':2},\n",
    "         'D': {'F':3},\n",
    "         'E': {'D':1,'F':1},\n",
    "         'F': {}}"
   ]
  },
  {
   "cell_type": "code",
   "execution_count": 4,
   "id": "132f8b1c",
   "metadata": {
    "collapsed": false,
    "execution": {
     "iopub.execute_input": "2021-12-07T15:23:43.661661Z",
     "iopub.status.busy": "2021-12-07T15:23:43.661021Z",
     "iopub.status.idle": "2021-12-07T15:23:43.665345Z",
     "shell.execute_reply": "2021-12-07T15:23:43.665965Z",
     "shell.execute_reply.started": "2021-12-07T14:45:45.061801Z"
    },
    "jupyter": {
     "outputs_hidden": false
    },
    "papermill": {
     "duration": 0.029525,
     "end_time": "2021-12-07T15:23:43.666124",
     "exception": false,
     "start_time": "2021-12-07T15:23:43.636599",
     "status": "completed"
    },
    "tags": []
   },
   "outputs": [],
   "source": [
    "Graph = nx.DiGraph()\n",
    "for node in graph:\n",
    "    Graph.add_nodes_from(node)\n",
    "    for edge, weight in graph[node].items():\n",
    "        Graph.add_edge(node, edge, weight=weight)"
   ]
  },
  {
   "cell_type": "code",
   "execution_count": 5,
   "id": "75c51801",
   "metadata": {
    "collapsed": false,
    "execution": {
     "iopub.execute_input": "2021-12-07T15:23:43.713492Z",
     "iopub.status.busy": "2021-12-07T15:23:43.712836Z",
     "iopub.status.idle": "2021-12-07T15:23:44.090118Z",
     "shell.execute_reply": "2021-12-07T15:23:44.089584Z",
     "shell.execute_reply.started": "2021-12-07T14:45:45.077499Z"
    },
    "jupyter": {
     "outputs_hidden": false
    },
    "papermill": {
     "duration": 0.402485,
     "end_time": "2021-12-07T15:23:44.090259",
     "exception": false,
     "start_time": "2021-12-07T15:23:43.687774",
     "status": "completed"
    },
    "tags": []
   },
   "outputs": [
    {
     "data": {
      "image/png": "[encoded data removed]",
      "text/plain": [
       "<Figure size 432x288 with 1 Axes>"
      ]
     },
     "metadata": {},
     "output_type": "display_data"
    }
   ],
   "source": [
    "pos = { 'A': [0.00, 0.50], 'B': [0.25, 0.75],\n",
    "        'C': [0.25, 0.25], 'D': [0.75, 0.75],\n",
    "        'E': [0.75, 0.25], 'F': [1.00, 0.50]}\n",
    "\n",
    "labels = nx.get_edge_attributes(Graph,'weight')\n",
    "\n",
    "draw_params = {'with_labels':True,\n",
    "               'arrows': True,\n",
    "               'node_color':'skyblue',\n",
    "               'node_size':700, 'width':2, \n",
    "               'font_size':14}\n",
    "\n",
    "nx.draw(Graph, pos, **draw_params)\n",
    "nx.draw_networkx_edge_labels(Graph, pos,\n",
    "                             font_size=14,\n",
    "                             edge_labels=labels)\n",
    "plt.show()"
   ]
  },
  {
   "cell_type": "code",
   "execution_count": 6,
   "id": "be87795d",
   "metadata": {
    "execution": {
     "iopub.execute_input": "2021-12-07T15:23:44.148414Z",
     "iopub.status.busy": "2021-12-07T15:23:44.147778Z",
     "iopub.status.idle": "2021-12-07T15:23:44.465296Z",
     "shell.execute_reply": "2021-12-07T15:23:44.465901Z",
     "shell.execute_reply.started": "2021-12-07T14:45:45.353053Z"
    },
    "papermill": {
     "duration": 0.351724,
     "end_time": "2021-12-07T15:23:44.466065",
     "exception": false,
     "start_time": "2021-12-07T15:23:44.114341",
     "status": "completed"
    },
    "tags": []
   },
   "outputs": [
    {
     "data": {
      "image/png": "[encoded data removed]",
      "text/plain": [
       "<Figure size 432x288 with 1 Axes>"
      ]
     },
     "metadata": {},
     "output_type": "display_data"
    }
   ],
   "source": [
    "ngraph = {'A': {'B':2, 'C':3},\n",
    "          'B': {'C':-1, 'D':2},\n",
    "          'C': {'D':3, 'E':2},\n",
    "          'D': {'F':3},\n",
    "          'E': {'D':-1,'F':1},\n",
    "          'F': {}}\n",
    "\n",
    "nGraph = nx.DiGraph()\n",
    "for node in ngraph:\n",
    "    nGraph.add_nodes_from(node)\n",
    "    for edge, weight in ngraph[node].items():\n",
    "        nGraph.add_edge(node, edge, weight=weight)\n",
    "        \n",
    "labels = nx.get_edge_attributes(nGraph,'weight')\n",
    "\n",
    "nx.draw(nGraph, pos, **draw_params)\n",
    "nx.draw_networkx_edge_labels(nGraph, pos,\n",
    "                             font_size=14,\n",
    "                             edge_labels=labels)\n",
    "plt.title(\"negative edges\")\n",
    "plt.show()"
   ]
  },
  {
   "cell_type": "code",
   "execution_count": 7,
   "id": "0149286d",
   "metadata": {
    "execution": {
     "iopub.execute_input": "2021-12-07T15:23:44.515525Z",
     "iopub.status.busy": "2021-12-07T15:23:44.514893Z",
     "iopub.status.idle": "2021-12-07T15:23:44.849759Z",
     "shell.execute_reply": "2021-12-07T15:23:44.849168Z",
     "shell.execute_reply.started": "2021-12-07T14:45:45.557716Z"
    },
    "papermill": {
     "duration": 0.360765,
     "end_time": "2021-12-07T15:23:44.849908",
     "exception": false,
     "start_time": "2021-12-07T15:23:44.489143",
     "status": "completed"
    },
    "tags": []
   },
   "outputs": [
    {
     "data": {
      "image/png": "[encoded data removed]",
      "text/plain": [
       "<Figure size 432x288 with 1 Axes>"
      ]
     },
     "metadata": {},
     "output_type": "display_data"
    }
   ],
   "source": [
    "ncgraph = {'A': {'B':1},\n",
    "          'B': {'C':1, 'D':2},\n",
    "          'C': {'A':-3, 'D':3, 'E':2},\n",
    "          'D': {'F':3},\n",
    "          'E': {'D':1,'F':1},\n",
    "          'F': {}}\n",
    "\n",
    "ncGraph = nx.DiGraph()\n",
    "for node in ncgraph:\n",
    "    ncGraph.add_nodes_from(node)\n",
    "    for edge, weight in ncgraph[node].items():\n",
    "        ncGraph.add_edge(node, edge, weight=weight)\n",
    "        \n",
    "labels = nx.get_edge_attributes(ncGraph,'weight')\n",
    "\n",
    "nx.draw(ncGraph, pos, **draw_params)\n",
    "nx.draw_networkx_edge_labels(ncGraph, pos,\n",
    "                             font_size=14,\n",
    "                             edge_labels=labels)\n",
    "plt.title(\"negative cycle\")\n",
    "plt.show()"
   ]
  },
  {
   "cell_type": "markdown",
   "id": "7aa857b9",
   "metadata": {
    "papermill": {
     "duration": 0.023901,
     "end_time": "2021-12-07T15:23:44.897841",
     "exception": false,
     "start_time": "2021-12-07T15:23:44.873940",
     "status": "completed"
    },
    "tags": []
   },
   "source": [
    "## Dijkstra algorithm"
   ]
  },
  {
   "cell_type": "code",
   "execution_count": 8,
   "id": "3929ca31",
   "metadata": {
    "execution": {
     "iopub.execute_input": "2021-12-07T15:23:44.949804Z",
     "iopub.status.busy": "2021-12-07T15:23:44.948840Z",
     "iopub.status.idle": "2021-12-07T15:23:44.957680Z",
     "shell.execute_reply": "2021-12-07T15:23:44.958288Z",
     "shell.execute_reply.started": "2021-12-07T14:45:45.751889Z"
    },
    "papermill": {
     "duration": 0.036723,
     "end_time": "2021-12-07T15:23:44.958509",
     "exception": false,
     "start_time": "2021-12-07T15:23:44.921786",
     "status": "completed"
    },
    "tags": []
   },
   "outputs": [],
   "source": [
    "def dijkstra(graph, start, end):\n",
    "    inf = float('inf')\n",
    "    known = set()\n",
    "    priority = priority_queue()\n",
    "    path = {start: start}\n",
    "\n",
    "    for vertex in graph:\n",
    "        if vertex == start:\n",
    "            priority.push(0, vertex)\n",
    "        else:\n",
    "            priority.push(inf, vertex)\n",
    "\n",
    "    last = start    \n",
    "    while last != end:\n",
    "        (weight, actual_node) = priority.pop()\n",
    "        if actual_node not in known:\n",
    "            for next_node in graph[actual_node]:\n",
    "                upto_actual = priority.index[actual_node]\n",
    "                upto_next = priority.index[next_node]\n",
    "                to_next = upto_actual + \\\n",
    "                graph[actual_node][next_node]\n",
    "                if to_next < upto_next:\n",
    "                    priority.push(to_next, next_node)\n",
    "                    print(\"Found shortcut from %s to %s\" \n",
    "                          % (actual_node, next_node))\n",
    "                    print(\"\\tTotal length up so far: %i\" \n",
    "                           % to_next)\n",
    "                    path[next_node] = actual_node\n",
    "                    \n",
    "            last = actual_node\n",
    "            known.add(actual_node)\n",
    "    \n",
    "    return priority.index, path"
   ]
  },
  {
   "cell_type": "code",
   "execution_count": 9,
   "id": "b49b7478",
   "metadata": {
    "collapsed": false,
    "execution": {
     "iopub.execute_input": "2021-12-07T15:23:45.011963Z",
     "iopub.status.busy": "2021-12-07T15:23:45.010952Z",
     "iopub.status.idle": "2021-12-07T15:23:45.017855Z",
     "shell.execute_reply": "2021-12-07T15:23:45.018325Z",
     "shell.execute_reply.started": "2021-12-07T14:45:45.762863Z"
    },
    "jupyter": {
     "outputs_hidden": false
    },
    "papermill": {
     "duration": 0.034919,
     "end_time": "2021-12-07T15:23:45.018527",
     "exception": false,
     "start_time": "2021-12-07T15:23:44.983608",
     "status": "completed"
    },
    "tags": []
   },
   "outputs": [
    {
     "name": "stdout",
     "output_type": "stream",
     "text": [
      "Found shortcut from A to B\n",
      "\tTotal length up so far: 2\n",
      "Found shortcut from A to C\n",
      "\tTotal length up so far: 3\n",
      "Found shortcut from B to D\n",
      "\tTotal length up so far: 4\n",
      "Found shortcut from C to E\n",
      "\tTotal length up so far: 5\n",
      "Found shortcut from D to F\n",
      "\tTotal length up so far: 7\n",
      "Found shortcut from E to F\n",
      "\tTotal length up so far: 6\n"
     ]
    }
   ],
   "source": [
    "dist, path = dijkstra(graph, 'A', 'F')"
   ]
  },
  {
   "cell_type": "code",
   "execution_count": 10,
   "id": "e9ce9c83",
   "metadata": {
    "execution": {
     "iopub.execute_input": "2021-12-07T15:23:45.073860Z",
     "iopub.status.busy": "2021-12-07T15:23:45.073205Z",
     "iopub.status.idle": "2021-12-07T15:23:45.075067Z",
     "shell.execute_reply": "2021-12-07T15:23:45.075596Z",
     "shell.execute_reply.started": "2021-12-07T14:45:45.784549Z"
    },
    "papermill": {
     "duration": 0.032367,
     "end_time": "2021-12-07T15:23:45.075764",
     "exception": false,
     "start_time": "2021-12-07T15:23:45.043397",
     "status": "completed"
    },
    "tags": []
   },
   "outputs": [],
   "source": [
    "def reverse_path(path, start, end):\n",
    "    progression = [end]\n",
    "    while progression[-1] != start:\n",
    "        progression.append(path[progression[-1]])\n",
    "    return progression[::-1]    "
   ]
  },
  {
   "cell_type": "code",
   "execution_count": 11,
   "id": "ba2520cf",
   "metadata": {
    "collapsed": false,
    "execution": {
     "iopub.execute_input": "2021-12-07T15:23:45.132553Z",
     "iopub.status.busy": "2021-12-07T15:23:45.131825Z",
     "iopub.status.idle": "2021-12-07T15:23:45.134624Z",
     "shell.execute_reply": "2021-12-07T15:23:45.135096Z",
     "shell.execute_reply.started": "2021-12-07T14:45:45.792894Z"
    },
    "jupyter": {
     "outputs_hidden": false
    },
    "papermill": {
     "duration": 0.03394,
     "end_time": "2021-12-07T15:23:45.135254",
     "exception": false,
     "start_time": "2021-12-07T15:23:45.101314",
     "status": "completed"
    },
    "tags": []
   },
   "outputs": [
    {
     "name": "stdout",
     "output_type": "stream",
     "text": [
      "['A', 'C', 'E', 'F']\n"
     ]
    }
   ],
   "source": [
    "print(reverse_path(path, 'A', 'F'))"
   ]
  },
  {
   "cell_type": "code",
   "execution_count": 12,
   "id": "530a0c61",
   "metadata": {
    "collapsed": false,
    "execution": {
     "iopub.execute_input": "2021-12-07T15:23:45.193325Z",
     "iopub.status.busy": "2021-12-07T15:23:45.192550Z",
     "iopub.status.idle": "2021-12-07T15:23:45.195623Z",
     "shell.execute_reply": "2021-12-07T15:23:45.196311Z",
     "shell.execute_reply.started": "2021-12-07T14:45:45.806689Z"
    },
    "jupyter": {
     "outputs_hidden": false
    },
    "papermill": {
     "duration": 0.033362,
     "end_time": "2021-12-07T15:23:45.196554",
     "exception": false,
     "start_time": "2021-12-07T15:23:45.163192",
     "status": "completed"
    },
    "tags": []
   },
   "outputs": [
    {
     "name": "stdout",
     "output_type": "stream",
     "text": [
      "{'A': 0, 'B': 2, 'C': 3, 'D': 4, 'E': 5, 'F': 6}\n"
     ]
    }
   ],
   "source": [
    "print(dist)"
   ]
  },
  {
   "cell_type": "markdown",
   "id": "81c1167e",
   "metadata": {
    "papermill": {
     "duration": 0.024822,
     "end_time": "2021-12-07T15:23:45.247978",
     "exception": false,
     "start_time": "2021-12-07T15:23:45.223156",
     "status": "completed"
    },
    "tags": []
   },
   "source": [
    "## Bellman-Ford algorithm"
   ]
  },
  {
   "cell_type": "code",
   "execution_count": 13,
   "id": "1aa1b518",
   "metadata": {
    "execution": {
     "iopub.execute_input": "2021-12-07T15:23:45.305842Z",
     "iopub.status.busy": "2021-12-07T15:23:45.304983Z",
     "iopub.status.idle": "2021-12-07T15:23:45.307524Z",
     "shell.execute_reply": "2021-12-07T15:23:45.306977Z",
     "shell.execute_reply.started": "2021-12-07T14:45:45.817104Z"
    },
    "papermill": {
     "duration": 0.034297,
     "end_time": "2021-12-07T15:23:45.307654",
     "exception": false,
     "start_time": "2021-12-07T15:23:45.273357",
     "status": "completed"
    },
    "tags": []
   },
   "outputs": [],
   "source": [
    "def bellman_ford(graph, start):\n",
    "    inf = float('inf')\n",
    "    distance = {node: inf if node!=start else 0.0 for node in graph}\n",
    "    previous = {node: None for node in graph}\n",
    "\n",
    "    for actual_node in graph:\n",
    "        for next_node in graph[actual_node]:\n",
    "            edge_weight = graph[actual_node][next_node]\n",
    "            tempDistance = distance[actual_node] + edge_weight\n",
    "            if tempDistance < distance[next_node]:\n",
    "                distance[next_node] = tempDistance\n",
    "                previous[next_node] = actual_node\n",
    "    return distance, previous"
   ]
  },
  {
   "cell_type": "code",
   "execution_count": 14,
   "id": "2f9d6c26",
   "metadata": {
    "execution": {
     "iopub.execute_input": "2021-12-07T15:23:45.471369Z",
     "iopub.status.busy": "2021-12-07T15:23:45.470365Z",
     "iopub.status.idle": "2021-12-07T15:23:45.473352Z",
     "shell.execute_reply": "2021-12-07T15:23:45.472791Z",
     "shell.execute_reply.started": "2021-12-07T14:45:45.934333Z"
    },
    "papermill": {
     "duration": 0.140352,
     "end_time": "2021-12-07T15:23:45.473521",
     "exception": false,
     "start_time": "2021-12-07T15:23:45.333169",
     "status": "completed"
    },
    "tags": []
   },
   "outputs": [],
   "source": [
    "def detect_negative_cycle(graph, distance, previous):           \n",
    "    for actual_node in graph:\n",
    "        for next_node in graph[actual_node]:      \n",
    "            edge_weight = graph[actual_node][next_node]\n",
    "            if distance[actual_node] + edge_weight < distance[next_node]:\n",
    "                return True\n",
    "    return False\n",
    "        \n",
    "def retrace_shortest_path(previous, end):\n",
    "    path = [end]\n",
    "    while path[0] != 'A':\n",
    "        path = [previous[end]] + path\n",
    "        end = previous[end]\n",
    "    return path"
   ]
  },
  {
   "cell_type": "code",
   "execution_count": 15,
   "id": "c562df2c",
   "metadata": {
    "execution": {
     "iopub.execute_input": "2021-12-07T15:23:45.530502Z",
     "iopub.status.busy": "2021-12-07T15:23:45.529748Z",
     "iopub.status.idle": "2021-12-07T15:23:45.533614Z",
     "shell.execute_reply": "2021-12-07T15:23:45.532951Z",
     "shell.execute_reply.started": "2021-12-07T14:45:45.94738Z"
    },
    "papermill": {
     "duration": 0.034926,
     "end_time": "2021-12-07T15:23:45.533750",
     "exception": false,
     "start_time": "2021-12-07T15:23:45.498824",
     "status": "completed"
    },
    "tags": []
   },
   "outputs": [
    {
     "name": "stdout",
     "output_type": "stream",
     "text": [
      "{'A': 0.0, 'B': 2.0, 'C': 3.0, 'D': 4.0, 'E': 5.0, 'F': 6.0}\n",
      "path: ['A', 'C', 'E', 'F']\n",
      "There are negative cycles in the graph: False\n"
     ]
    }
   ],
   "source": [
    "distance, previous = bellman_ford(graph, 'A')\n",
    "print(distance)\n",
    "print(\"path:\", retrace_shortest_path(previous, 'F'))\n",
    "neg_cycle = detect_negative_cycle(graph, distance, previous)\n",
    "print(f\"There are negative cycles in the graph: {neg_cycle}\")"
   ]
  },
  {
   "cell_type": "code",
   "execution_count": 16,
   "id": "2422074b",
   "metadata": {
    "execution": {
     "iopub.execute_input": "2021-12-07T15:23:45.591087Z",
     "iopub.status.busy": "2021-12-07T15:23:45.590390Z",
     "iopub.status.idle": "2021-12-07T15:23:45.592722Z",
     "shell.execute_reply": "2021-12-07T15:23:45.593225Z",
     "shell.execute_reply.started": "2021-12-07T14:45:45.966469Z"
    },
    "papermill": {
     "duration": 0.033889,
     "end_time": "2021-12-07T15:23:45.593380",
     "exception": false,
     "start_time": "2021-12-07T15:23:45.559491",
     "status": "completed"
    },
    "tags": []
   },
   "outputs": [
    {
     "name": "stdout",
     "output_type": "stream",
     "text": [
      "{'A': 0.0, 'B': 2.0, 'C': 1.0, 'D': 2.0, 'E': 3.0, 'F': 4.0}\n",
      "path: ['A', 'B', 'C', 'E', 'F']\n",
      "There are negative cycles in the graph: False\n"
     ]
    }
   ],
   "source": [
    "distance, previous = bellman_ford(ngraph, 'A')\n",
    "print(distance)\n",
    "print(\"path:\", retrace_shortest_path(previous, 'F'))\n",
    "neg_cycle = detect_negative_cycle(ngraph, distance, previous)\n",
    "print(f\"There are negative cycles in the graph: {neg_cycle}\")"
   ]
  },
  {
   "cell_type": "code",
   "execution_count": 17,
   "id": "3fb7e323",
   "metadata": {
    "execution": {
     "iopub.execute_input": "2021-12-07T15:23:45.651239Z",
     "iopub.status.busy": "2021-12-07T15:23:45.650621Z",
     "iopub.status.idle": "2021-12-07T15:23:45.654346Z",
     "shell.execute_reply": "2021-12-07T15:23:45.654886Z",
     "shell.execute_reply.started": "2021-12-07T14:45:45.980556Z"
    },
    "papermill": {
     "duration": 0.035504,
     "end_time": "2021-12-07T15:23:45.655045",
     "exception": false,
     "start_time": "2021-12-07T15:23:45.619541",
     "status": "completed"
    },
    "tags": []
   },
   "outputs": [
    {
     "name": "stdout",
     "output_type": "stream",
     "text": [
      "{'A': -1.0, 'B': 1.0, 'C': 2.0, 'D': 3.0, 'E': 4.0, 'F': 5.0}\n",
      "path: ['A', 'B', 'C', 'E', 'F']\n",
      "There are negative cycles in the graph: True\n"
     ]
    }
   ],
   "source": [
    "distance, previous = bellman_ford(ncgraph, 'A')\n",
    "print(distance)\n",
    "print(\"path:\", retrace_shortest_path(previous, 'F'))\n",
    "neg_cycle = detect_negative_cycle(ncgraph, distance, previous)\n",
    "print(f\"There are negative cycles in the graph: {neg_cycle}\")"
   ]
  },
  {
   "cell_type": "markdown",
   "id": "1d1d2851",
   "metadata": {
    "papermill": {
     "duration": 0.025772,
     "end_time": "2021-12-07T15:23:45.706883",
     "exception": false,
     "start_time": "2021-12-07T15:23:45.681111",
     "status": "completed"
    },
    "tags": []
   },
   "source": [
    "## Floyd-Warshall algorithm"
   ]
  },
  {
   "cell_type": "code",
   "execution_count": 18,
   "id": "cb8084fa",
   "metadata": {
    "execution": {
     "iopub.execute_input": "2021-12-07T15:23:45.767923Z",
     "iopub.status.busy": "2021-12-07T15:23:45.767269Z",
     "iopub.status.idle": "2021-12-07T15:23:45.770285Z",
     "shell.execute_reply": "2021-12-07T15:23:45.769672Z",
     "shell.execute_reply.started": "2021-12-07T15:13:08.327403Z"
    },
    "papermill": {
     "duration": 0.037264,
     "end_time": "2021-12-07T15:23:45.770414",
     "exception": false,
     "start_time": "2021-12-07T15:23:45.733150",
     "status": "completed"
    },
    "tags": []
   },
   "outputs": [],
   "source": [
    "graph = graph\n",
    "\n",
    "def dist(graph, start, end):\n",
    "    if end in graph[start]:\n",
    "        return float(graph[start][end])\n",
    "    elif start==end:\n",
    "        return 0.0\n",
    "    else:\n",
    "        return float('inf')\n",
    "\n",
    "def floyd_warshall(graph): \n",
    "    \n",
    "    mat = {row: {col: dist(graph, row, col)\n",
    "                 for col in graph} for row in graph}\n",
    "\n",
    "    for k in mat:\n",
    "        for i in mat:\n",
    "            for j in mat:\n",
    "                if mat[i][j] > mat[i][k] + mat[k][j]:\n",
    "                    mat[i][j] = mat[i][k] + mat[k][j]\n",
    "    \n",
    "    return mat"
   ]
  },
  {
   "cell_type": "code",
   "execution_count": 19,
   "id": "b91400b6",
   "metadata": {
    "execution": {
     "iopub.execute_input": "2021-12-07T15:23:45.830178Z",
     "iopub.status.busy": "2021-12-07T15:23:45.829515Z",
     "iopub.status.idle": "2021-12-07T15:23:45.832574Z",
     "shell.execute_reply": "2021-12-07T15:23:45.832069Z",
     "shell.execute_reply.started": "2021-12-07T15:13:08.73333Z"
    },
    "papermill": {
     "duration": 0.03622,
     "end_time": "2021-12-07T15:23:45.832711",
     "exception": false,
     "start_time": "2021-12-07T15:23:45.796491",
     "status": "completed"
    },
    "tags": []
   },
   "outputs": [],
   "source": [
    "def print_mat(mat):\n",
    "    els = [item for item in mat]\n",
    "    labels = [' '] + [item for item in els]\n",
    "    printable = [labels]\n",
    "    for k, row in enumerate(els):\n",
    "        printable.append([labels[k+1]] + [mat[row][col] for col in els])\n",
    "    return printable\n",
    "\n",
    "def extract_diagonal(mat):\n",
    "    return [mat[item][item] for item in mat]"
   ]
  },
  {
   "cell_type": "code",
   "execution_count": 20,
   "id": "8ee0cb6f",
   "metadata": {
    "execution": {
     "iopub.execute_input": "2021-12-07T15:23:45.891628Z",
     "iopub.status.busy": "2021-12-07T15:23:45.890970Z",
     "iopub.status.idle": "2021-12-07T15:23:45.893432Z",
     "shell.execute_reply": "2021-12-07T15:23:45.893929Z",
     "shell.execute_reply.started": "2021-12-07T15:13:09.158429Z"
    },
    "papermill": {
     "duration": 0.035027,
     "end_time": "2021-12-07T15:23:45.894082",
     "exception": false,
     "start_time": "2021-12-07T15:23:45.859055",
     "status": "completed"
    },
    "tags": []
   },
   "outputs": [
    {
     "data": {
      "text/plain": [
       "[[' ', 'A', 'B', 'C', 'D', 'E', 'F'],\n",
       " ['A', 0.0, 2.0, 3.0, 4.0, 5.0, 6.0],\n",
       " ['B', inf, 0.0, 2.0, 2.0, 4.0, 5.0],\n",
       " ['C', inf, inf, 0.0, 3.0, 2.0, 3.0],\n",
       " ['D', inf, inf, inf, 0.0, inf, 3.0],\n",
       " ['E', inf, inf, inf, 1.0, 0.0, 1.0],\n",
       " ['F', inf, inf, inf, inf, inf, 0.0]]"
      ]
     },
     "execution_count": 20,
     "metadata": {},
     "output_type": "execute_result"
    }
   ],
   "source": [
    "print_mat(floyd_warshall(graph))"
   ]
  },
  {
   "cell_type": "code",
   "execution_count": 21,
   "id": "309d1abd",
   "metadata": {
    "execution": {
     "iopub.execute_input": "2021-12-07T15:23:45.955100Z",
     "iopub.status.busy": "2021-12-07T15:23:45.954155Z",
     "iopub.status.idle": "2021-12-07T15:23:45.958201Z",
     "shell.execute_reply": "2021-12-07T15:23:45.957680Z",
     "shell.execute_reply.started": "2021-12-07T15:13:09.834621Z"
    },
    "papermill": {
     "duration": 0.037054,
     "end_time": "2021-12-07T15:23:45.958331",
     "exception": false,
     "start_time": "2021-12-07T15:23:45.921277",
     "status": "completed"
    },
    "tags": []
   },
   "outputs": [
    {
     "data": {
      "text/plain": [
       "[[' ', 'A', 'B', 'C', 'D', 'E', 'F'],\n",
       " ['A', 0.0, 2.0, 1.0, 2.0, 3.0, 4.0],\n",
       " ['B', inf, 0.0, -1.0, 0.0, 1.0, 2.0],\n",
       " ['C', inf, inf, 0.0, 1.0, 2.0, 3.0],\n",
       " ['D', inf, inf, inf, 0.0, inf, 3.0],\n",
       " ['E', inf, inf, inf, -1.0, 0.0, 1.0],\n",
       " ['F', inf, inf, inf, inf, inf, 0.0]]"
      ]
     },
     "execution_count": 21,
     "metadata": {},
     "output_type": "execute_result"
    }
   ],
   "source": [
    "print_mat(floyd_warshall(ngraph))"
   ]
  },
  {
   "cell_type": "code",
   "execution_count": 22,
   "id": "7f072970",
   "metadata": {
    "execution": {
     "iopub.execute_input": "2021-12-07T15:23:46.018476Z",
     "iopub.status.busy": "2021-12-07T15:23:46.017729Z",
     "iopub.status.idle": "2021-12-07T15:23:46.020754Z",
     "shell.execute_reply": "2021-12-07T15:23:46.020230Z",
     "shell.execute_reply.started": "2021-12-07T15:13:10.638317Z"
    },
    "papermill": {
     "duration": 0.03555,
     "end_time": "2021-12-07T15:23:46.020889",
     "exception": false,
     "start_time": "2021-12-07T15:23:45.985339",
     "status": "completed"
    },
    "tags": []
   },
   "outputs": [
    {
     "data": {
      "text/plain": [
       "[-1.0, -1.0, -2.0, 0.0, 0.0, 0.0]"
      ]
     },
     "execution_count": 22,
     "metadata": {},
     "output_type": "execute_result"
    }
   ],
   "source": [
    "mat = floyd_warshall(ncgraph)\n",
    "extract_diagonal(mat)"
   ]
  }
 ],
 "metadata": {
  "kernelspec": {
   "display_name": "Python 3",
   "language": "python",
   "name": "python3"
  },
  "language_info": {
   "codemirror_mode": {
    "name": "ipython",
    "version": 3
   },
   "file_extension": ".py",
   "mimetype": "text/x-python",
   "name": "python",
   "nbconvert_exporter": "python",
   "pygments_lexer": "ipython3",
   "version": "3.7.10"
  },
  "papermill": {
   "default_parameters": {},
   "duration": 13.247765,
   "end_time": "2021-12-07T15:23:46.657516",
   "environment_variables": {},
   "exception": null,
   "input_path": "__notebook__.ipynb",
   "output_path": "__notebook__.ipynb",
   "parameters": {},
   "start_time": "2021-12-07T15:23:33.409751",
   "version": "2.3.3"
  }
 },
 "nbformat": 4,
 "nbformat_minor": 5
}
