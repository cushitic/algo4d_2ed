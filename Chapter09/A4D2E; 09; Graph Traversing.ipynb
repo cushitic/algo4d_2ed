{
 "cells": [
  {
   "cell_type": "markdown",
   "id": "18fd7392",
   "metadata": {
    "papermill": {
     "duration": 0.008528,
     "end_time": "2021-12-04T17:29:32.760426",
     "exception": false,
     "start_time": "2021-12-04T17:29:32.751898",
     "status": "completed"
    },
    "tags": []
   },
   "source": [
    "# Graph Traversing"
   ]
  },
  {
   "cell_type": "markdown",
   "id": "7ac6d6b0",
   "metadata": {
    "papermill": {
     "duration": 0.007069,
     "end_time": "2021-12-04T17:29:32.775514",
     "exception": false,
     "start_time": "2021-12-04T17:29:32.768445",
     "status": "completed"
    },
    "tags": []
   },
   "source": [
    "## Undirected, unweighted graph"
   ]
  },
  {
   "cell_type": "code",
   "execution_count": 1,
   "id": "a5c7ab72",
   "metadata": {
    "execution": {
     "iopub.execute_input": "2021-12-04T17:29:32.799154Z",
     "iopub.status.busy": "2021-12-04T17:29:32.798489Z",
     "iopub.status.idle": "2021-12-04T17:29:32.804717Z",
     "shell.execute_reply": "2021-12-04T17:29:32.805262Z",
     "shell.execute_reply.started": "2021-12-04T17:11:16.426886Z"
    },
    "papermill": {
     "duration": 0.022458,
     "end_time": "2021-12-04T17:29:32.805541",
     "exception": false,
     "start_time": "2021-12-04T17:29:32.783083",
     "status": "completed"
    },
    "tags": []
   },
   "outputs": [],
   "source": [
    "graph = {'A': ['B', 'C'],\n",
    "         'B': ['A', 'C', 'D'],\n",
    "         'C': ['A', 'B', 'D', 'E'],\n",
    "         'D': ['B', 'C', 'E', 'F'],\n",
    "         'E': ['C', 'D', 'F'],\n",
    "         'F': ['D', 'E']}"
   ]
  },
  {
   "cell_type": "code",
   "execution_count": 2,
   "id": "dee8e928",
   "metadata": {
    "execution": {
     "iopub.execute_input": "2021-12-04T17:29:32.823562Z",
     "iopub.status.busy": "2021-12-04T17:29:32.822929Z",
     "iopub.status.idle": "2021-12-04T17:29:33.486364Z",
     "shell.execute_reply": "2021-12-04T17:29:33.486997Z",
     "shell.execute_reply.started": "2021-12-04T17:11:16.439853Z"
    },
    "papermill": {
     "duration": 0.674237,
     "end_time": "2021-12-04T17:29:33.487219",
     "exception": false,
     "start_time": "2021-12-04T17:29:32.812982",
     "status": "completed"
    },
    "tags": []
   },
   "outputs": [],
   "source": [
    "import networkx as nx\n",
    "import matplotlib.pyplot as plt"
   ]
  },
  {
   "cell_type": "code",
   "execution_count": 3,
   "id": "e56d32f9",
   "metadata": {
    "collapsed": false,
    "execution": {
     "iopub.execute_input": "2021-12-04T17:29:33.508077Z",
     "iopub.status.busy": "2021-12-04T17:29:33.507419Z",
     "iopub.status.idle": "2021-12-04T17:29:33.692749Z",
     "shell.execute_reply": "2021-12-04T17:29:33.693253Z",
     "shell.execute_reply.started": "2021-12-04T17:13:50.650473Z"
    },
    "jupyter": {
     "outputs_hidden": false
    },
    "papermill": {
     "duration": 0.1963,
     "end_time": "2021-12-04T17:29:33.693418",
     "exception": false,
     "start_time": "2021-12-04T17:29:33.497118",
     "status": "completed"
    },
    "tags": []
   },
   "outputs": [
    {
     "data": {
      "image/png": "[encoded data removed]",
      "text/plain": [
       "<Figure size 432x288 with 1 Axes>"
      ]
     },
     "metadata": {},
     "output_type": "display_data"
    }
   ],
   "source": [
    "Graph = nx.Graph()\n",
    "for node in graph:\n",
    "    Graph.add_nodes_from(node)\n",
    "    for edge in graph[node]:\n",
    "        Graph.add_edge(node,edge)\n",
    "\n",
    "pos = { 'A': [0.00, 0.50], 'B': [0.25, 0.75],\n",
    "        'C': [0.25, 0.25], 'D': [0.75, 0.75],\n",
    "        'E': [0.75, 0.25], 'F': [1.00, 0.50]}\n",
    "\n",
    "draw_params = {'with_labels':True,\n",
    "               'node_color':'skyblue',\n",
    "               'node_size':700, 'width':2, \n",
    "               'font_size':14}\n",
    "\n",
    "nx.draw(Graph, pos, **draw_params)\n",
    "plt.show()"
   ]
  },
  {
   "cell_type": "markdown",
   "id": "b6b78666",
   "metadata": {
    "papermill": {
     "duration": 0.007808,
     "end_time": "2021-12-04T17:29:33.709766",
     "exception": false,
     "start_time": "2021-12-04T17:29:33.701958",
     "status": "completed"
    },
    "tags": []
   },
   "source": [
    "## Breadth First Search"
   ]
  },
  {
   "cell_type": "code",
   "execution_count": 4,
   "id": "a7c8e6a6",
   "metadata": {
    "collapsed": false,
    "execution": {
     "iopub.execute_input": "2021-12-04T17:29:33.734993Z",
     "iopub.status.busy": "2021-12-04T17:29:33.734256Z",
     "iopub.status.idle": "2021-12-04T17:29:33.740062Z",
     "shell.execute_reply": "2021-12-04T17:29:33.739303Z",
     "shell.execute_reply.started": "2021-12-04T17:19:33.231993Z"
    },
    "jupyter": {
     "outputs_hidden": false
    },
    "papermill": {
     "duration": 0.022334,
     "end_time": "2021-12-04T17:29:33.740243",
     "exception": false,
     "start_time": "2021-12-04T17:29:33.717909",
     "status": "completed"
    },
    "tags": []
   },
   "outputs": [
    {
     "name": "stdout",
     "output_type": "stream",
     "text": [
      "Queue is: ['A']\n",
      "Processing A\n",
      "Adding B to the queue\n",
      "Adding C to the queue\n",
      "Queue is: ['B', 'C']\n",
      "Processing B\n",
      "Adding D to the queue\n",
      "Queue is: ['C', 'D']\n",
      "Processing C\n",
      "Adding E to the queue\n",
      "Queue is: ['D', 'E']\n",
      "Processing D\n",
      "Adding F to the queue\n",
      "Queue is: ['E', 'F']\n",
      "Processing E\n",
      "Queue is: ['F']\n",
      "Processing F\n",
      "\n",
      "BFS: ['A>B', 'A>C', 'B>D', 'C>E', 'D>F']\n"
     ]
    }
   ],
   "source": [
    "def bfs(graph, start):\n",
    "    queue = [start]\n",
    "    queued = [start]\n",
    "    path = list()\n",
    "    while queue:\n",
    "        print ('Queue is: %s' % queue)\n",
    "        vertex = queue.pop(0)\n",
    "        print ('Processing %s' % vertex)\n",
    "        for candidate in graph[vertex]:\n",
    "            if candidate not in queued:\n",
    "                queued.append(candidate)\n",
    "                queue.append(candidate)\n",
    "                path.append(vertex+'>'+candidate)\n",
    "                print ('Adding %s to the queue' \n",
    "                       % candidate)\n",
    "    return path\n",
    "\n",
    "steps = bfs(graph, 'A')\n",
    "print ('\\nBFS:', steps)"
   ]
  },
  {
   "cell_type": "markdown",
   "id": "382b2bab",
   "metadata": {
    "papermill": {
     "duration": 0.008598,
     "end_time": "2021-12-04T17:29:33.757924",
     "exception": false,
     "start_time": "2021-12-04T17:29:33.749326",
     "status": "completed"
    },
    "tags": []
   },
   "source": [
    "## Depth First Search"
   ]
  },
  {
   "cell_type": "code",
   "execution_count": 5,
   "id": "54682590",
   "metadata": {
    "collapsed": false,
    "execution": {
     "iopub.execute_input": "2021-12-04T17:29:33.778594Z",
     "iopub.status.busy": "2021-12-04T17:29:33.777915Z",
     "iopub.status.idle": "2021-12-04T17:29:33.787399Z",
     "shell.execute_reply": "2021-12-04T17:29:33.788087Z",
     "shell.execute_reply.started": "2021-12-04T17:15:05.266806Z"
    },
    "jupyter": {
     "outputs_hidden": false
    },
    "papermill": {
     "duration": 0.021728,
     "end_time": "2021-12-04T17:29:33.788309",
     "exception": false,
     "start_time": "2021-12-04T17:29:33.766581",
     "status": "completed"
    },
    "tags": []
   },
   "outputs": [
    {
     "name": "stdout",
     "output_type": "stream",
     "text": [
      "Stack is: ['A']\n",
      "Processing A\n",
      "Adding B to the stack\n",
      "Adding C to the stack\n",
      "Stack is: ['B', 'C']\n",
      "Processing C\n",
      "Adding D to the stack\n",
      "Adding E to the stack\n",
      "Stack is: ['B', 'D', 'E']\n",
      "Processing E\n",
      "Adding F to the stack\n",
      "Stack is: ['B', 'D', 'F']\n",
      "Processing F\n",
      "Stack is: ['B', 'D']\n",
      "Processing D\n",
      "Stack is: ['B']\n",
      "Processing B\n",
      "\n",
      "DFS: ['A>C', 'C>E', 'E>F', 'C>D', 'A>B']\n"
     ]
    }
   ],
   "source": [
    "def dfs(graph, start):\n",
    "    stack = [start]\n",
    "    parents = {start: start}\n",
    "    path = list()\n",
    "    while stack:\n",
    "        print ('Stack is: %s' % stack)\n",
    "        vertex = stack.pop(-1)\n",
    "        print ('Processing %s' % vertex)\n",
    "        for candidate in graph[vertex]:\n",
    "            if candidate not in parents:\n",
    "                parents[candidate] = vertex\n",
    "                stack.append(candidate)\n",
    "                print ('Adding %s to the stack' \n",
    "                       % candidate)\n",
    "        path.append(parents[vertex]+'>'+vertex)\n",
    "    return path[1:]\n",
    "\n",
    "steps = dfs(graph, 'A')\n",
    "print ('\\nDFS:', steps)"
   ]
  }
 ],
 "metadata": {
  "kernelspec": {
   "display_name": "Python 3",
   "language": "python",
   "name": "python3"
  },
  "language_info": {
   "codemirror_mode": {
    "name": "ipython",
    "version": 3
   },
   "file_extension": ".py",
   "mimetype": "text/x-python",
   "name": "python",
   "nbconvert_exporter": "python",
   "pygments_lexer": "ipython3",
   "version": "3.7.10"
  },
  "papermill": {
   "default_parameters": {},
   "duration": 10.953444,
   "end_time": "2021-12-04T17:29:34.407809",
   "environment_variables": {},
   "exception": null,
   "input_path": "__notebook__.ipynb",
   "output_path": "__notebook__.ipynb",
   "parameters": {},
   "start_time": "2021-12-04T17:29:23.454365",
   "version": "2.3.3"
  }
 },
 "nbformat": 4,
 "nbformat_minor": 5
}
