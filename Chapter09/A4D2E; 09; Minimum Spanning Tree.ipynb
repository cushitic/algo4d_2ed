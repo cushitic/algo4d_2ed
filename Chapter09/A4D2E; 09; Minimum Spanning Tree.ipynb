{
 "cells": [
  {
   "cell_type": "markdown",
   "metadata": {
    "papermill": {
     "duration": 0.008885,
     "end_time": "2021-12-04T18:06:21.154657",
     "exception": false,
     "start_time": "2021-12-04T18:06:21.145772",
     "status": "completed"
    },
    "tags": []
   },
   "source": [
    "# Reducing to a Minimum Spanning Tree"
   ]
  },
  {
   "cell_type": "markdown",
   "metadata": {
    "papermill": {
     "duration": 0.008571,
     "end_time": "2021-12-04T18:06:21.887506",
     "exception": false,
     "start_time": "2021-12-04T18:06:21.878935",
     "status": "completed"
    },
    "tags": []
   },
   "source": [
    "## Creating a minimum spanning tree example"
   ]
  },
  {
   "cell_type": "code",
   "execution_count": 1,
   "metadata": {
    "execution": {
     "iopub.execute_input": "2021-12-04T18:06:21.174481Z",
     "iopub.status.busy": "2021-12-04T18:06:21.173373Z",
     "iopub.status.idle": "2021-12-04T18:06:21.870541Z",
     "shell.execute_reply": "2021-12-04T18:06:21.869663Z",
     "shell.execute_reply.started": "2021-12-04T17:47:58.723302Z"
    },
    "papermill": {
     "duration": 0.708176,
     "end_time": "2021-12-04T18:06:21.870788",
     "exception": false,
     "start_time": "2021-12-04T18:06:21.162612",
     "status": "completed"
    },
    "tags": []
   },
   "outputs": [],
   "source": [
    "import networkx as nx\n",
    "import matplotlib.pyplot as plt"
   ]
  },
  {
   "cell_type": "code",
   "execution_count": 2,
   "metadata": {
    "execution": {
     "iopub.execute_input": "2021-12-04T18:06:21.915566Z",
     "iopub.status.busy": "2021-12-04T18:06:21.914769Z",
     "iopub.status.idle": "2021-12-04T18:06:22.128448Z",
     "shell.execute_reply": "2021-12-04T18:06:22.127789Z",
     "shell.execute_reply.started": "2021-12-04T17:50:33.469182Z"
    },
    "jupyter": {
     "outputs_hidden": false
    },
    "papermill": {
     "duration": 0.230543,
     "end_time": "2021-12-04T18:06:22.128598",
     "exception": false,
     "start_time": "2021-12-04T18:06:21.898055",
     "status": "completed"
    },
    "tags": []
   },
   "outputs": [
    {
     "data": {
      "image/png": "[encoded data removed]",
      "text/plain": [
       "<Figure size 432x288 with 1 Axes>"
      ]
     },
     "metadata": {},
     "output_type": "display_data"
    }
   ],
   "source": [
    "graph = {'A': {'B':2, 'C':3},\n",
    "         'B': {'A':2, 'C':2, 'D':2},\n",
    "         'C': {'A':3, 'B':2, 'D':3, 'E':2},\n",
    "         'D': {'B':2, 'C':3, 'E':1, 'F':3},\n",
    "         'E': {'C':2, 'D':1, 'F':1},\n",
    "         'F': {'D':3, 'E':1}}\n",
    "\n",
    "Graph = nx.Graph()\n",
    "for node in graph:\n",
    "    Graph.add_nodes_from(node)\n",
    "    for edge, weight in graph[node].items():\n",
    "        Graph.add_edge(node,edge, weight=weight)\n",
    "\n",
    "pos = { 'A': [0.00, 0.50], 'B': [0.25, 0.75],\n",
    "        'C': [0.25, 0.25], 'D': [0.75, 0.75],\n",
    "        'E': [0.75, 0.25], 'F': [1.00, 0.50]}\n",
    "\n",
    "draw_params = {'with_labels':True,\n",
    "               'arrows': True,\n",
    "               'node_color':'skyblue',\n",
    "               'node_size':700, 'width':2, \n",
    "               'font_size':14}\n",
    "\n",
    "labels = nx.get_edge_attributes(Graph,'weight')\n",
    "nx.draw(Graph, pos, **draw_params)\n",
    "nx.draw_networkx_edge_labels(Graph, pos, \n",
    "                             font_size=14,\n",
    "                             edge_labels=labels)\n",
    "plt.show()"
   ]
  },
  {
   "cell_type": "markdown",
   "metadata": {
    "papermill": {
     "duration": 0.00795,
     "end_time": "2021-12-04T18:06:22.146088",
     "exception": false,
     "start_time": "2021-12-04T18:06:22.138138",
     "status": "completed"
    },
    "tags": []
   },
   "source": [
    "## Introducing priority queues"
   ]
  },
  {
   "cell_type": "code",
   "execution_count": 3,
   "metadata": {
    "execution": {
     "iopub.execute_input": "2021-12-04T18:06:22.171701Z",
     "iopub.status.busy": "2021-12-04T18:06:22.170685Z",
     "iopub.status.idle": "2021-12-04T18:06:22.172778Z",
     "shell.execute_reply": "2021-12-04T18:06:22.173231Z",
     "shell.execute_reply.started": "2021-12-04T17:49:08.718089Z"
    },
    "papermill": {
     "duration": 0.018906,
     "end_time": "2021-12-04T18:06:22.173416",
     "exception": false,
     "start_time": "2021-12-04T18:06:22.154510",
     "status": "completed"
    },
    "tags": []
   },
   "outputs": [],
   "source": [
    "from heapq import heapify, heappop, heappush\n",
    "\n",
    "class priority_queue():\n",
    "    def __init__(self):\n",
    "        self.queue = list()\n",
    "        heapify(self.queue)\n",
    "        self.index = dict()\n",
    "    def push(self, priority, label):\n",
    "        if label in self.index:\n",
    "            self.queue = [(w,l) \n",
    "                for w,l in self.queue if l!=label]\n",
    "            heapify(self.queue)\n",
    "        heappush(self.queue, (priority, label))\n",
    "        self.index[label] = priority \n",
    "    def pop(self):\n",
    "        if self.queue:\n",
    "            return heappop(self.queue)\n",
    "    def __contains__(self, label):\n",
    "        return label in self.index\n",
    "    def __len__(self):\n",
    "        return len(self.queue)"
   ]
  },
  {
   "cell_type": "markdown",
   "metadata": {
    "papermill": {
     "duration": 0.008142,
     "end_time": "2021-12-04T18:06:22.189847",
     "exception": false,
     "start_time": "2021-12-04T18:06:22.181705",
     "status": "completed"
    },
    "tags": []
   },
   "source": [
    "## Leveraging Prim’s algorithm"
   ]
  },
  {
   "cell_type": "code",
   "execution_count": 4,
   "metadata": {
    "execution": {
     "iopub.execute_input": "2021-12-04T18:06:22.216307Z",
     "iopub.status.busy": "2021-12-04T18:06:22.215281Z",
     "iopub.status.idle": "2021-12-04T18:06:22.218539Z",
     "shell.execute_reply": "2021-12-04T18:06:22.218994Z",
     "shell.execute_reply.started": "2021-12-04T17:49:17.680343Z"
    },
    "jupyter": {
     "outputs_hidden": false
    },
    "papermill": {
     "duration": 0.02075,
     "end_time": "2021-12-04T18:06:22.219169",
     "exception": false,
     "start_time": "2021-12-04T18:06:22.198419",
     "status": "completed"
    },
    "tags": []
   },
   "outputs": [
    {
     "name": "stdout",
     "output_type": "stream",
     "text": [
      "Added edge from A to B weighting 2\n",
      "Added edge from B to C weighting 2\n",
      "Added edge from B to D weighting 2\n",
      "Added edge from D to E weighting 1\n",
      "Added edge from E to F weighting 1\n",
      "Total spanning tree length: 8\n"
     ]
    }
   ],
   "source": [
    "def prim(graph, start):\n",
    "    treepath = {}\n",
    "    total = 0\n",
    "    queue = priority_queue()\n",
    "    queue.push(0 , (start, start))\n",
    "    while queue:\n",
    "        weight, (node_start, node_end) = queue.pop()\n",
    "        if node_end not in treepath:\n",
    "            treepath[node_end] = node_start\n",
    "            if weight:\n",
    "                print(\"Added edge from %s\" \\\n",
    "                      \" to %s weighting %i\"\n",
    "                      % (node_start, node_end, weight))\n",
    "                total += weight\n",
    "            for next_node, weight \\\n",
    "            in graph[node_end].items():\n",
    "                queue.push(weight , (node_end, next_node))\n",
    "    print(\"Total spanning tree length: %i\" % total)\n",
    "    return treepath\n",
    "\n",
    "treepath = prim(graph, 'A')"
   ]
  },
  {
   "cell_type": "code",
   "execution_count": 5,
   "metadata": {
    "execution": {
     "iopub.execute_input": "2021-12-04T18:06:22.240254Z",
     "iopub.status.busy": "2021-12-04T18:06:22.239371Z",
     "iopub.status.idle": "2021-12-04T18:06:22.244244Z",
     "shell.execute_reply": "2021-12-04T18:06:22.244813Z",
     "shell.execute_reply.started": "2021-12-04T17:49:23.361394Z"
    },
    "papermill": {
     "duration": 0.017206,
     "end_time": "2021-12-04T18:06:22.244979",
     "exception": false,
     "start_time": "2021-12-04T18:06:22.227773",
     "status": "completed"
    },
    "tags": []
   },
   "outputs": [],
   "source": [
    "def represent_tree(treepath):\n",
    "    progression = list()\n",
    "    for node in treepath:\n",
    "        if node != treepath[node]:\n",
    "            progression.append((treepath[node], node))\n",
    "    return sorted(progression, key=lambda x:x[0])"
   ]
  },
  {
   "cell_type": "code",
   "execution_count": 6,
   "metadata": {
    "execution": {
     "iopub.execute_input": "2021-12-04T18:06:22.265849Z",
     "iopub.status.busy": "2021-12-04T18:06:22.264925Z",
     "iopub.status.idle": "2021-12-04T18:06:22.270012Z",
     "shell.execute_reply": "2021-12-04T18:06:22.270477Z",
     "shell.execute_reply.started": "2021-12-04T17:49:27.350894Z"
    },
    "jupyter": {
     "outputs_hidden": false
    },
    "papermill": {
     "duration": 0.017018,
     "end_time": "2021-12-04T18:06:22.270642",
     "exception": false,
     "start_time": "2021-12-04T18:06:22.253624",
     "status": "completed"
    },
    "tags": []
   },
   "outputs": [
    {
     "name": "stdout",
     "output_type": "stream",
     "text": [
      "[('A', 'B'), ('B', 'C'), ('B', 'D'), ('D', 'E'), ('E', 'F')]\n"
     ]
    }
   ],
   "source": [
    "print(represent_tree(treepath))"
   ]
  },
  {
   "cell_type": "markdown",
   "metadata": {
    "papermill": {
     "duration": 0.008501,
     "end_time": "2021-12-04T18:06:22.287776",
     "exception": false,
     "start_time": "2021-12-04T18:06:22.279275",
     "status": "completed"
    },
    "tags": []
   },
   "source": [
    "## Testing Kruskal’s algorithm"
   ]
  },
  {
   "cell_type": "code",
   "execution_count": 7,
   "metadata": {
    "execution": {
     "iopub.execute_input": "2021-12-04T18:06:22.308841Z",
     "iopub.status.busy": "2021-12-04T18:06:22.307915Z",
     "iopub.status.idle": "2021-12-04T18:06:22.319622Z",
     "shell.execute_reply": "2021-12-04T18:06:22.320558Z",
     "shell.execute_reply.started": "2021-12-04T17:49:32.009795Z"
    },
    "jupyter": {
     "outputs_hidden": false
    },
    "papermill": {
     "duration": 0.024427,
     "end_time": "2021-12-04T18:06:22.320923",
     "exception": false,
     "start_time": "2021-12-04T18:06:22.296496",
     "status": "completed"
    },
    "tags": []
   },
   "outputs": [
    {
     "name": "stdout",
     "output_type": "stream",
     "text": [
      "Pushing all edges into the priority queue\n",
      "Totally 18 edges\n",
      "Connected components: dict_values([['A'], ['B'], ['C'], ['D'], ['E'], ['F']])\n",
      "Summing ['D'] and ['E'] components:\n",
      "\tadded edge from D to E weighting 1\n",
      "Summing ['D', 'E'] and ['F'] components:\n",
      "\tadded edge from E to F weighting 1\n",
      "Summing ['A'] and ['B'] components:\n",
      "\tadded edge from A to B weighting 2\n",
      "Summing ['A', 'B'] and ['C'] components:\n",
      "\tadded edge from B to C weighting 2\n",
      "Summing ['A', 'B', 'C'] and ['D', 'E', 'F'] components:\n",
      "\tadded edge from B to D weighting 2\n",
      "Total spanning tree length: 8\n",
      "\n",
      "Minimum spanning tree: [('A', 'B'), ('B', 'C'), ('B', 'D'), ('D', 'E'), ('E', 'F')]\n"
     ]
    }
   ],
   "source": [
    "def kruskal(graph):\n",
    "    priority = priority_queue()\n",
    "    print(\"Pushing all edges into the priority queue\")\n",
    "    treepath = list()\n",
    "    connected = dict()\n",
    "    for node in graph:\n",
    "        connected[node] = [node]\n",
    "        for dest, weight in graph[node].items():\n",
    "            priority.push(weight, (node,dest))\n",
    "    print(\"Totally %i edges\" % len(priority))\n",
    "    print(\"Connected components: %s\" \n",
    "           % connected.values())\n",
    "    \n",
    "    total = 0\n",
    "    while len(treepath) < (len(graph)-1):\n",
    "        (weight, (start, end)) = priority.pop()\n",
    "        if end not in connected[start]:\n",
    "            treepath.append((start, end))\n",
    "            print(\"Summing %s and %s components:\" \n",
    "                   % (connected[start],connected[end]))\n",
    "            print(\"\\tadded edge from %s \" \\\n",
    "                   \"to %s weighting %i\" \n",
    "                   % (start, end, weight))\n",
    "            total += weight\n",
    "            connected[start] += connected[end][:]\n",
    "            for element in connected[end]:\n",
    "                connected[element]= connected[start]\n",
    "    print(\"Total spanning tree length: %i\" % total)\n",
    "    return sorted(treepath, key=lambda x:x[0])\n",
    "\n",
    "print('\\nMinimum spanning tree: %s' % kruskal(graph))"
   ]
  },
  {
   "cell_type": "code",
   "execution_count": null,
   "metadata": {},
   "outputs": [],
   "source": []
  }
 ],
 "metadata": {
  "kernelspec": {
   "display_name": "Python 3",
   "language": "python",
   "name": "python3"
  },
  "language_info": {
   "codemirror_mode": {
    "name": "ipython",
    "version": 3
   },
   "file_extension": ".py",
   "mimetype": "text/x-python",
   "name": "python",
   "nbconvert_exporter": "python",
   "pygments_lexer": "ipython3",
   "version": "3.8.3"
  },
  "papermill": {
   "default_parameters": {},
   "duration": 10.345666,
   "end_time": "2021-12-04T18:06:22.940720",
   "environment_variables": {},
   "exception": null,
   "input_path": "__notebook__.ipynb",
   "output_path": "__notebook__.ipynb",
   "parameters": {},
   "start_time": "2021-12-04T18:06:12.595054",
   "version": "2.3.3"
  }
 },
 "nbformat": 4,
 "nbformat_minor": 5
}
