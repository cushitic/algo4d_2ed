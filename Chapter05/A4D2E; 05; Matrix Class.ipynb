{
 "cells": [
  {
   "cell_type": "markdown",
   "metadata": {},
   "source": [
    "# Building the Basic Class"
   ]
  },
  {
   "cell_type": "markdown",
   "metadata": {},
   "source": [
    "## Creating a matrix"
   ]
  },
  {
   "cell_type": "code",
   "execution_count": 1,
   "metadata": {},
   "outputs": [],
   "source": [
    "class Matrix:\n",
    "    rows = 0\n",
    "    columns = 0\n",
    "    matrix = []\n",
    "    matrixRow = []\n",
    "    dataCount = 0\n",
    "    matrixList = []\n",
    "    tempProduct = 0\n",
    "    \n",
    "    def __init__(self, Rows, Columns, Data = []):\n",
    "        if Data == []:\n",
    "            Data = [None] * (Rows * Columns)\n",
    "        self.matrix = []\n",
    "        self.rows = Rows\n",
    "        self.columns = Columns\n",
    "        for i in range(Rows):\n",
    "            self.matrixRow = []\n",
    "            for j in range(Columns):\n",
    "                self.matrixRow.append(\n",
    "                    Data[self.dataCount])\n",
    "                self.dataCount += 1\n",
    "            self.matrix.append(self.matrixRow)\n",
    "            \n",
    "    def __getitem__(self, index):\n",
    "        return self.matrix[index]\n",
    "    \n",
    "    def __add__(self, Value):\n",
    "        self.matrixList = []\n",
    "        if type(Value) == list:\n",
    "            for i in range(self.rows):\n",
    "                for j in range(self.columns):\n",
    "                    self.matrixList.append(\n",
    "                        self.matrix[i][j] + Value[i][j])\n",
    "            \n",
    "        else:\n",
    "            for i in range(self.rows):\n",
    "                for j in range(self.columns):\n",
    "                    self.matrixList.append(\n",
    "                        self.matrix[i][j] + Value)\n",
    "                    \n",
    "        return Matrix(self.rows, self.columns, \n",
    "                      self.matrixList)\n",
    "    \n",
    "    def __mul__(self, MatrixIn):\n",
    "        self.matrixList = []\n",
    "        for i in range(self.rows):\n",
    "            for j in range(self.columns):\n",
    "                self.matrixList.append(\n",
    "                    self.matrix[i][j] * MatrixIn[i][j])\n",
    "        return Matrix(self.rows, self.columns, \n",
    "                      self.matrixList)\n",
    "        \n",
    "    def dot(self, MatrixIn):\n",
    "        self.matrixList = []\n",
    "        for i in range(self.rows):\n",
    "            for j in range(MatrixIn.columns):\n",
    "                tempProduct = 0\n",
    "                for k in range(self.columns):\n",
    "                    tempProduct += self.matrix[i][k] * \\\n",
    "                        MatrixIn[k][j]\n",
    "                self.matrixList.append(tempProduct)\n",
    "        return Matrix(self.rows, MatrixIn.columns, self.matrixList)\n",
    "    \n",
    "    def transpose(self):\n",
    "        self.matrixList = []\n",
    "        for i in range(self.columns):\n",
    "            for j in range(self.rows):\n",
    "                self.matrixList.append(self.matrix[j][i])\n",
    "        return Matrix(self.columns, self.rows, self.matrixList)\n",
    "    \n",
    "    def copyMatrix(self):\n",
    "        for i in range(self.rows):\n",
    "            for j in range(self.columns):\n",
    "                self.matrixList.append(self.matrix[i][j])\n",
    "        return Matrix(self.rows, self.columns, self.matrixList)\n",
    "    \n",
    "    def determinant(self, Result=0):\n",
    "        # Address the simplest case first, the 2 X 2 matrix.\n",
    "        if len(self.matrix) == 2:\n",
    "            twoOut = self.matrix[0][0] * self.matrix[1][1] - \\\n",
    "                self.matrix[1][0] * self.matrix[0][1]\n",
    "            return twoOut\n",
    "        \n",
    "        # Determine the number of rows in a matrix larger\n",
    "        # than 2 X 2.\n",
    "        rows = list(range(len(self.matrix)))\n",
    "        \n",
    "        # Process each focus column in turn.\n",
    "        for focus in rows:\n",
    "        \n",
    "            # Create a copy of the matrix.\n",
    "            submatrix = self.copyMatrix()\n",
    "\n",
    "            # Remove the first row of the submatrix.\n",
    "            submatrix.matrix = submatrix.matrix[1:]\n",
    "\n",
    "            # Obtain the number of remamining rows to\n",
    "            # process.\n",
    "            subrows = len(submatrix.matrix)\n",
    "\n",
    "            # Create the next smaller size matrix by slicing\n",
    "            # out the focus rows.\n",
    "            for i in range(subrows):\n",
    "                submatrix.matrix[i] = \\\n",
    "                    submatrix.matrix[i][0:focus] + \\\n",
    "                    submatrix.matrix[i][focus+1:]\n",
    "            \n",
    "            # Determine the sign to use when performing the\n",
    "            # multiplication.\n",
    "            sign = (-1) ** (focus % 2)\n",
    "            \n",
    "            # Call the determinant() function recursively\n",
    "            # with each smaller matrix.\n",
    "            subdeterminant = submatrix.determinant()\n",
    "            \n",
    "            # Total the returns from the recursive calls.\n",
    "            Result += sign * self.matrix[0][focus] * \\\n",
    "                subdeterminant\n",
    "            \n",
    "        return Result\n",
    "    \n",
    "    def flatten(self):\n",
    "        self.matrixList = []\n",
    "        for i in range(self.rows):\n",
    "            for j in range(self.columns):\n",
    "                self.matrixList.append(self.matrix[i][j])\n",
    "        nestedResult = Matrix(1, self.rows * self.columns, \n",
    "                              self.matrixList)\n",
    "        nestedResult.matrix = nestedResult.matrix[0]\n",
    "        return nestedResult"
   ]
  },
  {
   "cell_type": "markdown",
   "metadata": {},
   "source": [
    "## Printing the resulting matrix"
   ]
  },
  {
   "cell_type": "code",
   "execution_count": 2,
   "metadata": {},
   "outputs": [
    {
     "name": "stdout",
     "output_type": "stream",
     "text": [
      "2\n",
      "3\n",
      "[[None, None, None], [None, None, None]]\n"
     ]
    }
   ],
   "source": [
    "myMatrix = Matrix(2, 3)\n",
    "print(myMatrix.rows)\n",
    "print(myMatrix.columns)\n",
    "print(myMatrix.matrix)"
   ]
  },
  {
   "cell_type": "code",
   "execution_count": 3,
   "metadata": {},
   "outputs": [
    {
     "name": "stdout",
     "output_type": "stream",
     "text": [
      "[0, 1, 2, 3, 4, 5]\n",
      "[[0, 1, 2], [3, 4, 5]]\n"
     ]
    }
   ],
   "source": [
    "z = list(range(6))\n",
    "print(z)\n",
    "myMatrix2 = Matrix(2, 3, z)\n",
    "print(myMatrix2.matrix)"
   ]
  },
  {
   "cell_type": "markdown",
   "metadata": {},
   "source": [
    "## Accessing specific matrix elements"
   ]
  },
  {
   "cell_type": "code",
   "execution_count": 4,
   "metadata": {},
   "outputs": [
    {
     "name": "stdout",
     "output_type": "stream",
     "text": [
      "[3, 4, 5]\n",
      "5\n"
     ]
    }
   ],
   "source": [
    "print(myMatrix2[1])\n",
    "print(myMatrix2[1][2])"
   ]
  },
  {
   "cell_type": "markdown",
   "metadata": {},
   "source": [
    "## Performing scalar and matrix addition"
   ]
  },
  {
   "cell_type": "code",
   "execution_count": 5,
   "metadata": {},
   "outputs": [
    {
     "name": "stdout",
     "output_type": "stream",
     "text": [
      "[[2, 3, 4], [5, 6, 7]]\n",
      "[[4, 7, 10], [13, 16, 19]]\n"
     ]
    }
   ],
   "source": [
    "myMatrix2 += 2\n",
    "print(myMatrix2.matrix)\n",
    "\n",
    "myMatrix2 += [[2, 4, 6], [8, 10, 12]]\n",
    "print(myMatrix2.matrix)"
   ]
  },
  {
   "cell_type": "markdown",
   "metadata": {},
   "source": [
    "## Performing multiplication"
   ]
  },
  {
   "cell_type": "markdown",
   "metadata": {},
   "source": [
    "### Element-wise product"
   ]
  },
  {
   "cell_type": "code",
   "execution_count": 6,
   "metadata": {},
   "outputs": [
    {
     "name": "stdout",
     "output_type": "stream",
     "text": [
      "[[1, 2, 3], [4, 5, 6]]\n",
      "[[1, 2, 3], [4, 5, 6]]\n",
      "[[1, 4, 9], [16, 25, 36]]\n"
     ]
    }
   ],
   "source": [
    "A = Matrix(2, 3, [1, 2, 3, 4, 5, 6])\n",
    "B = Matrix(2, 3, [1, 2, 3, 4, 5, 6])\n",
    "print(A.matrix)\n",
    "print(B.matrix)\n",
    "print((A * B).matrix)"
   ]
  },
  {
   "cell_type": "markdown",
   "metadata": {},
   "source": [
    "### Dot product"
   ]
  },
  {
   "cell_type": "code",
   "execution_count": 7,
   "metadata": {},
   "outputs": [
    {
     "name": "stdout",
     "output_type": "stream",
     "text": [
      "[[1, 2, 1]]\n",
      "[[5, 3, 4, 3, 2], [2, 3, 3, 4, 4], [1, 2, 4, 2, 3]]\n",
      "[[10, 11, 14, 13, 13]]\n"
     ]
    }
   ],
   "source": [
    "Price = Matrix(1, 3, [1, 2, 1])\n",
    "Sales = Matrix(3, 5, \n",
    "    [5, 3, 4, 3, 2, 2, 3, 3, 4, 4, 1, 2, 4, 2, 3])\n",
    "print(Price.matrix)\n",
    "print(Sales.matrix)\n",
    "print(Price.dot(Sales).matrix)"
   ]
  },
  {
   "cell_type": "code",
   "execution_count": 8,
   "metadata": {},
   "outputs": [
    {
     "name": "stdout",
     "output_type": "stream",
     "text": [
      "[[1, 2, 1], [1, 3, 2], [2, 2, 1], [2, 3, 2], [1, 2, 2]]\n",
      "[[10, 11, 14, 13, 13], [13, 16, 21, 19, 20], [15, 14, 18, 16, 15], [18, 19, 25, 22, 22], [11, 13, 18, 15, 16]]\n"
     ]
    }
   ],
   "source": [
    "Prices = Matrix(5, 3, \n",
    "    [1, 2, 1, 1, 3, 2, 2, 2, 1, 2, 3, 2, 1, 2, 2])\n",
    "print(Prices.matrix)\n",
    "print(Prices.dot(Sales).matrix)"
   ]
  },
  {
   "cell_type": "markdown",
   "metadata": {},
   "source": [
    "# Manipulating the Matrix"
   ]
  },
  {
   "cell_type": "markdown",
   "metadata": {},
   "source": [
    "## Transposing a matrix"
   ]
  },
  {
   "cell_type": "code",
   "execution_count": 9,
   "metadata": {},
   "outputs": [
    {
     "name": "stdout",
     "output_type": "stream",
     "text": [
      "[[1, 2, 3], [4, 5, 6]]\n",
      "[[1, 4], [2, 5], [3, 6]]\n"
     ]
    }
   ],
   "source": [
    "print(A.matrix)\n",
    "print(A.transpose().matrix)"
   ]
  },
  {
   "cell_type": "markdown",
   "metadata": {},
   "source": [
    "## Calculating the determinant"
   ]
  },
  {
   "cell_type": "code",
   "execution_count": 10,
   "metadata": {},
   "outputs": [
    {
     "name": "stdout",
     "output_type": "stream",
     "text": [
      "-2\n"
     ]
    }
   ],
   "source": [
    "A = Matrix(2, 2, [1, 2, 3, 4])\n",
    "print(A.determinant())"
   ]
  },
  {
   "cell_type": "code",
   "execution_count": 11,
   "metadata": {},
   "outputs": [
    {
     "name": "stdout",
     "output_type": "stream",
     "text": [
      "105\n"
     ]
    }
   ],
   "source": [
    "B = Matrix(3, 3, [2, 5, 1, 5, 6, 7, 10, 9, 8])\n",
    "print(B.determinant())"
   ]
  },
  {
   "cell_type": "markdown",
   "metadata": {},
   "source": [
    "## Flattening the matrix"
   ]
  },
  {
   "cell_type": "code",
   "execution_count": 12,
   "metadata": {},
   "outputs": [
    {
     "name": "stdout",
     "output_type": "stream",
     "text": [
      "[[1, 2, 3], [4, 5, 6], [7, 8, 9]]\n",
      "[1, 2, 3, 4, 5, 6, 7, 8, 9]\n"
     ]
    }
   ],
   "source": [
    "A = Matrix(3, 3, [1, 2, 3, 4, 5, 6, 7, 8, 9])\n",
    "print(A.matrix)\n",
    "print(A.flatten().matrix)"
   ]
  },
  {
   "cell_type": "code",
   "execution_count": null,
   "metadata": {},
   "outputs": [],
   "source": []
  }
 ],
 "metadata": {
  "kernelspec": {
   "display_name": "Python 3",
   "language": "python",
   "name": "python3"
  },
  "language_info": {
   "codemirror_mode": {
    "name": "ipython",
    "version": 3
   },
   "file_extension": ".py",
   "mimetype": "text/x-python",
   "name": "python",
   "nbconvert_exporter": "python",
   "pygments_lexer": "ipython3",
   "version": "3.8.3"
  }
 },
 "nbformat": 4,
 "nbformat_minor": 4
}
