{
 "cells": [
  {
   "cell_type": "markdown",
   "metadata": {},
   "source": [
    "# Factorial Calculation"
   ]
  },
  {
   "cell_type": "code",
   "execution_count": 2,
   "metadata": {},
   "outputs": [
    {
     "name": "stdout",
     "output_type": "stream",
     "text": [
      "factorial called with n=5\n",
      "factorial called with n=4\n",
      "factorial called with n=3\n",
      "factorial called with n=2\n",
      "factorial called with n=1\n",
      "Ending condition met.\n",
      "120\n"
     ]
    }
   ],
   "source": [
    "def factorial(n):\n",
    "    print(f\"factorial called with n={n}\")\n",
    "    if n == 1 or n == 0:\n",
    "        print(\"Ending condition met.\")\n",
    "        return 1\n",
    "    else:\n",
    "        return n * factorial(n-1)\n",
    "\n",
    "print(factorial(5))"
   ]
  },
  {
   "cell_type": "markdown",
   "metadata": {},
   "source": [
    "# Factorial Calculation Using Continuation Condition"
   ]
  },
  {
   "cell_type": "code",
   "execution_count": 6,
   "metadata": {},
   "outputs": [
    {
     "name": "stdout",
     "output_type": "stream",
     "text": [
      "factorial called with n =  5\n",
      "factorial called with n =  4\n",
      "factorial called with n =  3\n",
      "factorial called with n =  2\n",
      "factorial called with n =  1\n",
      "Ending condition met.\n",
      "factorial of 5 is: 120\n"
     ]
    }
   ],
   "source": [
    "def factorial(n):\n",
    "    print(\"factorial called with n = \", str(n))\n",
    "    if n > 1:\n",
    "        return n * factorial(n - 1)\n",
    "    print(\"Ending condition met.\")\n",
    "    return 1\n",
    "\n",
    "print(\"factorial of 5 is:\", factorial(5))   "
   ]
  },
  {
   "cell_type": "markdown",
   "metadata": {},
   "source": [
    "# Tail Recursion Elimination"
   ]
  },
  {
   "cell_type": "code",
   "execution_count": 5,
   "metadata": {},
   "outputs": [
    {
     "name": "stdout",
     "output_type": "stream",
     "text": [
      "factorial called with n=5\n",
      "Current value of n is  4\n",
      "Current value of n is  3\n",
      "Current value of n is  2\n",
      "Current value of n is  1\n",
      "Ending condition met.\n",
      "factorial of 5 is: 120\n"
     ]
    }
   ],
   "source": [
    "def factorial(n):\n",
    "    print(f\"factorial called with n={n}\")\n",
    "    result = 1\n",
    "    while n > 1:\n",
    "        result = result * n\n",
    "        n = n - 1\n",
    "        print(\"Current value of n is \", str(n))\n",
    "    print(\"Ending condition met.\")\n",
    "    return result\n",
    "\n",
    "print(\"factorial of 5 is:\", factorial(5))   "
   ]
  },
  {
   "cell_type": "markdown",
   "metadata": {},
   "source": [
    "Just some small adjusts have been made to the example above"
   ]
  }
 ],
 "metadata": {
  "anaconda-cloud": {},
  "kernelspec": {
   "display_name": "Python 3",
   "language": "python",
   "name": "python3"
  },
  "language_info": {
   "codemirror_mode": {
    "name": "ipython",
    "version": 3
   },
   "file_extension": ".py",
   "mimetype": "text/x-python",
   "name": "python",
   "nbconvert_exporter": "python",
   "pygments_lexer": "ipython3",
   "version": "3.7.6"
  }
 },
 "nbformat": 4,
 "nbformat_minor": 1
}
