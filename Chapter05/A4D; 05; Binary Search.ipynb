{
 "cells": [
  {
   "cell_type": "markdown",
   "metadata": {},
   "source": [
    "# Binary Search"
   ]
  },
  {
   "cell_type": "code",
   "execution_count": 14,
   "metadata": {},
   "outputs": [
    {
     "name": "stdout",
     "output_type": "stream",
     "text": [
      "Starting list: [1, 2, 3, 4, 5, 6, 7, 8, 9, 10, 11, 12, 13, 14, 15, 16, 17, 18, 19, 20]\n",
      "Splitting list at position 10\n",
      "\t -> keeping leftmost part: [1, 2, 3, 4, 5, 6, 7, 8, 9, 10]\n",
      "Splitting list at position 5\n",
      "\t -> keeping leftmost part: [1, 2, 3, 4, 5]\n",
      "Splitting list at position 2\n",
      "\t -> keeping rightmost part: [3, 4, 5]\n",
      "Splitting list at position 1\n",
      "\t -> keeping rightmost part: [4, 5]\n",
      "Splitting list at position 1\n",
      "Key has been found at splitting\n"
     ]
    }
   ],
   "source": [
    "def search(searchList, key):\n",
    "    mid = len(searchList) // 2\n",
    "    print(f\"Splitting list at position {mid}\")\n",
    "    \n",
    "    if mid == 0:\n",
    "        print(\"Key has not been found\")\n",
    "        return key\n",
    "    \n",
    "    elif key == searchList[mid]:\n",
    "        print(\"Key has been found at splitting\")\n",
    "        return searchList[mid]\n",
    "    \n",
    "    elif key > searchList[mid]:\n",
    "        reduced_list = searchList[mid:len(searchList)]\n",
    "        print(f\"\\t -> keeping rightmost part: {reduced_list}\")\n",
    "        search(reduced_list, key)\n",
    "        \n",
    "    else:\n",
    "        reduced_list = searchList[0:mid]\n",
    "        print(f\"\\t -> keeping leftmost part: {reduced_list}\")\n",
    "        search(reduced_list, key)\n",
    "\n",
    "search_space = list(range(1, 21))\n",
    "print(f\"Starting list: {search_space}\")\n",
    "search(search_space, 5)"
   ]
  },
  {
   "cell_type": "markdown",
   "metadata": {},
   "source": [
    "Just some small adjusts have been made to the example above"
   ]
  }
 ],
 "metadata": {
  "anaconda-cloud": {},
  "kernelspec": {
   "display_name": "Python 3",
   "language": "python",
   "name": "python3"
  },
  "language_info": {
   "codemirror_mode": {
    "name": "ipython",
    "version": 3
   },
   "file_extension": ".py",
   "mimetype": "text/x-python",
   "name": "python",
   "nbconvert_exporter": "python",
   "pygments_lexer": "ipython3",
   "version": "3.7.6"
  }
 },
 "nbformat": 4,
 "nbformat_minor": 1
}
