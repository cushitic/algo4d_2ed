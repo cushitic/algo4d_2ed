{
 "cells": [
  {
   "cell_type": "code",
   "execution_count": 3,
   "metadata": {
    "executionInfo": {
     "elapsed": 4,
     "status": "ok",
     "timestamp": 1753052930822,
     "user": {
      "displayName": "Charles Hall",
      "userId": "12502552816593115139"
     },
     "user_tz": 240
    },
    "id": "cxtKcG6DAt94"
   },
   "outputs": [],
   "source": [
    "import numpy as np"
   ]
  },
  {
   "cell_type": "code",
   "execution_count": 4,
   "metadata": {
    "colab": {
     "base_uri": "https://localhost:8080/"
    },
    "executionInfo": {
     "elapsed": 13,
     "status": "ok",
     "timestamp": 1752432676886,
     "user": {
      "displayName": "Charles Hall",
      "userId": "12502552816593115139"
     },
     "user_tz": 240
    },
    "id": "W2-JKkTeEFKE",
    "outputId": "034576bd-3c0e-4f44-fdde-1b950c6ef9bc"
   },
   "outputs": [
    {
     "name": "stdout",
     "output_type": "stream",
     "text": [
      "15\n",
      "<class 'numpy.int16'>\n"
     ]
    }
   ],
   "source": [
    "# np.short(#) creates a 16 bit signed int with a max value of\n",
    "# \"half of 2^16-1\" to account for positive and negative integers\n",
    "myShort = np.short(15)\n",
    "print(myShort)\n",
    "print(type(myShort))"
   ]
  },
  {
   "cell_type": "code",
   "execution_count": 5,
   "metadata": {
    "colab": {
     "base_uri": "https://localhost:8080/"
    },
    "executionInfo": {
     "elapsed": 16,
     "status": "ok",
     "timestamp": 1752433346078,
     "user": {
      "displayName": "Charles Hall",
      "userId": "12502552816593115139"
     },
     "user_tz": 240
    },
    "id": "bCmPNEiYEFSP",
    "outputId": "c541e6f4-2c11-47e1-8dba-d03579867064"
   },
   "outputs": [
    {
     "name": "stdout",
     "output_type": "stream",
     "text": [
      "[1 2 3 4]\n",
      "<class 'numpy.ndarray'>\n",
      "<class 'numpy.int64'>\n"
     ]
    }
   ],
   "source": [
    "# np.array([#,#,#,#]) creates a vector which is basically a list\n",
    "myVect = np.array([1,2,3,4])\n",
    "print(myVect)\n",
    "print(type(myVect))\n",
    "print(type(myVect[0]))\n"
   ]
  },
  {
   "cell_type": "code",
   "execution_count": 6,
   "metadata": {
    "colab": {
     "base_uri": "https://localhost:8080/"
    },
    "executionInfo": {
     "elapsed": 13,
     "status": "ok",
     "timestamp": 1752433336656,
     "user": {
      "displayName": "Charles Hall",
      "userId": "12502552816593115139"
     },
     "user_tz": 240
    },
    "id": "GDpxkYcYEFZ-",
    "outputId": "c34421bb-f953-463e-dc30-bcb7bb3d80bf"
   },
   "outputs": [
    {
     "name": "stdout",
     "output_type": "stream",
     "text": [
      "[1 3 5 7 9]\n",
      "<class 'numpy.ndarray'>\n",
      "<class 'numpy.int64'>\n"
     ]
    }
   ],
   "source": [
    "# np.arange(#1,#2,#3) creates a vector of numbers from #1 to #2 counting by #3\n",
    "myVect = np.arange(1,10,2)\n",
    "print(myVect)\n",
    "print(type(myVect))\n",
    "print(type(myVect[0]))"
   ]
  },
  {
   "cell_type": "code",
   "execution_count": 7,
   "metadata": {
    "colab": {
     "base_uri": "https://localhost:8080/"
    },
    "executionInfo": {
     "elapsed": 17,
     "status": "ok",
     "timestamp": 1752433396177,
     "user": {
      "displayName": "Charles Hall",
      "userId": "12502552816593115139"
     },
     "user_tz": 240
    },
    "id": "GyDvgedrEFdF",
    "outputId": "aa5d676c-52f9-4da8-f6af-83ab5ca9ffb1"
   },
   "outputs": [
    {
     "name": "stdout",
     "output_type": "stream",
     "text": [
      "[1 2 3 4]\n",
      "<class 'numpy.ndarray'>\n",
      "<class 'numpy.int16'>\n"
     ]
    }
   ],
   "source": [
    "# np.int16([#,#,#,#]) creates a vector of 16 bit signed integers\n",
    "myVect = np.int16([1,2,3,4])\n",
    "print(myVect)\n",
    "print(type(myVect))\n",
    "print(type(myVect[0]))"
   ]
  },
  {
   "cell_type": "code",
   "execution_count": 8,
   "metadata": {
    "colab": {
     "base_uri": "https://localhost:8080/"
    },
    "executionInfo": {
     "elapsed": 13,
     "status": "ok",
     "timestamp": 1752433940534,
     "user": {
      "displayName": "Charles Hall",
      "userId": "12502552816593115139"
     },
     "user_tz": 240
    },
    "id": "8B_ozz7OEFfy",
    "outputId": "dd5339e3-36cf-449a-def6-f9fb3391b07f"
   },
   "outputs": [
    {
     "name": "stdout",
     "output_type": "stream",
     "text": [
      "[51 52 53 54]\n",
      "<class 'numpy.ndarray'>\n",
      "<class 'numpy.int64'>\n"
     ]
    }
   ],
   "source": [
    "# Easily add to an entire vector\n",
    "myVect = np.array([1,2,3,4])\n",
    "print(myVect + 50)\n",
    "print(type(myVect))\n",
    "print(type(myVect[0]))"
   ]
  },
  {
   "cell_type": "code",
   "execution_count": 9,
   "metadata": {
    "colab": {
     "base_uri": "https://localhost:8080/"
    },
    "executionInfo": {
     "elapsed": 25,
     "status": "ok",
     "timestamp": 1752433854070,
     "user": {
      "displayName": "Charles Hall",
      "userId": "12502552816593115139"
     },
     "user_tz": 240
    },
    "id": "xZIbmrppL6Z0",
    "outputId": "8ade2b2e-6aeb-4127-b503-37026800d928"
   },
   "outputs": [
    {
     "name": "stdout",
     "output_type": "stream",
     "text": [
      "[1. 1. 1. 1.]\n",
      "<class 'numpy.ndarray'>\n",
      "<class 'numpy.float64'>\n"
     ]
    }
   ],
   "source": [
    "myVect = np.ones(4)\n",
    "print(myVect)\n",
    "print(type(myVect))\n",
    "print(type(myVect[0]))"
   ]
  },
  {
   "cell_type": "code",
   "execution_count": 10,
   "metadata": {
    "colab": {
     "base_uri": "https://localhost:8080/"
    },
    "executionInfo": {
     "elapsed": 26,
     "status": "ok",
     "timestamp": 1752433859445,
     "user": {
      "displayName": "Charles Hall",
      "userId": "12502552816593115139"
     },
     "user_tz": 240
    },
    "id": "iKhbsK6OMOfh",
    "outputId": "629b70e5-70fd-45a2-c584-2962bb945e9b"
   },
   "outputs": [
    {
     "name": "stdout",
     "output_type": "stream",
     "text": [
      "[[1. 1.]\n",
      " [1. 1.]\n",
      " [1. 1.]\n",
      " [1. 1.]]\n",
      "<class 'numpy.ndarray'>\n",
      "<class 'numpy.ndarray'>\n"
     ]
    }
   ],
   "source": [
    "myVect = np.ones((4,2))\n",
    "print(myVect)\n",
    "print(type(myVect))\n",
    "print(type(myVect[0]))"
   ]
  },
  {
   "cell_type": "code",
   "execution_count": 11,
   "metadata": {
    "colab": {
     "base_uri": "https://localhost:8080/"
    },
    "executionInfo": {
     "elapsed": 55,
     "status": "ok",
     "timestamp": 1752433724051,
     "user": {
      "displayName": "Charles Hall",
      "userId": "12502552816593115139"
     },
     "user_tz": 240
    },
    "id": "8l0NlTS_MEik",
    "outputId": "f80e3b04-22d5-4f04-be1a-003118762fbe"
   },
   "outputs": [
    {
     "data": {
      "text/plain": [
       "array([[51., 51.],\n",
       "       [51., 51.],\n",
       "       [51., 51.],\n",
       "       [51., 51.]])"
      ]
     },
     "execution_count": 11,
     "metadata": {},
     "output_type": "execute_result"
    }
   ],
   "source": [
    "# Easily add to an entire array\n",
    "np.ones((4,2)) + 50"
   ]
  },
  {
   "cell_type": "code",
   "execution_count": 12,
   "metadata": {
    "colab": {
     "base_uri": "https://localhost:8080/"
    },
    "executionInfo": {
     "elapsed": 56,
     "status": "ok",
     "timestamp": 1752434175736,
     "user": {
      "displayName": "Charles Hall",
      "userId": "12502552816593115139"
     },
     "user_tz": 240
    },
    "id": "kze9ijneNRJY",
    "outputId": "5f6e77b6-1c9e-4752-fe5f-e99cff72d014"
   },
   "outputs": [
    {
     "name": "stdout",
     "output_type": "stream",
     "text": [
      "[ True False  True  True]\n",
      "<class 'numpy.ndarray'>\n",
      "<class 'numpy.bool'>\n",
      "[False  True False False]\n"
     ]
    }
   ],
   "source": [
    "# Compare each value in 2 equal Vectors\n",
    "a = np.array([1,2,3,4])\n",
    "b = np.array([1,5,3,4])\n",
    "print(a == b)\n",
    "print(type(a == b))\n",
    "print(type((a == b)[0]))\n",
    "print(a < b)"
   ]
  },
  {
   "cell_type": "code",
   "execution_count": 13,
   "metadata": {
    "colab": {
     "base_uri": "https://localhost:8080/"
    },
    "executionInfo": {
     "elapsed": 26,
     "status": "ok",
     "timestamp": 1752434756937,
     "user": {
      "displayName": "Charles Hall",
      "userId": "12502552816593115139"
     },
     "user_tz": 240
    },
    "id": "vqq7FEtONRUZ",
    "outputId": "28ea7458-54e2-4767-d31c-6566fa987ed2"
   },
   "outputs": [
    {
     "name": "stdout",
     "output_type": "stream",
     "text": [
      "[ True  True  True False]\n",
      "[ True False False False]\n",
      "[False  True False  True]\n",
      "[False  True  True False]\n"
     ]
    }
   ],
   "source": [
    "# Logical operators\n",
    "\n",
    "a = np.array([True, False, True, False])\n",
    "b = np.array([True, True, False, False])\n",
    "\n",
    "## Logical or compares each element.  Any True makes this True\n",
    "print(np.logical_or(a, b))\n",
    "\n",
    "## Logical and compares each element.  Any False makes this false\n",
    "print(np.logical_and(a, b))\n",
    "\n",
    "## Logical not flips each bool to its opposite.\n",
    "print(np.logical_not(a))\n",
    "\n",
    "## Logical xor (exclusive or) compares each element.  Any True makes this Truexor only returns true if one element is True and the other is False\n",
    "print(np.logical_xor(a, b))"
   ]
  },
  {
   "cell_type": "code",
   "execution_count": 14,
   "metadata": {
    "colab": {
     "base_uri": "https://localhost:8080/"
    },
    "executionInfo": {
     "elapsed": 12,
     "status": "ok",
     "timestamp": 1752434860471,
     "user": {
      "displayName": "Charles Hall",
      "userId": "12502552816593115139"
     },
     "user_tz": 240
    },
    "id": "3NFA1pOSNRci",
    "outputId": "9a728cc7-5c66-4103-dd2d-b4ec4cd1a1b3"
   },
   "outputs": [
    {
     "name": "stdout",
     "output_type": "stream",
     "text": [
      "[ 1  4  9 16]\n"
     ]
    }
   ],
   "source": [
    "# Multiplying vectors\n",
    "a = np.array([1,2,3,4])\n",
    "b = np.array([1,2,3,4])\n",
    "print(a * b)"
   ]
  },
  {
   "cell_type": "code",
   "execution_count": 15,
   "metadata": {
    "colab": {
     "base_uri": "https://localhost:8080/"
    },
    "executionInfo": {
     "elapsed": 19,
     "status": "ok",
     "timestamp": 1752447546865,
     "user": {
      "displayName": "Charles Hall",
      "userId": "12502552816593115139"
     },
     "user_tz": 240
    },
    "id": "cVTfKRXNA2jm",
    "outputId": "6a05603e-224d-4871-e311-f70a411e2e0d"
   },
   "outputs": [
    {
     "name": "stdout",
     "output_type": "stream",
     "text": [
      "[ 1  4  9 16]\n"
     ]
    }
   ],
   "source": [
    "# Multiplying vectors\n",
    "a = np.array([1,2,3,4])\n",
    "b = np.array([1,2,3,4])\n",
    "print(np.multiply(a,b))"
   ]
  },
  {
   "cell_type": "code",
   "execution_count": null,
   "metadata": {
    "colab": {
     "base_uri": "https://localhost:8080/"
    },
    "executionInfo": {
     "elapsed": 15,
     "status": "ok",
     "timestamp": 1752434923205,
     "user": {
      "displayName": "Charles Hall",
      "userId": "12502552816593115139"
     },
     "user_tz": 240
    },
    "id": "SuoHXMV9NRkN",
    "outputId": "a10ebfeb-dbca-4c0a-b6cc-d9ab404f1c1f"
   },
   "outputs": [
    {
     "data": {
      "text/plain": [
       "np.int64(30)"
      ]
     },
     "execution_count": 16,
     "metadata": {},
     "output_type": "execute_result"
    }
   ],
   "source": [
    "# Dot product of 2 arrays.  Multiple each element place by place and add them together\n",
    "# a · b = (1*1) + (2*2) + (3*3) + (4*4) = 1 + 4 + 9 + 16 = 30\n",
    "a = np.array([1,2,3,4])\n",
    "b = np.array([1,2,3,4])\n",
    "\n",
    "a.dot(b)"
   ]
  },
  {
   "cell_type": "code",
   "execution_count": 17,
   "metadata": {
    "colab": {
     "base_uri": "https://localhost:8080/"
    },
    "executionInfo": {
     "elapsed": 16,
     "status": "ok",
     "timestamp": 1752449151442,
     "user": {
      "displayName": "Charles Hall",
      "userId": "12502552816593115139"
     },
     "user_tz": 240
    },
    "id": "a7Z5VgT2NRxk",
    "outputId": "00a62012-353c-4842-9c19-b9e9a6f12c25"
   },
   "outputs": [
    {
     "name": "stdout",
     "output_type": "stream",
     "text": [
      "[[1 2 3]\n",
      " [4 5 6]\n",
      " [7 8 9]]\n"
     ]
    }
   ],
   "source": [
    "# make a matrix a.k.a. multi dimensional array\n",
    "\n",
    "myMatrix = np.array([[1,2,3],[4,5,6],[7,8,9]])\n",
    "print(myMatrix)"
   ]
  },
  {
   "cell_type": "code",
   "execution_count": 18,
   "metadata": {
    "colab": {
     "base_uri": "https://localhost:8080/"
    },
    "executionInfo": {
     "elapsed": 13,
     "status": "ok",
     "timestamp": 1752449417461,
     "user": {
      "displayName": "Charles Hall",
      "userId": "12502552816593115139"
     },
     "user_tz": 240
    },
    "id": "E1eNu36HNR38",
    "outputId": "10eaccbb-65a3-4cf0-af97-320c38d36ce2"
   },
   "outputs": [
    {
     "name": "stdout",
     "output_type": "stream",
     "text": [
      "[[1 2 3]\n",
      " [4 5 6]\n",
      " [7 8 9]]\n"
     ]
    }
   ],
   "source": [
    "myMatrix2 = np.array([[1,2,3],[4,5,6],[7,8,9]])\n",
    "print(myMatrix2)"
   ]
  },
  {
   "cell_type": "code",
   "execution_count": 19,
   "metadata": {
    "colab": {
     "base_uri": "https://localhost:8080/"
    },
    "executionInfo": {
     "elapsed": 15,
     "status": "ok",
     "timestamp": 1752449462264,
     "user": {
      "displayName": "Charles Hall",
      "userId": "12502552816593115139"
     },
     "user_tz": 240
    },
    "id": "JlOZnpxeICmx",
    "outputId": "6c715a98-ee19-4c3d-b8b5-eb498751d6f8"
   },
   "outputs": [
    {
     "name": "stdout",
     "output_type": "stream",
     "text": [
      "[[ 1  4  9]\n",
      " [16 25 36]\n",
      " [49 64 81]]\n"
     ]
    }
   ],
   "source": [
    "# Multiply 2 matrixes//arrays\n",
    "print(myMatrix * myMatrix2)"
   ]
  },
  {
   "cell_type": "code",
   "execution_count": 20,
   "metadata": {
    "colab": {
     "base_uri": "https://localhost:8080/"
    },
    "executionInfo": {
     "elapsed": 16,
     "status": "ok",
     "timestamp": 1753051318158,
     "user": {
      "displayName": "Charles Hall",
      "userId": "12502552816593115139"
     },
     "user_tz": 240
    },
    "id": "d8aec80a",
    "outputId": "5e002cc9-ef05-424d-cec3-3d51b8712701"
   },
   "outputs": [
    {
     "name": "stdout",
     "output_type": "stream",
     "text": [
      "The vector is: [3 4]\n",
      "The square of its magnitude is: 3^2 + 4^2\n",
      "The square of its magnitude is: 25\n"
     ]
    }
   ],
   "source": [
    "# Calculate a vector's Square of Magnitude\n",
    "\n",
    "v = np.array([3, 4])\n",
    "square_of_magnitude = v.dot(v) # = 3^2 + 4^2\n",
    "print(f\"The vector is: {v}\")\n",
    "print(\"The square of its magnitude is: 3^2 + 4^2\")\n",
    "print(f\"The square of its magnitude is: {square_of_magnitude}\")"
   ]
  },
  {
   "cell_type": "markdown",
   "metadata": {
    "id": "ebFUnmlVBLdf"
   },
   "source": [
    "# Creating Matrices"
   ]
  },
  {
   "cell_type": "markdown",
   "metadata": {
    "id": "5Y_mMR7UDHvS"
   },
   "source": [
    "### Data-type: Array (np.array(...))"
   ]
  },
  {
   "cell_type": "code",
   "execution_count": 21,
   "metadata": {
    "colab": {
     "base_uri": "https://localhost:8080/"
    },
    "executionInfo": {
     "elapsed": 15,
     "status": "ok",
     "timestamp": 1753052780077,
     "user": {
      "displayName": "Charles Hall",
      "userId": "12502552816593115139"
     },
     "user_tz": 240
    },
    "id": "kh3lC7sAFoJn",
    "outputId": "f2ff8ed9-ed9c-4b70-ef0a-5d31911c8259"
   },
   "outputs": [
    {
     "name": "stdout",
     "output_type": "stream",
     "text": [
      "[[1 2 3]\n",
      " [4 5 6]]\n"
     ]
    }
   ],
   "source": [
    "a = np.array([[1,2,3],[4,5,6]])\n",
    "print(a)"
   ]
  },
  {
   "cell_type": "code",
   "execution_count": 22,
   "metadata": {
    "colab": {
     "base_uri": "https://localhost:8080/"
    },
    "executionInfo": {
     "elapsed": 12,
     "status": "ok",
     "timestamp": 1753052818326,
     "user": {
      "displayName": "Charles Hall",
      "userId": "12502552816593115139"
     },
     "user_tz": 240
    },
    "id": "LjVlfu8TBKII",
    "outputId": "28debcda-5a90-471c-e026-a5d24f2e5011"
   },
   "outputs": [
    {
     "name": "stdout",
     "output_type": "stream",
     "text": [
      "[[1 2 3]\n",
      " [4 5 6]]\n",
      "[[ 1  4  9]\n",
      " [16 25 36]]\n"
     ]
    }
   ],
   "source": [
    "# multiply 2 numpy array/matrices\n",
    "# must be the same shape\n",
    "np.array([[1,2,3],[4,5,6]])\n",
    "print(a)\n",
    "b = np.array([[1,2,3],[4,5,6]])\n",
    "c = a*b\n",
    "print(c)"
   ]
  },
  {
   "cell_type": "markdown",
   "metadata": {
    "id": "rtMwymhwDfIP"
   },
   "source": [
    "### Data-type: Matrix (np.asmatrix(...))\n",
    "\n",
    "*   (2-dimensional matrices only. Specialized features)"
   ]
  },
  {
   "cell_type": "code",
   "execution_count": 23,
   "metadata": {
    "colab": {
     "base_uri": "https://localhost:8080/"
    },
    "executionInfo": {
     "elapsed": 15,
     "status": "ok",
     "timestamp": 1753053129015,
     "user": {
      "displayName": "Charles Hall",
      "userId": "12502552816593115139"
     },
     "user_tz": 240
    },
    "id": "4LpgqlH6BJ74",
    "outputId": "ffec40e6-fc74-46a1-d038-87bfcdb50dc6"
   },
   "outputs": [
    {
     "name": "stdout",
     "output_type": "stream",
     "text": [
      "[[1 2 3]\n",
      " [4 5 6]\n",
      " [7 8 9]]\n",
      "<class 'numpy.matrix'>\n"
     ]
    }
   ],
   "source": [
    "# enables specialized matrix functions and processing\n",
    "a = np.asmatrix([[1,2,3],[4,5,6],[7,8,9]])\n",
    "print(a)\n",
    "print(type(a))"
   ]
  },
  {
   "cell_type": "code",
   "execution_count": 38,
   "metadata": {
    "colab": {
     "base_uri": "https://localhost:8080/"
    },
    "executionInfo": {
     "elapsed": 34,
     "status": "error",
     "timestamp": 1753052934420,
     "user": {
      "displayName": "Charles Hall",
      "userId": "12502552816593115139"
     },
     "user_tz": 240
    },
    "id": "FQwH6IfvBJ1l",
    "outputId": "ac3212ac-c626-4670-eee8-2ac4eb0ceb2b"
   },
   "outputs": [
    {
     "name": "stdout",
     "output_type": "stream",
     "text": [
      "[[22 28 34]\n",
      " [49 64 79]]\n",
      "[[ 1  4  9]\n",
      " [16 25 36]]\n",
      "[[ 1  4  9]\n",
      " [16 25 36]]\n"
     ]
    }
   ],
   "source": [
    "# multiplying 2 matrices doesnt work like multiplying 2 arrays\n",
    "a = np.asmatrix([[1,2,3],[4,5,6]])\n",
    "b = np.asmatrix([[1,2,3],[4,5,6]])\n",
    "#c = a*b     <<----- Causes an error because the matrices are not compatible for dot product multiplication\n",
    "\n",
    "# matrix (dot product) multiplication requires the number of columns in the first matrix to equal the number of rows in the second matrix\n",
    "a = np.asmatrix([[1,2,3],[4,5,6]])\n",
    "b = np.asmatrix([[1,2,3],[3,4,5],[5,6,7]])\n",
    "c = a*b \n",
    "print(c)\n",
    "\n",
    "# For elementwise multiplication, multiply 2 numpy arrays\n",
    "a = np.asmatrix([[1,2,3],[4,5,6]])\n",
    "b = np.asmatrix([[1,2,3],[4,5,6]])\n",
    "c = np.asarray(a) * np.asarray(b)\n",
    "print(c)\n",
    "\n",
    "# Or for elementwise multiplication, use the numpy multiply function\n",
    "c = np.multiply(a, b)\n",
    "print(c)\n",
    "\n"
   ]
  },
  {
   "cell_type": "code",
   "execution_count": null,
   "metadata": {
    "colab": {
     "base_uri": "https://localhost:8080/"
    },
    "executionInfo": {
     "elapsed": 13,
     "status": "ok",
     "timestamp": 1753053240060,
     "user": {
      "displayName": "Charles Hall",
      "userId": "12502552816593115139"
     },
     "user_tz": 240
    },
    "id": "-3xGotDPBJuV",
    "outputId": "6a92388d-5dde-490c-a631-2a2b62ec44f2"
   },
   "outputs": [
    {
     "name": "stdout",
     "output_type": "stream",
     "text": [
      "<class 'numpy.ndarray'>\n",
      "[[1 2 3]\n",
      " [4 5 6]]\n",
      "<class 'numpy.matrix'>\n",
      "[[1 2 3]\n",
      " [4 5 6]]\n",
      "<class 'numpy.ndarray'>\n",
      "[[1 2 3]\n",
      " [4 5 6]]\n"
     ]
    }
   ],
   "source": [
    "# convert an array to a matrix and vice versa\n",
    "\n",
    "a = np.array([[1,2,3],[4,5,6]])\n",
    "print(type(a))\n",
    "print(a)\n",
    "\n",
    "b = np.asmatrix(a)\n",
    "print(type(b))\n",
    "print(b)\n",
    "\n",
    "c = np.asarray(b)\n",
    "print(type(c))\n",
    "print(c)"
   ]
  },
  {
   "cell_type": "code",
   "execution_count": null,
   "metadata": {
    "id": "O9Uqd8D1G22b"
   },
   "outputs": [
    {
     "name": "stdout",
     "output_type": "stream",
     "text": [
      "[[22 28 34]\n",
      " [49 64 79]]\n"
     ]
    }
   ],
   "source": [
    "# Dot Product of 2 matrices. Multiple the row of a by the column of b\n",
    "# a · b = a₁*b₁ + a₂*b₂ + ... + aₙ*bₙ\n",
    "# a * b = (1*4) + (2*5) + (3*6) = 4 + 10 + 18 = 32\n",
    "\n",
    "a = np.array([[1,2,3],\n",
    "              [4,5,6]])\n",
    "b = np.array([[1,2,3],\n",
    "              [3,4,5],\n",
    "              [5,6,7]])\n",
    "\n",
    "print(a.dot(b))"
   ]
  },
  {
   "cell_type": "code",
   "execution_count": null,
   "metadata": {
    "id": "c3WbQLxzG2zy"
   },
   "outputs": [
    {
     "name": "stdout",
     "output_type": "stream",
     "text": [
      "Array\n",
      "[1 2 3 4 5 6 7 8]\n",
      "Reshape to 2x4 matrix\n",
      "[[1 2 3 4]\n",
      " [5 6 7 8]]\n",
      "Reshape to 2x2x2 matrix\n",
      "[[[1 2]\n",
      "  [3 4]]\n",
      "\n",
      " [[5 6]\n",
      "  [7 8]]]\n"
     ]
    }
   ],
   "source": [
    "# Reshaping an vector/array into a matrix\n",
    "\n",
    "print('Array')\n",
    "changeIt = np.array([1,2,3,4,5,6,7,8])\n",
    "print(changeIt)\n",
    "\n",
    "print('Reshape to 2x4 matrix')\n",
    "changeIt = changeIt.reshape(2,4)\n",
    "print(changeIt)\n",
    "\n",
    "print('Reshape to 2x2x2 matrix')\n",
    "changeIt = changeIt.reshape(2,2,2)\n",
    "print(changeIt)"
   ]
  },
  {
   "cell_type": "code",
   "execution_count": null,
   "metadata": {
    "id": "ufKc2UM7G2xZ"
   },
   "outputs": [],
   "source": []
  },
  {
   "cell_type": "code",
   "execution_count": null,
   "metadata": {
    "id": "JlnQ5QnfG2uD"
   },
   "outputs": [],
   "source": []
  },
  {
   "cell_type": "code",
   "execution_count": null,
   "metadata": {
    "id": "bkhTvHScG2rK"
   },
   "outputs": [],
   "source": []
  },
  {
   "cell_type": "code",
   "execution_count": null,
   "metadata": {
    "id": "ts3b7jjiG2oD"
   },
   "outputs": [],
   "source": []
  }
 ],
 "metadata": {
  "colab": {
   "authorship_tag": "ABX9TyPewK+OLceMejoLigxaid1v",
   "provenance": []
  },
  "kernelspec": {
   "display_name": "algoEnv",
   "language": "python",
   "name": "python3"
  },
  "language_info": {
   "codemirror_mode": {
    "name": "ipython",
    "version": 3
   },
   "file_extension": ".py",
   "mimetype": "text/x-python",
   "name": "python",
   "nbconvert_exporter": "python",
   "pygments_lexer": "ipython3",
   "version": "3.12.11"
  }
 },
 "nbformat": 4,
 "nbformat_minor": 0
}
