{
 "cells": [
  {
   "cell_type": "code",
   "execution_count": 1,
   "id": "f6a84482",
   "metadata": {
    "execution": {
     "iopub.execute_input": "2021-12-09T14:37:27.951442Z",
     "iopub.status.busy": "2021-12-09T14:37:27.950774Z",
     "iopub.status.idle": "2021-12-09T14:37:28.421383Z",
     "shell.execute_reply": "2021-12-09T14:37:28.420595Z",
     "shell.execute_reply.started": "2021-12-09T14:35:53.593259Z"
    },
    "papermill": {
     "duration": 0.488846,
     "end_time": "2021-12-09T14:37:28.421610",
     "exception": false,
     "start_time": "2021-12-09T14:37:27.932764",
     "status": "completed"
    },
    "tags": []
   },
   "outputs": [],
   "source": [
    "import networkx as nx\n",
    "import matplotlib.pyplot as plt\n",
    "\n",
    "AGraph = nx.Graph()\n",
    "\n",
    "Nodes = range(1,6)\n",
    "Edges = [(1,2), (2,3), (3,4), (4,5), (1,3), (1,5), (1,6)]\n",
    "\n",
    "AGraph.add_nodes_from(Nodes)\n",
    "AGraph.add_edges_from(Edges)"
   ]
  },
  {
   "cell_type": "code",
   "execution_count": 2,
   "id": "018af9ef",
   "metadata": {
    "collapsed": false,
    "execution": {
     "iopub.execute_input": "2021-12-09T14:37:28.442852Z",
     "iopub.status.busy": "2021-12-09T14:37:28.437303Z",
     "iopub.status.idle": "2021-12-09T14:37:28.447207Z",
     "shell.execute_reply": "2021-12-09T14:37:28.446670Z",
     "shell.execute_reply.started": "2021-12-09T14:35:53.945444Z"
    },
    "jupyter": {
     "outputs_hidden": false
    },
    "papermill": {
     "duration": 0.018486,
     "end_time": "2021-12-09T14:37:28.447350",
     "exception": false,
     "start_time": "2021-12-09T14:37:28.428864",
     "status": "completed"
    },
    "tags": []
   },
   "outputs": [
    {
     "data": {
      "text/plain": [
       "{1: 0.8, 2: 0.4, 3: 0.6000000000000001, 4: 0.4, 5: 0.4, 6: 0.2}"
      ]
     },
     "execution_count": 2,
     "metadata": {},
     "output_type": "execute_result"
    }
   ],
   "source": [
    "nx.degree_centrality(AGraph)"
   ]
  },
  {
   "cell_type": "code",
   "execution_count": 3,
   "id": "200a19e1",
   "metadata": {
    "collapsed": false,
    "execution": {
     "iopub.execute_input": "2021-12-09T14:37:28.479810Z",
     "iopub.status.busy": "2021-12-09T14:37:28.478781Z",
     "iopub.status.idle": "2021-12-09T14:37:28.673128Z",
     "shell.execute_reply": "2021-12-09T14:37:28.673692Z",
     "shell.execute_reply.started": "2021-12-09T14:35:54.331434Z"
    },
    "jupyter": {
     "outputs_hidden": false
    },
    "papermill": {
     "duration": 0.219867,
     "end_time": "2021-12-09T14:37:28.673877",
     "exception": false,
     "start_time": "2021-12-09T14:37:28.454010",
     "status": "completed"
    },
    "tags": []
   },
   "outputs": [
    {
     "data": {
      "image/png": "[encoded data removed]",
      "text/plain": [
       "<Figure size 432x288 with 1 Axes>"
      ]
     },
     "metadata": {},
     "output_type": "display_data"
    }
   ],
   "source": [
    "draw_params = {'with_labels':True,\n",
    "               'node_color':'skyblue',\n",
    "               'node_size':700, 'width':2, \n",
    "               'font_size':14,\n",
    "               'pos': nx.layout.spring_layout(AGraph, seed=5)}\n",
    "\n",
    "nx.draw(AGraph, **draw_params)"
   ]
  },
  {
   "cell_type": "code",
   "execution_count": 4,
   "id": "be29080f",
   "metadata": {
    "collapsed": false,
    "execution": {
     "iopub.execute_input": "2021-12-09T14:37:28.691891Z",
     "iopub.status.busy": "2021-12-09T14:37:28.691171Z",
     "iopub.status.idle": "2021-12-09T14:37:28.697673Z",
     "shell.execute_reply": "2021-12-09T14:37:28.697105Z",
     "shell.execute_reply.started": "2021-12-09T14:36:13.209663Z"
    },
    "jupyter": {
     "outputs_hidden": false
    },
    "papermill": {
     "duration": 0.016788,
     "end_time": "2021-12-09T14:37:28.697824",
     "exception": false,
     "start_time": "2021-12-09T14:37:28.681036",
     "status": "completed"
    },
    "tags": []
   },
   "outputs": [
    {
     "data": {
      "text/plain": [
       "{1: 0.6944444444444445,\n",
       " 2: 0.5208333333333334,\n",
       " 3: 0.5952380952380952,\n",
       " 4: 0.462962962962963,\n",
       " 5: 0.5208333333333334,\n",
       " 6: 0.4166666666666667,\n",
       " 7: 0.0}"
      ]
     },
     "execution_count": 4,
     "metadata": {},
     "output_type": "execute_result"
    }
   ],
   "source": [
    "AGraph.add_node(7)\n",
    "nx.closeness_centrality(AGraph)"
   ]
  },
  {
   "cell_type": "code",
   "execution_count": 5,
   "id": "b58256c0",
   "metadata": {
    "collapsed": false,
    "execution": {
     "iopub.execute_input": "2021-12-09T14:37:28.720693Z",
     "iopub.status.busy": "2021-12-09T14:37:28.719895Z",
     "iopub.status.idle": "2021-12-09T14:37:28.722581Z",
     "shell.execute_reply": "2021-12-09T14:37:28.723076Z",
     "shell.execute_reply.started": "2021-12-09T14:36:19.265328Z"
    },
    "jupyter": {
     "outputs_hidden": false
    },
    "papermill": {
     "duration": 0.01747,
     "end_time": "2021-12-09T14:37:28.723245",
     "exception": false,
     "start_time": "2021-12-09T14:37:28.705775",
     "status": "completed"
    },
    "tags": []
   },
   "outputs": [
    {
     "data": {
      "text/plain": [
       "{1: 0.36666666666666664,\n",
       " 2: 0.0,\n",
       " 3: 0.13333333333333333,\n",
       " 4: 0.03333333333333333,\n",
       " 5: 0.06666666666666667,\n",
       " 6: 0.0,\n",
       " 7: 0.0}"
      ]
     },
     "execution_count": 5,
     "metadata": {},
     "output_type": "execute_result"
    }
   ],
   "source": [
    "nx.betweenness_centrality(AGraph)"
   ]
  }
 ],
 "metadata": {
  "kernelspec": {
   "display_name": "Python 3",
   "language": "python",
   "name": "python3"
  },
  "language_info": {
   "codemirror_mode": {
    "name": "ipython",
    "version": 3
   },
   "file_extension": ".py",
   "mimetype": "text/x-python",
   "name": "python",
   "nbconvert_exporter": "python",
   "pygments_lexer": "ipython3",
   "version": "3.7.12"
  },
  "papermill": {
   "default_parameters": {},
   "duration": 12.538641,
   "end_time": "2021-12-09T14:37:29.442130",
   "environment_variables": {},
   "exception": null,
   "input_path": "__notebook__.ipynb",
   "output_path": "__notebook__.ipynb",
   "parameters": {},
   "start_time": "2021-12-09T14:37:16.903489",
   "version": "2.3.3"
  }
 },
 "nbformat": 4,
 "nbformat_minor": 5
}
