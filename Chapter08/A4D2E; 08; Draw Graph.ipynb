{
 "cells": [
  {
   "cell_type": "code",
   "execution_count": 1,
   "id": "7db567fb",
   "metadata": {
    "execution": {
     "iopub.execute_input": "2021-12-09T14:32:29.889385Z",
     "iopub.status.busy": "2021-12-09T14:32:29.888765Z",
     "iopub.status.idle": "2021-12-09T14:32:30.324642Z",
     "shell.execute_reply": "2021-12-09T14:32:30.325156Z",
     "shell.execute_reply.started": "2021-12-09T14:20:50.471849Z"
    },
    "papermill": {
     "duration": 0.451004,
     "end_time": "2021-12-09T14:32:30.325447",
     "exception": false,
     "start_time": "2021-12-09T14:32:29.874443",
     "status": "completed"
    },
    "tags": []
   },
   "outputs": [],
   "source": [
    "import networkx as nx\n",
    "import matplotlib.pyplot as plt"
   ]
  },
  {
   "cell_type": "code",
   "execution_count": 2,
   "id": "135c7749",
   "metadata": {
    "collapsed": false,
    "execution": {
     "iopub.execute_input": "2021-12-09T14:32:30.340680Z",
     "iopub.status.busy": "2021-12-09T14:32:30.340036Z",
     "iopub.status.idle": "2021-12-09T14:32:30.341561Z",
     "shell.execute_reply": "2021-12-09T14:32:30.342112Z",
     "shell.execute_reply.started": "2021-12-09T14:20:50.907971Z"
    },
    "jupyter": {
     "outputs_hidden": false
    },
    "papermill": {
     "duration": 0.011194,
     "end_time": "2021-12-09T14:32:30.342272",
     "exception": false,
     "start_time": "2021-12-09T14:32:30.331078",
     "status": "completed"
    },
    "tags": []
   },
   "outputs": [],
   "source": [
    "AGraph = nx.Graph()"
   ]
  },
  {
   "cell_type": "code",
   "execution_count": 3,
   "id": "6afa23c5",
   "metadata": {
    "execution": {
     "iopub.execute_input": "2021-12-09T14:32:30.356674Z",
     "iopub.status.busy": "2021-12-09T14:32:30.356025Z",
     "iopub.status.idle": "2021-12-09T14:32:30.359107Z",
     "shell.execute_reply": "2021-12-09T14:32:30.358619Z",
     "shell.execute_reply.started": "2021-12-09T14:20:50.912768Z"
    },
    "papermill": {
     "duration": 0.012404,
     "end_time": "2021-12-09T14:32:30.359244",
     "exception": false,
     "start_time": "2021-12-09T14:32:30.346840",
     "status": "completed"
    },
    "tags": []
   },
   "outputs": [],
   "source": [
    "Nodes = range(1,5)\n",
    "Edges = [(1,2), (2,3), (3,4), (4,5), (1,3), (1,5)]"
   ]
  },
  {
   "cell_type": "code",
   "execution_count": 4,
   "id": "c45558ff",
   "metadata": {
    "execution": {
     "iopub.execute_input": "2021-12-09T14:32:30.371103Z",
     "iopub.status.busy": "2021-12-09T14:32:30.370472Z",
     "iopub.status.idle": "2021-12-09T14:32:30.374136Z",
     "shell.execute_reply": "2021-12-09T14:32:30.374641Z",
     "shell.execute_reply.started": "2021-12-09T14:20:50.926310Z"
    },
    "papermill": {
     "duration": 0.011082,
     "end_time": "2021-12-09T14:32:30.374805",
     "exception": false,
     "start_time": "2021-12-09T14:32:30.363723",
     "status": "completed"
    },
    "tags": []
   },
   "outputs": [],
   "source": [
    "AGraph.add_nodes_from(Nodes)\n",
    "AGraph.add_edges_from(Edges)"
   ]
  },
  {
   "cell_type": "code",
   "execution_count": 5,
   "id": "ce9021de",
   "metadata": {
    "collapsed": false,
    "execution": {
     "iopub.execute_input": "2021-12-09T14:32:30.386970Z",
     "iopub.status.busy": "2021-12-09T14:32:30.386362Z",
     "iopub.status.idle": "2021-12-09T14:32:30.563059Z",
     "shell.execute_reply": "2021-12-09T14:32:30.563512Z",
     "shell.execute_reply.started": "2021-12-09T14:31:38.612517Z"
    },
    "jupyter": {
     "outputs_hidden": false
    },
    "papermill": {
     "duration": 0.184316,
     "end_time": "2021-12-09T14:32:30.563698",
     "exception": false,
     "start_time": "2021-12-09T14:32:30.379382",
     "status": "completed"
    },
    "tags": []
   },
   "outputs": [
    {
     "data": {
      "image/png": "[encoded data removed]",
      "text/plain": [
       "<Figure size 432x288 with 1 Axes>"
      ]
     },
     "metadata": {},
     "output_type": "display_data"
    }
   ],
   "source": [
    "draw_params = {'with_labels':True,\n",
    "               'node_color':'skyblue',\n",
    "               'node_size':700, 'width':2, \n",
    "               'font_size':14,\n",
    "               'pos': nx.layout.spring_layout(AGraph, seed=1)}\n",
    "\n",
    "nx.draw(AGraph, **draw_params)\n",
    "plt.show()"
   ]
  }
 ],
 "metadata": {
  "kernelspec": {
   "display_name": "Python 3",
   "language": "python",
   "name": "python3"
  },
  "language_info": {
   "codemirror_mode": {
    "name": "ipython",
    "version": 3
   },
   "file_extension": ".py",
   "mimetype": "text/x-python",
   "name": "python",
   "nbconvert_exporter": "python",
   "pygments_lexer": "ipython3",
   "version": "3.7.12"
  },
  "papermill": {
   "default_parameters": {},
   "duration": 9.93439,
   "end_time": "2021-12-09T14:32:31.178690",
   "environment_variables": {},
   "exception": null,
   "input_path": "__notebook__.ipynb",
   "output_path": "__notebook__.ipynb",
   "parameters": {},
   "start_time": "2021-12-09T14:32:21.244300",
   "version": "2.3.3"
  }
 },
 "nbformat": 4,
 "nbformat_minor": 5
}
