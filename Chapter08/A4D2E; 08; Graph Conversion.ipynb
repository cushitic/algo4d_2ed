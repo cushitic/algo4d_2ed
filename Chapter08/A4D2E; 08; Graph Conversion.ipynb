{
 "cells": [
  {
   "cell_type": "code",
   "execution_count": 1,
   "id": "161072b8",
   "metadata": {
    "execution": {
     "iopub.execute_input": "2021-12-09T15:10:39.964424Z",
     "iopub.status.busy": "2021-12-09T15:10:39.962581Z",
     "iopub.status.idle": "2021-12-09T15:10:40.329228Z",
     "shell.execute_reply": "2021-12-09T15:10:40.328317Z",
     "shell.execute_reply.started": "2021-12-09T14:37:41.148792Z"
    },
    "papermill": {
     "duration": 0.376815,
     "end_time": "2021-12-09T15:10:40.329393",
     "exception": false,
     "start_time": "2021-12-09T15:10:39.952578",
     "status": "completed"
    },
    "tags": []
   },
   "outputs": [],
   "source": [
    "import networkx as nx\n",
    "import matplotlib.pyplot as plt\n",
    "\n",
    "AGraph = nx.Graph()\n",
    "\n",
    "Nodes = range(1,6)\n",
    "Edges = [(1,2), (2,3), (3,4), (4,5), (1,3), (1,5), (1,6)]\n",
    "\n",
    "AGraph.add_nodes_from(Nodes)\n",
    "AGraph.add_edges_from(Edges)"
   ]
  },
  {
   "cell_type": "code",
   "execution_count": 2,
   "id": "6535f7d9",
   "metadata": {
    "collapsed": false,
    "execution": {
     "iopub.execute_input": "2021-12-09T15:10:40.342308Z",
     "iopub.status.busy": "2021-12-09T15:10:40.340251Z",
     "iopub.status.idle": "2021-12-09T15:10:40.350472Z",
     "shell.execute_reply": "2021-12-09T15:10:40.350989Z",
     "shell.execute_reply.started": "2021-12-09T14:37:41.596875Z"
    },
    "jupyter": {
     "outputs_hidden": false
    },
    "papermill": {
     "duration": 0.017333,
     "end_time": "2021-12-09T15:10:40.351144",
     "exception": false,
     "start_time": "2021-12-09T15:10:40.333811",
     "status": "completed"
    },
    "tags": []
   },
   "outputs": [
    {
     "data": {
      "text/plain": [
       "matrix([[0., 1., 1., 0., 1., 1.],\n",
       "        [1., 0., 1., 0., 0., 0.],\n",
       "        [1., 1., 0., 1., 0., 0.],\n",
       "        [0., 0., 1., 0., 1., 0.],\n",
       "        [1., 0., 0., 1., 0., 0.],\n",
       "        [1., 0., 0., 0., 0., 0.]])"
      ]
     },
     "execution_count": 2,
     "metadata": {},
     "output_type": "execute_result"
    }
   ],
   "source": [
    "nx.to_numpy_matrix(AGraph)"
   ]
  },
  {
   "cell_type": "code",
   "execution_count": 3,
   "id": "33029421",
   "metadata": {
    "collapsed": false,
    "execution": {
     "iopub.execute_input": "2021-12-09T15:10:40.363863Z",
     "iopub.status.busy": "2021-12-09T15:10:40.363317Z",
     "iopub.status.idle": "2021-12-09T15:10:40.446815Z",
     "shell.execute_reply": "2021-12-09T15:10:40.446320Z",
     "shell.execute_reply.started": "2021-12-09T14:37:41.608904Z"
    },
    "jupyter": {
     "outputs_hidden": false
    },
    "papermill": {
     "duration": 0.09152,
     "end_time": "2021-12-09T15:10:40.446945",
     "exception": false,
     "start_time": "2021-12-09T15:10:40.355425",
     "status": "completed"
    },
    "tags": []
   },
   "outputs": [
    {
     "name": "stdout",
     "output_type": "stream",
     "text": [
      "  (0, 1)\t1\n",
      "  (0, 2)\t1\n",
      "  (0, 4)\t1\n",
      "  (0, 5)\t1\n",
      "  (1, 0)\t1\n",
      "  (1, 2)\t1\n",
      "  (2, 0)\t1\n",
      "  (2, 1)\t1\n",
      "  (2, 3)\t1\n",
      "  (3, 2)\t1\n",
      "  (3, 4)\t1\n",
      "  (4, 0)\t1\n",
      "  (4, 3)\t1\n",
      "  (5, 0)\t1\n"
     ]
    }
   ],
   "source": [
    "print(nx.to_scipy_sparse_matrix(AGraph))"
   ]
  },
  {
   "cell_type": "code",
   "execution_count": 4,
   "id": "aed5f3b5",
   "metadata": {
    "collapsed": false,
    "execution": {
     "iopub.execute_input": "2021-12-09T15:10:40.458542Z",
     "iopub.status.busy": "2021-12-09T15:10:40.457973Z",
     "iopub.status.idle": "2021-12-09T15:10:40.462263Z",
     "shell.execute_reply": "2021-12-09T15:10:40.462737Z",
     "shell.execute_reply.started": "2021-12-09T14:37:41.713641Z"
    },
    "jupyter": {
     "outputs_hidden": false
    },
    "papermill": {
     "duration": 0.011535,
     "end_time": "2021-12-09T15:10:40.462885",
     "exception": false,
     "start_time": "2021-12-09T15:10:40.451350",
     "status": "completed"
    },
    "tags": []
   },
   "outputs": [
    {
     "data": {
      "text/plain": [
       "{1: [2, 3, 5, 6], 2: [1, 3], 3: [2, 4, 1], 4: [3, 5], 5: [4, 1], 6: [1]}"
      ]
     },
     "execution_count": 4,
     "metadata": {},
     "output_type": "execute_result"
    }
   ],
   "source": [
    "nx.to_dict_of_lists(AGraph)"
   ]
  }
 ],
 "metadata": {
  "kernelspec": {
   "display_name": "Python 3",
   "language": "python",
   "name": "python3"
  },
  "language_info": {
   "codemirror_mode": {
    "name": "ipython",
    "version": 3
   },
   "file_extension": ".py",
   "mimetype": "text/x-python",
   "name": "python",
   "nbconvert_exporter": "python",
   "pygments_lexer": "ipython3",
   "version": "3.7.12"
  },
  "papermill": {
   "default_parameters": {},
   "duration": 9.92488,
   "end_time": "2021-12-09T15:10:41.076109",
   "environment_variables": {},
   "exception": null,
   "input_path": "__notebook__.ipynb",
   "output_path": "__notebook__.ipynb",
   "parameters": {},
   "start_time": "2021-12-09T15:10:31.151229",
   "version": "2.3.3"
  }
 },
 "nbformat": 4,
 "nbformat_minor": 5
}
