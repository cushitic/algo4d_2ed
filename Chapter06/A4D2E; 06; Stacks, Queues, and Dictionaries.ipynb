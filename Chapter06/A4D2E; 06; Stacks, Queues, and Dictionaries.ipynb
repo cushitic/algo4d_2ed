{
 "cells": [
  {
   "cell_type": "markdown",
   "metadata": {},
   "source": [
    "# Stacking and Piling Data in Order"
   ]
  },
  {
   "cell_type": "markdown",
   "metadata": {},
   "source": [
    "## Ordering in stacks"
   ]
  },
  {
   "cell_type": "code",
   "execution_count": 1,
   "metadata": {},
   "outputs": [],
   "source": [
    "# Create the stack and associated code.\n",
    "\n",
    "MyStack = []\n",
    "StackSize = 3\n",
    "\n",
    "def DisplayStack():\n",
    "   print(\"Stack currently contains:\")\n",
    "   for Item in MyStack:\n",
    "      print(Item)\n",
    "   \n",
    "def Push(Value):\n",
    "   if len(MyStack) < StackSize:\n",
    "      MyStack.append(Value)\n",
    "   else:\n",
    "      print(\"Stack is full!\")\n",
    "\n",
    "def Pop():\n",
    "   if len(MyStack) > 0:\n",
    "      print(\"Popping: \", MyStack.pop())\n",
    "   else:\n",
    "      print(\"Stack is empty.\")"
   ]
  },
  {
   "cell_type": "code",
   "execution_count": 2,
   "metadata": {},
   "outputs": [
    {
     "name": "stdout",
     "output_type": "stream",
     "text": [
      "Stack currently contains:\n",
      "1\n",
      "2\n",
      "3\n",
      "Stack is full!\n",
      "Popping:  3\n",
      "Stack currently contains:\n",
      "1\n",
      "2\n",
      "Popping:  2\n",
      "Popping:  1\n",
      "Stack is empty.\n"
     ]
    }
   ],
   "source": [
    "# Test the stack functionality.\n",
    "\n",
    "Push(1)\n",
    "Push(2)\n",
    "Push(3)\n",
    "DisplayStack()\n",
    "\n",
    "Push(4)\n",
    "\n",
    "Pop()\n",
    "DisplayStack()\n",
    "\n",
    "Pop()\n",
    "Pop()\n",
    "Pop()"
   ]
  },
  {
   "cell_type": "markdown",
   "metadata": {},
   "source": [
    "## Using queues"
   ]
  },
  {
   "cell_type": "code",
   "execution_count": 3,
   "metadata": {},
   "outputs": [
    {
     "name": "stdout",
     "output_type": "stream",
     "text": [
      "Queue empty:  True\n",
      "Queue full:  True\n",
      "Popping:  1\n",
      "Queue full:  False\n",
      "Popping:  2\n",
      "Popping:  3\n",
      "Queue empty:  True\n"
     ]
    }
   ],
   "source": [
    "import queue\n",
    "\n",
    "MyQueue = queue.Queue(3)\n",
    "\n",
    "print(\"Queue empty: \", MyQueue.empty())\n",
    "\n",
    "MyQueue.put(1)\n",
    "MyQueue.put(2)\n",
    "MyQueue.put(3)\n",
    "print(\"Queue full: \", MyQueue.full())\n",
    "\n",
    "print(\"Popping: \", MyQueue.get())\n",
    "print(\"Queue full: \", MyQueue.full())\n",
    "\n",
    "print(\"Popping: \", MyQueue.get())\n",
    "print(\"Popping: \", MyQueue.get())\n",
    "print(\"Queue empty: \", MyQueue.empty())\n"
   ]
  },
  {
   "cell_type": "markdown",
   "metadata": {},
   "source": [
    "## Finding data using dictionaries"
   ]
  },
  {
   "cell_type": "code",
   "execution_count": 4,
   "metadata": {},
   "outputs": [
    {
     "name": "stdout",
     "output_type": "stream",
     "text": [
      "Yellow\n",
      "dict_keys(['Sam', 'Amy', 'Sarah'])\n",
      "Sam likes the color Blue.\n",
      "Amy likes the color Red.\n",
      "Sarah likes the color Yellow.\n",
      "{'Amy': 'Red', 'Sarah': 'Purple', 'Harry': 'Orange'}\n"
     ]
    }
   ],
   "source": [
    "Colors = {\"Sam\": \"Blue\", \"Amy\": \"Red\", \"Sarah\": \"Yellow\"}\n",
    "\n",
    "print(Colors[\"Sarah\"])\n",
    "print(Colors.keys())\n",
    "\n",
    "for Item in Colors.keys():\n",
    "   print(\"{0} likes the color {1}.\"\n",
    "      .format(Item, Colors[Item]))\n",
    "\n",
    "Colors[\"Sarah\"] = \"Purple\"\n",
    "Colors.update({\"Harry\": \"Orange\"})\n",
    "del Colors[\"Sam\"]\n",
    "\n",
    "print(Colors)"
   ]
  },
  {
   "cell_type": "code",
   "execution_count": null,
   "metadata": {},
   "outputs": [],
   "source": []
  }
 ],
 "metadata": {
  "anaconda-cloud": {},
  "kernelspec": {
   "display_name": "Python 3",
   "language": "python",
   "name": "python3"
  },
  "language_info": {
   "codemirror_mode": {
    "name": "ipython",
    "version": 3
   },
   "file_extension": ".py",
   "mimetype": "text/x-python",
   "name": "python",
   "nbconvert_exporter": "python",
   "pygments_lexer": "ipython3",
   "version": "3.8.3"
  }
 },
 "nbformat": 4,
 "nbformat_minor": 1
}
