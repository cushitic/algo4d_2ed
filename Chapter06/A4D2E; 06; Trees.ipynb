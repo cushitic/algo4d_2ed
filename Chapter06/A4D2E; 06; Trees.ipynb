{
 "cells": [
  {
   "cell_type": "markdown",
   "metadata": {},
   "source": [
    "# Working with Trees"
   ]
  },
  {
   "cell_type": "markdown",
   "metadata": {},
   "source": [
    "## Building a tree"
   ]
  },
  {
   "cell_type": "code",
   "execution_count": 1,
   "metadata": {},
   "outputs": [],
   "source": [
    "class binaryTree:\n",
    "    def __init__(self, nodeData, left=None, right=None):\n",
    "        self.nodeData = nodeData\n",
    "        self.left  = left\n",
    "        self.right = right\n",
    "\n",
    "    def __str__(self):\n",
    "        return str(self.nodeData)"
   ]
  },
  {
   "cell_type": "code",
   "execution_count": 2,
   "metadata": {},
   "outputs": [],
   "source": [
    "tree = binaryTree(\"Root\")\n",
    "BranchA = binaryTree(\"Branch A\")\n",
    "BranchB = binaryTree(\"Branch B\")\n",
    "tree.left = BranchA\n",
    "tree.right = BranchB\n",
    "\n",
    "LeafC = binaryTree(\"Leaf C\")\n",
    "LeafD = binaryTree(\"Leaf D\")\n",
    "LeafE = binaryTree(\"Leaf E\")\n",
    "LeafF = binaryTree(\"Leaf F\")\n",
    "BranchA.left = LeafC\n",
    "BranchA.right = LeafD\n",
    "BranchB.left = LeafE\n",
    "BranchB.right = LeafF"
   ]
  },
  {
   "cell_type": "code",
   "execution_count": 3,
   "metadata": {},
   "outputs": [
    {
     "name": "stdout",
     "output_type": "stream",
     "text": [
      "Leaf C\n",
      "Leaf D\n",
      "Branch A\n",
      "Leaf E\n",
      "Leaf F\n",
      "Branch B\n",
      "Root\n"
     ]
    }
   ],
   "source": [
    "def traverse(tree):\n",
    "    if tree.left != None:\n",
    "        traverse(tree.left)\n",
    "    if tree.right != None:\n",
    "        traverse(tree.right)\n",
    "    print(tree.nodeData)\n",
    "    \n",
    "traverse(tree)"
   ]
  },
  {
   "cell_type": "code",
   "execution_count": null,
   "metadata": {},
   "outputs": [],
   "source": []
  }
 ],
 "metadata": {
  "anaconda-cloud": {},
  "kernelspec": {
   "display_name": "Python 3",
   "language": "python",
   "name": "python3"
  },
  "language_info": {
   "codemirror_mode": {
    "name": "ipython",
    "version": 3
   },
   "file_extension": ".py",
   "mimetype": "text/x-python",
   "name": "python",
   "nbconvert_exporter": "python",
   "pygments_lexer": "ipython3",
   "version": "3.8.3"
  }
 },
 "nbformat": 4,
 "nbformat_minor": 1
}
