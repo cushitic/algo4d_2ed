{
 "cells": [
  {
   "cell_type": "markdown",
   "metadata": {},
   "source": [
    "# Representing Relations in a Graph"
   ]
  },
  {
   "cell_type": "markdown",
   "metadata": {},
   "source": [
    "## Building graphs"
   ]
  },
  {
   "cell_type": "code",
   "execution_count": 1,
   "metadata": {},
   "outputs": [],
   "source": [
    "graph = {'A': ['B', 'F'],\n",
    "         'B': ['A', 'C'],\n",
    "         'C': ['B', 'D'],\n",
    "         'D': ['C', 'E'],\n",
    "         'E': ['D', 'F'],\n",
    "         'F': ['E', 'A']}"
   ]
  },
  {
   "cell_type": "code",
   "execution_count": 2,
   "metadata": {},
   "outputs": [
    {
     "name": "stdout",
     "output_type": "stream",
     "text": [
      "Checking Node  A\n",
      "Path so far  ['B']\n",
      "Checking Node  B\n",
      "Checking Node  F\n",
      "Path so far  ['B', 'A']\n",
      "Checking Node  E\n",
      "Path so far  ['B', 'A', 'F']\n",
      "Ending\n"
     ]
    },
    {
     "data": {
      "text/plain": [
       "['B', 'A', 'F', 'E']"
      ]
     },
     "execution_count": 2,
     "metadata": {},
     "output_type": "execute_result"
    }
   ],
   "source": [
    "def find_path(graph, start, end, path=[]):\n",
    "        path = path + [start]\n",
    "        \n",
    "        if start == end:\n",
    "            print(\"Ending\")\n",
    "            return path\n",
    "        \n",
    "        for node in graph[start]:\n",
    "            print(\"Checking Node \", node)\n",
    "            \n",
    "            if node not in path:\n",
    "                print(\"Path so far \", path)\n",
    "                \n",
    "                newp = find_path(graph, node, end, path)\n",
    "                if newp:\n",
    "                    return newp\n",
    "\n",
    "find_path(graph, 'B', 'E')"
   ]
  },
  {
   "cell_type": "code",
   "execution_count": null,
   "metadata": {},
   "outputs": [],
   "source": []
  }
 ],
 "metadata": {
  "anaconda-cloud": {},
  "kernelspec": {
   "display_name": "Python 3",
   "language": "python",
   "name": "python3"
  },
  "language_info": {
   "codemirror_mode": {
    "name": "ipython",
    "version": 3
   },
   "file_extension": ".py",
   "mimetype": "text/x-python",
   "name": "python",
   "nbconvert_exporter": "python",
   "pygments_lexer": "ipython3",
   "version": "3.8.3"
  }
 },
 "nbformat": 4,
 "nbformat_minor": 1
}
