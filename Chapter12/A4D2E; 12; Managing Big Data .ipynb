{
 "cells": [
  {
   "cell_type": "markdown",
   "source": [
    "# Chapter 12 - Managing Big Data "
   ],
   "metadata": {}
  },
  {
   "cell_type": "markdown",
   "source": [
    "## Reserving the right data (Reservoir sampling)"
   ],
   "metadata": {}
  },
  {
   "cell_type": "code",
   "execution_count": 10,
   "source": [
    "import string\r\n",
    "datastream = list(string.ascii_uppercase) \r\n",
    "datastream += list(string.ascii_lowercase)\r\n",
    "print(datastream)"
   ],
   "outputs": [
    {
     "output_type": "stream",
     "name": "stdout",
     "text": [
      "['A', 'B', 'C', 'D', 'E', 'F', 'G', 'H', 'I', 'J', 'K', 'L', 'M', 'N', 'O', 'P', 'Q', 'R', 'S', 'T', 'U', 'V', 'W', 'X', 'Y', 'Z', 'a', 'b', 'c', 'd', 'e', 'f', 'g', 'h', 'i', 'j', 'k', 'l', 'm', 'n', 'o', 'p', 'q', 'r', 's', 't', 'u', 'v', 'w', 'x', 'y', 'z']\n"
     ]
    }
   ],
   "metadata": {
    "collapsed": false
   }
  },
  {
   "cell_type": "code",
   "execution_count": 11,
   "source": [
    "from random import seed, randint\r\n",
    "seed(9) # change this value for different results\r\n",
    "sample_size = 5\r\n",
    "sample = []"
   ],
   "outputs": [],
   "metadata": {
    "collapsed": false
   }
  },
  {
   "cell_type": "code",
   "execution_count": 12,
   "source": [
    "for index, element in enumerate(datastream):\r\n",
    "        # Until the reservoir is filled, we add elements\r\n",
    "        if index < sample_size:\r\n",
    "                sample.append(element)\r\n",
    "        else:\r\n",
    "                # Having filled the reservoir, we test a\r\n",
    "                # random replacement based on the elements\r\n",
    "                # seen in the data stream\r\n",
    "                drawn = randint(0, index)\r\n",
    "                # If the drawn number is less or equal the\r\n",
    "                # sample size, we replace a previous element\r\n",
    "                # with the one arriving from the stream\r\n",
    "                if drawn < sample_size:\r\n",
    "                        sample[drawn] = element"
   ],
   "outputs": [],
   "metadata": {
    "collapsed": false
   }
  },
  {
   "cell_type": "code",
   "execution_count": 13,
   "source": [
    "print(sample)"
   ],
   "outputs": [
    {
     "output_type": "stream",
     "name": "stdout",
     "text": [
      "['y', 'e', 'v', 'F', 'i']\n"
     ]
    }
   ],
   "metadata": {
    "collapsed": false
   }
  },
  {
   "cell_type": "markdown",
   "source": [
    "## Filtering stream elements by heart (Bloom Filter)"
   ],
   "metadata": {}
  },
  {
   "cell_type": "code",
   "execution_count": 14,
   "source": [
    "hash_functions = 3\r\n",
    "bit_vector_length = 10\r\n",
    "bit_vector = [0] * bit_vector_length"
   ],
   "outputs": [],
   "metadata": {
    "collapsed": true
   }
  },
  {
   "cell_type": "code",
   "execution_count": 15,
   "source": [
    "from hashlib import md5, sha1\r\n",
    "\r\n",
    "def hash_f(element, i, length):\r\n",
    "    \"\"\" This is a magic function \"\"\"\r\n",
    "    h1 = int(md5(element.encode('ascii')).hexdigest(), 16)\r\n",
    "    h2 = int(sha1(element.encode('ascii')).hexdigest(), 16)\r\n",
    "    return (h1 + i*h2) % length\r\n",
    "\r\n",
    "def insert_filter(website):\r\n",
    "    result = list()\r\n",
    "    for hash_number in range(hash_functions):\r\n",
    "        position = hash_f(website, hash_number, \r\n",
    "                          bit_vector_length)\r\n",
    "        result.append(position)\r\n",
    "        bit_vector[position] = 1\r\n",
    "    print('Inserted in positions: %s' % result)\r\n",
    "\r\n",
    "def check_filter(website):\r\n",
    "    result = list()\r\n",
    "    for hash_number in range(hash_functions):\r\n",
    "        position = hash_f(website, hash_number, \r\n",
    "                          bit_vector_length)\r\n",
    "        result.append((position,bit_vector[position]))\r\n",
    "    print('Bytes in positions: %s' % result)"
   ],
   "outputs": [],
   "metadata": {
    "collapsed": false
   }
  },
  {
   "cell_type": "code",
   "execution_count": 16,
   "source": [
    "insert_filter('wikipedia.org')\r\n",
    "print(bit_vector)"
   ],
   "outputs": [
    {
     "output_type": "stream",
     "name": "stdout",
     "text": [
      "Inserted in positions: [0, 8, 6]\n",
      "[1, 0, 0, 0, 0, 0, 1, 0, 1, 0]\n"
     ]
    }
   ],
   "metadata": {
    "collapsed": false
   }
  },
  {
   "cell_type": "code",
   "execution_count": 17,
   "source": [
    "insert_filter('youtube.com')\r\n",
    "print(bit_vector)"
   ],
   "outputs": [
    {
     "output_type": "stream",
     "name": "stdout",
     "text": [
      "Inserted in positions: [3, 0, 7]\n",
      "[1, 0, 0, 1, 0, 0, 1, 1, 1, 0]\n"
     ]
    }
   ],
   "metadata": {
    "collapsed": false
   }
  },
  {
   "cell_type": "code",
   "execution_count": 18,
   "source": [
    "check_filter('yahoo.com')"
   ],
   "outputs": [
    {
     "output_type": "stream",
     "name": "stdout",
     "text": [
      "Bytes in positions: [(7, 1), (5, 0), (3, 1)]\n"
     ]
    }
   ],
   "metadata": {
    "collapsed": false
   }
  }
 ],
 "metadata": {
  "kernelspec": {
   "name": "python3",
   "display_name": "Python 3.7.6 64-bit ('base': conda)"
  },
  "language_info": {
   "codemirror_mode": {
    "name": "ipython",
    "version": 3
   },
   "file_extension": ".py",
   "mimetype": "text/x-python",
   "name": "python",
   "nbconvert_exporter": "python",
   "pygments_lexer": "ipython3",
   "version": "3.7.6"
  },
  "interpreter": {
   "hash": "e428ee7bafccfb8a186c0a36405164adf3f2163b04c652bb6e95dc54c25bd3be"
  }
 },
 "nbformat": 4,
 "nbformat_minor": 2
}