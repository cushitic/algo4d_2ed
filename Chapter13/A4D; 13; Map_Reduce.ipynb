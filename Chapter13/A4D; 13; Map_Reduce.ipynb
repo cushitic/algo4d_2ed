{
 "cells": [
  {
   "cell_type": "markdown",
   "source": [
    "## Devising the MapReduce solution"
   ],
   "metadata": {}
  },
  {
   "cell_type": "code",
   "execution_count": 1,
   "source": [
    "def mapper(fun, *iter):\r\n",
    "    for i in zip(*iter):\r\n",
    "        yield fun(*i)\r\n",
    "\r\n",
    "L = [0, 1, 2, 3, 4, 5, 6, 7, 8, 9]\r\n",
    "m = list(mapper(lambda x: x**2, L))\r\n",
    "print(m)"
   ],
   "outputs": [
    {
     "output_type": "stream",
     "name": "stdout",
     "text": [
      "[0, 1, 4, 9, 16, 25, 36, 49, 64, 81]\n"
     ]
    }
   ],
   "metadata": {
    "collapsed": false
   }
  },
  {
   "cell_type": "code",
   "execution_count": 2,
   "source": [
    "def reducer(fun, seq):\r\n",
    "    if len(seq)==1:\r\n",
    "        return seq[0]\r\n",
    "    else:\r\n",
    "        return fun(reducer(fun, seq[:-1]), seq[-1])\r\n",
    "\r\n",
    "L = [0, 1, 2, 3, 4, 5, 6, 7, 8, 9]\r\n",
    "m = list(mapper(lambda x: x**2, L))\r\n",
    "r = reducer(lambda x, y: x+y, m)\r\n",
    "print(r)"
   ],
   "outputs": [
    {
     "output_type": "stream",
     "name": "stdout",
     "text": [
      "285\n"
     ]
    }
   ],
   "metadata": {
    "collapsed": false
   }
  },
  {
   "cell_type": "markdown",
   "source": [
    "## Demonstrating counting words"
   ],
   "metadata": {}
  },
  {
   "cell_type": "code",
   "execution_count": 3,
   "source": [
    "from  urllib import request\r\n",
    "\r\n",
    "url = 'https://github.com/lmassaron/datasets/releases/'\r\n",
    "url += 'download/1.0/2600.txt'\r\n",
    "response = request.urlopen(url)\r\n",
    "text = response.read().decode('utf-8')[627:]"
   ],
   "outputs": [],
   "metadata": {
    "collapsed": false,
    "scrolled": true
   }
  },
  {
   "cell_type": "code",
   "execution_count": 4,
   "source": [
    "print (text[:37])"
   ],
   "outputs": [
    {
     "output_type": "stream",
     "name": "stdout",
     "text": [
      "WAR AND PEACE\n",
      "\n",
      "By Leo Tolstoy/Tolstoi\n"
     ]
    }
   ],
   "metadata": {
    "collapsed": false
   }
  },
  {
   "cell_type": "code",
   "execution_count": 5,
   "source": [
    "words = text.split()\r\n",
    "print ('Number of words: %i' % len(words))"
   ],
   "outputs": [
    {
     "output_type": "stream",
     "name": "stdout",
     "text": [
      "Number of words: 566218\n"
     ]
    }
   ],
   "metadata": {
    "collapsed": false
   }
  },
  {
   "cell_type": "code",
   "execution_count": 6,
   "source": [
    "import os\r\n",
    "if os.name == \"nt\":\r\n",
    "    #Safer multithreading on Windows\r\n",
    "    from multiprocessing.dummy import Pool\r\n",
    "else:\r\n",
    "    #Multiprocessing on Linux,Mac\r\n",
    "    from multiprocessing import Pool\r\n",
    "    \r\n",
    "from multiprocessing import cpu_count\r\n",
    "from functools import partial\r\n",
    "import string\r\n",
    "\r\n",
    "def remove_punctuation(text):\r\n",
    "    return ''.join([l for l in text if l in \r\n",
    "                    string.ascii_letters])\r\n",
    "\r\n",
    "def count_words(list_of_words, keywords):\r\n",
    "    results = list()\r\n",
    "    for word in list_of_words:\r\n",
    "        for keyword in keywords:\r\n",
    "            if keyword == remove_punctuation(\r\n",
    "                            word.upper()):\r\n",
    "                results.append((keyword,1))\r\n",
    "    return results\r\n",
    "\r\n",
    "def Partition(data, size):\r\n",
    "    return [data[x:x+size] for x in range(0, len(data), \r\n",
    "                                          size)]\r\n",
    "\r\n",
    "def Distribute(function, data, cores): \r\n",
    "    pool = Pool(cores)\r\n",
    "    results = pool.map(function, data)\r\n",
    "    pool.close()\r\n",
    "    return results\r\n",
    "\r\n",
    "def Shuffle_Sort(L):\r\n",
    "    # Shuffle\r\n",
    "    Mapping = dict()\r\n",
    "    for sublist in L:\r\n",
    "        for key_pair in sublist:\r\n",
    "            key, value = key_pair\r\n",
    "            if key in Mapping:\r\n",
    "                Mapping[key].append(key_pair)\r\n",
    "            else:\r\n",
    "                Mapping[key] = [key_pair]\r\n",
    "    return [Mapping[key] for key in Mapping]\r\n",
    "\r\n",
    "def Reduce(Mapping):\r\n",
    "  return (Mapping[0][0], sum([value for (key, value\r\n",
    "                                ) in Mapping]))"
   ],
   "outputs": [],
   "metadata": {
    "collapsed": false
   }
  },
  {
   "cell_type": "code",
   "execution_count": 8,
   "source": [
    "n = cpu_count()\r\n",
    "print ('You have %i cores available for MapReduce' % n)"
   ],
   "outputs": [
    {
     "output_type": "stream",
     "name": "stdout",
     "text": [
      "You have 4 cores available for MapReduce\n"
     ]
    }
   ],
   "metadata": {
    "collapsed": false
   }
  },
  {
   "cell_type": "code",
   "execution_count": 9,
   "source": [
    "Map = partial(count_words, \r\n",
    "              keywords=['WAR', 'PEACE', 'RUSSIA', \r\n",
    "                        'NAPOLEON'])\r\n",
    "map_result = Distribute(Map, \r\n",
    "                        Partition(\r\n",
    "        words,len(words)//n+1), n)\r\n",
    "print ('map_result is a list made of %i elements' % \r\n",
    "       len(map_result))\r\n",
    "print ('Preview of one element: %s]'% map_result[0][:5])"
   ],
   "outputs": [
    {
     "output_type": "stream",
     "name": "stdout",
     "text": [
      "map_result is a list made of 4 elements\n",
      "Preview of one element: [('WAR', 1), ('PEACE', 1), ('WAR', 1), ('WAR', 1), ('RUSSIA', 1)]]\n"
     ]
    }
   ],
   "metadata": {
    "collapsed": false
   }
  },
  {
   "cell_type": "code",
   "execution_count": 10,
   "source": [
    "Shuffled = Shuffle_Sort(map_result)\r\n",
    "print ('Shuffled is a list made of %i elements' % \r\n",
    "       len(Shuffled))\r\n",
    "print ('Preview of first element: %s]'% Shuffled[0][:5])\r\n",
    "print ('Preview of second element: %s]'% Shuffled[1][:5])"
   ],
   "outputs": [
    {
     "output_type": "stream",
     "name": "stdout",
     "text": [
      "Shuffled is a list made of 4 elements\n",
      "Preview of first element: [('WAR', 1), ('WAR', 1), ('WAR', 1), ('WAR', 1), ('WAR', 1)]]\n",
      "Preview of second element: [('PEACE', 1), ('PEACE', 1), ('PEACE', 1), ('PEACE', 1), ('PEACE', 1)]]\n"
     ]
    }
   ],
   "metadata": {
    "collapsed": false
   }
  },
  {
   "cell_type": "code",
   "execution_count": 11,
   "source": [
    "result = Distribute(Reduce, Shuffled, n)\r\n",
    "print ('Emitted results are: %s' % result)"
   ],
   "outputs": [
    {
     "output_type": "stream",
     "name": "stdout",
     "text": [
      "Emitted results are: [('WAR', 295), ('PEACE', 111), ('RUSSIA', 162), ('NAPOLEON', 475)]\n"
     ]
    }
   ],
   "metadata": {
    "collapsed": false
   }
  },
  {
   "cell_type": "code",
   "execution_count": 12,
   "source": [
    "from  urllib import request\r\n",
    "\r\n",
    "url = 'https://github.com/lmassaron/datasets/releases/'\r\n",
    "url += 'download/1.0/1661-0.txt'\r\n",
    "response = request.urlopen(url)\r\n",
    "text = response.read().decode('utf-8')[932:]\r\n",
    "words = text.split()"
   ],
   "outputs": [],
   "metadata": {
    "collapsed": false
   }
  },
  {
   "cell_type": "code",
   "execution_count": 13,
   "source": [
    "print (text[:60])\r\n",
    "print ('\\nTotal words are %i' % len(words))"
   ],
   "outputs": [
    {
     "output_type": "stream",
     "name": "stdout",
     "text": [
      "The Adventures of Sherlock Holmes\n",
      "\n",
      "by Arthur Conan Doyle\n",
      "\n",
      "\n",
      "Total words are 107411\n"
     ]
    }
   ],
   "metadata": {
    "collapsed": false
   }
  },
  {
   "cell_type": "code",
   "execution_count": 14,
   "source": [
    "Map = partial(count_words, \r\n",
    "              keywords=['WATSON', 'ELEMENTARY'])\r\n",
    "result = Distribute(Reduce, \r\n",
    "                    Shuffle_Sort(Distribute(Map, \r\n",
    "                    Partition(words,len(words)//n), n)),\r\n",
    "                    1)\r\n",
    "print ('Emitted results are: %s' % result)"
   ],
   "outputs": [
    {
     "output_type": "stream",
     "name": "stdout",
     "text": [
      "Emitted results are: [('WATSON', 81), ('ELEMENTARY', 1)]\n"
     ]
    }
   ],
   "metadata": {
    "collapsed": false
   }
  },
  {
   "cell_type": "code",
   "execution_count": null,
   "source": [],
   "outputs": [],
   "metadata": {
    "collapsed": true
   }
  }
 ],
 "metadata": {
  "anaconda-cloud": {},
  "kernelspec": {
   "name": "python3",
   "display_name": "Python 3.7.6 64-bit ('base': conda)"
  },
  "language_info": {
   "codemirror_mode": {
    "name": "ipython",
    "version": 3
   },
   "file_extension": ".py",
   "mimetype": "text/x-python",
   "name": "python",
   "nbconvert_exporter": "python",
   "pygments_lexer": "ipython3",
   "version": "3.7.6"
  },
  "interpreter": {
   "hash": "e428ee7bafccfb8a186c0a36405164adf3f2163b04c652bb6e95dc54c25bd3be"
  }
 },
 "nbformat": 4,
 "nbformat_minor": 1
}