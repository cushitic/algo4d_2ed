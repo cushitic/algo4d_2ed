{
 "cells": [
  {
   "cell_type": "code",
   "execution_count": 1,
   "metadata": {},
   "outputs": [
    {
     "name": "stdout",
     "output_type": "stream",
     "text": [
      "(506, 13)\n"
     ]
    }
   ],
   "source": [
    "from sklearn.datasets import load_boston\n",
    "Boston = load_boston()\n",
    "print(Boston.data.shape)"
   ]
  },
  {
   "cell_type": "markdown",
   "metadata": {},
   "source": [
    "As for the conversion of this snippet of code, there are a few problems. First, we cannot use neither scikit-learn, not the Boston dataset, which has been recently pointed out for being discriminatory and strongly biased."
   ]
  },
  {
   "cell_type": "markdown",
   "metadata": {},
   "source": [
    "A series of datasets (all in the public domain) from scikit-learn are mentioned in the chapter:\n",
    "\n",
    "* Boston\n",
    "* Iris\n",
    "* Diabetes\n",
    "* Digits\n",
    "* 20newsgroups\n",
    "* Olivetti faces\n",
    "\n",
    "Actually none of these is ever used in the book. "
   ]
  }
 ],
 "metadata": {
  "anaconda-cloud": {},
  "kernelspec": {
   "display_name": "Python 3",
   "language": "python",
   "name": "python3"
  },
  "language_info": {
   "codemirror_mode": {
    "name": "ipython",
    "version": 3
   },
   "file_extension": ".py",
   "mimetype": "text/x-python",
   "name": "python",
   "nbconvert_exporter": "python",
   "pygments_lexer": "ipython3",
   "version": "3.7.6"
  }
 },
 "nbformat": 4,
 "nbformat_minor": 1
}
