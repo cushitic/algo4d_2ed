{
  "nbformat": 4,
  "nbformat_minor": 0,
  "metadata": {
    "colab": {
      "name": "Copy of A4D2E; 03; Colab Examples.ipynb",
      "provenance": [],
      "authorship_tag": "ABX9TyOQ9AzkvbHUR18YH2uhNXJW"
    },
    "kernelspec": {
      "name": "python3",
      "display_name": "Python 3"
    }
  },
  "cells": [
    {
      "cell_type": "markdown",
      "metadata": {
        "id": "JgC6NhFZeQ21"
      },
      "source": [
        "# This is a **Main** Heading\n",
        "## This is a *Second Level* Heading\n",
        "This is some text."
      ]
    },
    {
      "cell_type": "code",
      "metadata": {
        "id": "rLZa5aijCQzY",
        "colab": {
          "base_uri": "https://localhost:8080/"
        },
        "outputId": "f4346aed-dafc-4c68-f8c9-c1c2348ffd4e"
      },
      "source": [
        "print(\"Hello There!\")"
      ],
      "execution_count": 1,
      "outputs": [
        {
          "output_type": "stream",
          "name": "stdout",
          "text": [
            "Hello There!\n"
          ]
        }
      ]
    }
  ]
}