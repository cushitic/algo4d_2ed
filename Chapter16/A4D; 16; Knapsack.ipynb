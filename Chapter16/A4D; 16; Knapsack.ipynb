{
 "cells": [
  {
   "cell_type": "markdown",
   "metadata": {},
   "source": [
    "## Knapsack"
   ]
  },
  {
   "cell_type": "code",
   "execution_count": 1,
   "metadata": {},
   "outputs": [],
   "source": [
    "values = [3, 4, 3, 5, 8, 10]\n",
    "weights = [2, 3, 4, 4, 5, 9]\n",
    "items = len(weights)\n",
    "capacity = 20"
   ]
  },
  {
   "cell_type": "code",
   "execution_count": 2,
   "metadata": {},
   "outputs": [],
   "source": [
    "memo = dict()\n",
    "for size in range(0, capacity+1, 1):\n",
    "    memo[(-1, size)] = ([], 0)\n",
    "    \n",
    "for item in range(items):\n",
    "    for size in range(0, capacity+1, 1):\n",
    "        # if the object doesn't fit in the knapsack\n",
    "        if weights[item] > size:\n",
    "            memo[item, size] = memo[item-1, size]\n",
    "        else:\n",
    "        # if the objcts fits, we check what can best fit \n",
    "        # in the residual space\n",
    "            previous_row, previous_row_value = memo[\n",
    "                        item-1, size-weights[item]]\n",
    "            if memo[item-1, size][1] > values[item\n",
    "                            ] + previous_row_value:\n",
    "                memo[item, size] = memo[item-1, size]\n",
    "            else:\n",
    "                memo[item, size] = (previous_row + [item\n",
    "                    ], previous_row_value + values[item])"
   ]
  },
  {
   "cell_type": "code",
   "execution_count": 3,
   "metadata": {},
   "outputs": [
    {
     "name": "stdout",
     "output_type": "stream",
     "text": [
      "The best set is [0, 3, 4, 5], it weights 20 and it values 26\n"
     ]
    }
   ],
   "source": [
    "best_set, score = memo[items-1, capacity]\n",
    "best_set_weights = [weights[item] for item in best_set]\n",
    "print(f'The best set is {best_set}', end= ', ')\n",
    "print(f'it weights {sum(best_set_weights)}', end= ' ')\n",
    "print(f'and it values {score}')"
   ]
  },
  {
   "cell_type": "code",
   "execution_count": 4,
   "metadata": {},
   "outputs": [
    {
     "name": "stdout",
     "output_type": "stream",
     "text": [
      "147\n"
     ]
    }
   ],
   "source": [
    "print(len(memo))"
   ]
  },
  {
   "cell_type": "code",
   "execution_count": 5,
   "metadata": {},
   "outputs": [
    {
     "name": "stdout",
     "output_type": "stream",
     "text": [
      "([0, 1, 2], 10)\n"
     ]
    }
   ],
   "source": [
    "print(memo[2, 10])\n",
    "# it tells the best solution with a knapsack of size \n",
    "# 10 and a set of items containing item 2"
   ]
  },
  {
   "cell_type": "code",
   "execution_count": 6,
   "metadata": {},
   "outputs": [
    {
     "name": "stdout",
     "output_type": "stream",
     "text": [
      "tested 6 items, tested 21 knapsacks\n"
     ]
    }
   ],
   "source": [
    "knapsacks = len(range(0, capacity+1, 1))\n",
    "print(f\"tested {items} items, tested {knapsacks} knapsacks\") "
   ]
  },
  {
   "cell_type": "code",
   "execution_count": 7,
   "metadata": {},
   "outputs": [
    {
     "name": "stdout",
     "output_type": "stream",
     "text": [
      "63.0\n"
     ]
    }
   ],
   "source": [
    "from scipy.special import comb\n",
    "\n",
    "objects = 6\n",
    "print(sum([comb(objects,k+1) for k in range(objects)]))"
   ]
  },
  {
   "cell_type": "code",
   "execution_count": 8,
   "metadata": {},
   "outputs": [
    {
     "name": "stdout",
     "output_type": "stream",
     "text": [
      "1048575.0\n"
     ]
    }
   ],
   "source": [
    "objects = 20\n",
    "print(sum([comb(objects,k+1) for k in range(objects)]))"
   ]
  }
 ],
 "metadata": {
  "anaconda-cloud": {},
  "kernelspec": {
   "display_name": "Python 3",
   "language": "python",
   "name": "python3"
  },
  "language_info": {
   "codemirror_mode": {
    "name": "ipython",
    "version": 3
   },
   "file_extension": ".py",
   "mimetype": "text/x-python",
   "name": "python",
   "nbconvert_exporter": "python",
   "pygments_lexer": "ipython3",
   "version": "3.7.6"
  }
 },
 "nbformat": 4,
 "nbformat_minor": 1
}
