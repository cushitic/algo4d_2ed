{
 "cells": [
  {
   "cell_type": "markdown",
   "metadata": {},
   "source": [
    "## Fibonacci numbers"
   ]
  },
  {
   "cell_type": "code",
   "execution_count": 1,
   "metadata": {},
   "outputs": [],
   "source": [
    "def fib(n, tab=0):\n",
    "    if n==0:\n",
    "        return 0\n",
    "    elif n == 1:\n",
    "        return 1\n",
    "    else:\n",
    "        print (f\"lvl {tab}\", end=': ')\n",
    "        print (f\"summing fib({n-1}) and fib({n-2})\")\n",
    "        return fib(n-1, tab+1) + fib(n-2, tab+1)"
   ]
  },
  {
   "cell_type": "code",
   "execution_count": 2,
   "metadata": {},
   "outputs": [
    {
     "name": "stdout",
     "output_type": "stream",
     "text": [
      "lvl 0: summing fib(6) and fib(5)\n",
      "lvl 1: summing fib(5) and fib(4)\n",
      "lvl 2: summing fib(4) and fib(3)\n",
      "lvl 3: summing fib(3) and fib(2)\n",
      "lvl 4: summing fib(2) and fib(1)\n",
      "lvl 5: summing fib(1) and fib(0)\n",
      "lvl 4: summing fib(1) and fib(0)\n",
      "lvl 3: summing fib(2) and fib(1)\n",
      "lvl 4: summing fib(1) and fib(0)\n",
      "lvl 2: summing fib(3) and fib(2)\n",
      "lvl 3: summing fib(2) and fib(1)\n",
      "lvl 4: summing fib(1) and fib(0)\n",
      "lvl 3: summing fib(1) and fib(0)\n",
      "lvl 1: summing fib(4) and fib(3)\n",
      "lvl 2: summing fib(3) and fib(2)\n",
      "lvl 3: summing fib(2) and fib(1)\n",
      "lvl 4: summing fib(1) and fib(0)\n",
      "lvl 3: summing fib(1) and fib(0)\n",
      "lvl 2: summing fib(2) and fib(1)\n",
      "lvl 3: summing fib(1) and fib(0)\n"
     ]
    },
    {
     "data": {
      "text/plain": [
       "13"
      ]
     },
     "execution_count": 2,
     "metadata": {},
     "output_type": "execute_result"
    }
   ],
   "source": [
    "fib(7)"
   ]
  },
  {
   "cell_type": "code",
   "execution_count": 3,
   "metadata": {},
   "outputs": [],
   "source": [
    "memo = dict()\n",
    "def fib_mem(n, tab=0):\n",
    "    if n==0:\n",
    "        return 0\n",
    "    elif n == 1:\n",
    "        return 1\n",
    "    else:\n",
    "        if (n-1, n-2) not in memo:\n",
    "            print (f\"lvl {tab}\", end=': ')\n",
    "            print (f\"summing fib({n-1}) and fib({n-2})\")\n",
    "            memo[(n-1,n-2)] = fib_mem(n-1,tab+1\n",
    "                          ) + fib_mem(n-2,tab+1)\n",
    "        return memo[(n-1,n-2)]"
   ]
  },
  {
   "cell_type": "code",
   "execution_count": 4,
   "metadata": {},
   "outputs": [
    {
     "name": "stdout",
     "output_type": "stream",
     "text": [
      "lvl 0: summing fib(6) and fib(5)\n",
      "lvl 1: summing fib(5) and fib(4)\n",
      "lvl 2: summing fib(4) and fib(3)\n",
      "lvl 3: summing fib(3) and fib(2)\n",
      "lvl 4: summing fib(2) and fib(1)\n",
      "lvl 5: summing fib(1) and fib(0)\n"
     ]
    },
    {
     "data": {
      "text/plain": [
       "13"
      ]
     },
     "execution_count": 4,
     "metadata": {},
     "output_type": "execute_result"
    }
   ],
   "source": [
    "fib_mem(7)"
   ]
  },
  {
   "cell_type": "code",
   "execution_count": 5,
   "metadata": {},
   "outputs": [
    {
     "data": {
      "text/plain": [
       "{(1, 0): 1, (2, 1): 2, (3, 2): 3, (4, 3): 5, (5, 4): 8, (6, 5): 13}"
      ]
     },
     "execution_count": 5,
     "metadata": {},
     "output_type": "execute_result"
    }
   ],
   "source": [
    "memo"
   ]
  },
  {
   "cell_type": "markdown",
   "metadata": {
    "collapsed": true
   },
   "source": [
    "## Memoization "
   ]
  },
  {
   "cell_type": "code",
   "execution_count": 6,
   "metadata": {},
   "outputs": [],
   "source": [
    "def fib(n):\n",
    "    if n==0:\n",
    "        return 0\n",
    "    elif n == 1:\n",
    "        return 1\n",
    "    else:\n",
    "        return fib(n-1) + fib(n-2)"
   ]
  },
  {
   "cell_type": "code",
   "execution_count": null,
   "metadata": {},
   "outputs": [],
   "source": [
    "%timeit -n 1 -r 1 print(fib(36))"
   ]
  },
  {
   "cell_type": "code",
   "execution_count": null,
   "metadata": {},
   "outputs": [],
   "source": [
    "from functools import lru_cache\n",
    "\n",
    "@lru_cache(maxsize=None)\n",
    "def fib(n):\n",
    "    if n==0:\n",
    "        return 0\n",
    "    elif n == 1:\n",
    "        return 1\n",
    "    else:\n",
    "        return fib(n-1) + fib(n-2)"
   ]
  },
  {
   "cell_type": "code",
   "execution_count": null,
   "metadata": {},
   "outputs": [],
   "source": [
    "%timeit -n 1 -r 1 print(fib(36))"
   ]
  },
  {
   "cell_type": "code",
   "execution_count": null,
   "metadata": {},
   "outputs": [],
   "source": [
    "fib.cache_info()"
   ]
  },
  {
   "cell_type": "code",
   "execution_count": null,
   "metadata": {},
   "outputs": [],
   "source": [
    "def memoize(fun):\n",
    "    cache = dict()\n",
    "\n",
    "    def memoized(*args):\n",
    "        if args in cache:\n",
    "            return cache[args]\n",
    "        result = fun(*args)\n",
    "        cache[args] = result\n",
    "        return result\n",
    "\n",
    "    return memoized"
   ]
  },
  {
   "cell_type": "code",
   "execution_count": null,
   "metadata": {},
   "outputs": [],
   "source": [
    "memoized_fib = memoize(fib)\n",
    "\n",
    "%timeit -n 1 -r 1 print(memoized_fib(36))"
   ]
  }
 ],
 "metadata": {
  "anaconda-cloud": {},
  "kernelspec": {
   "display_name": "Python 3",
   "language": "python",
   "name": "python3"
  },
  "language_info": {
   "codemirror_mode": {
    "name": "ipython",
    "version": 3
   },
   "file_extension": ".py",
   "mimetype": "text/x-python",
   "name": "python",
   "nbconvert_exporter": "python",
   "pygments_lexer": "ipython3",
   "version": "3.7.6"
  }
 },
 "nbformat": 4,
 "nbformat_minor": 1
}
