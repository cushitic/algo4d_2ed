{
 "cells": [
  {
   "cell_type": "markdown",
   "id": "d0669288",
   "metadata": {
    "papermill": {
     "duration": 0.010364,
     "end_time": "2021-12-09T16:17:51.110379",
     "exception": false,
     "start_time": "2021-12-09T16:17:51.100015",
     "status": "completed"
    },
    "tags": []
   },
   "source": [
    "# Compression performances"
   ]
  },
  {
   "cell_type": "code",
   "execution_count": 1,
   "id": "ccf150c5",
   "metadata": {
    "collapsed": false,
    "execution": {
     "iopub.execute_input": "2021-12-09T16:17:51.134864Z",
     "iopub.status.busy": "2021-12-09T16:17:51.132862Z",
     "iopub.status.idle": "2021-12-09T16:17:51.146267Z",
     "shell.execute_reply": "2021-12-09T16:17:51.146822Z",
     "shell.execute_reply.started": "2021-12-09T16:14:19.188291Z"
    },
    "jupyter": {
     "outputs_hidden": false
    },
    "papermill": {
     "duration": 0.027448,
     "end_time": "2021-12-09T16:17:51.147116",
     "exception": false,
     "start_time": "2021-12-09T16:17:51.119668",
     "status": "completed"
    },
    "tags": []
   },
   "outputs": [
    {
     "name": "stdout",
     "output_type": "stream",
     "text": [
      "0100100001100101011011000110110001101111001000000101011101101111011100100110110001100100\n"
     ]
    }
   ],
   "source": [
    "print (''.join(['{0:08b}'.format(ord(l)) \n",
    "                for l in \"Hello World\"]))"
   ]
  },
  {
   "cell_type": "code",
   "execution_count": 2,
   "id": "0cd82c71",
   "metadata": {
    "collapsed": false,
    "execution": {
     "iopub.execute_input": "2021-12-09T16:17:51.169691Z",
     "iopub.status.busy": "2021-12-09T16:17:51.168625Z",
     "iopub.status.idle": "2021-12-09T16:17:51.174509Z",
     "shell.execute_reply": "2021-12-09T16:17:51.173969Z",
     "shell.execute_reply.started": "2021-12-09T16:14:19.580775Z"
    },
    "jupyter": {
     "outputs_hidden": false
    },
    "papermill": {
     "duration": 0.018071,
     "end_time": "2021-12-09T16:17:51.174658",
     "exception": false,
     "start_time": "2021-12-09T16:17:51.156587",
     "status": "completed"
    },
    "tags": []
   },
   "outputs": [
    {
     "name": "stdout",
     "output_type": "stream",
     "text": [
      "01000001 01000011 01010100 01000111\n"
     ]
    }
   ],
   "source": [
    "print (' '.join(['{0:08b}'.format(ord(l))\n",
    "                 for l in \"ACTG\"]))"
   ]
  },
  {
   "cell_type": "code",
   "execution_count": 3,
   "id": "93d54398",
   "metadata": {
    "collapsed": false,
    "execution": {
     "iopub.execute_input": "2021-12-09T16:17:51.196941Z",
     "iopub.status.busy": "2021-12-09T16:17:51.196026Z",
     "iopub.status.idle": "2021-12-09T16:17:52.886944Z",
     "shell.execute_reply": "2021-12-09T16:17:52.886414Z",
     "shell.execute_reply.started": "2021-12-09T16:16:14.871629Z"
    },
    "jupyter": {
     "outputs_hidden": false
    },
    "papermill": {
     "duration": 1.702962,
     "end_time": "2021-12-09T16:17:52.887089",
     "exception": false,
     "start_time": "2021-12-09T16:17:51.184127",
     "status": "completed"
    },
    "tags": []
   },
   "outputs": [
    {
     "name": "stdout",
     "output_type": "stream",
     "text": [
      "Original size for both texts: 592905 characters\n",
      "The Adventures of Sherlock Holmes to 227478\n",
      "Random file to 519653 \n"
     ]
    }
   ],
   "source": [
    "from  urllib import request\n",
    "import zlib\n",
    "from random import randint\n",
    "\n",
    "url = 'https://github.com/lmassaron/datasets/releases/'\n",
    "url += 'download/1.0/1661-0.txt'\n",
    "response = request.urlopen(url)\n",
    "sh = response.read().decode('utf-8')[932:]\n",
    "sh_length = len(sh)\n",
    "rnd = ''.join([chr(randint(0,126)) for k in \n",
    "               range(sh_length)])\n",
    "\n",
    "def zipped(text):\n",
    "    return len(zlib.compress(text.encode(\"utf-8'\")))\n",
    "\n",
    "print (\"Original size for both texts: %s characters\" % \n",
    "       sh_length)\n",
    "print (\"The Adventures of Sherlock Holmes to %s\" % \n",
    "       zipped(sh))\n",
    "print (\"Random file to %s \" % zipped(rnd)) "
   ]
  },
  {
   "cell_type": "markdown",
   "id": "4fd1b0e4",
   "metadata": {
    "papermill": {
     "duration": 0.009489,
     "end_time": "2021-12-09T16:17:52.906322",
     "exception": false,
     "start_time": "2021-12-09T16:17:52.896833",
     "status": "completed"
    },
    "tags": []
   },
   "source": [
    "# LZW"
   ]
  },
  {
   "cell_type": "code",
   "execution_count": 4,
   "id": "50630c15",
   "metadata": {
    "collapsed": false,
    "execution": {
     "iopub.execute_input": "2021-12-09T16:17:52.929138Z",
     "iopub.status.busy": "2021-12-09T16:17:52.928205Z",
     "iopub.status.idle": "2021-12-09T16:17:52.935483Z",
     "shell.execute_reply": "2021-12-09T16:17:52.935943Z",
     "shell.execute_reply.started": "2021-12-09T16:16:34.098756Z"
    },
    "jupyter": {
     "outputs_hidden": false
    },
    "papermill": {
     "duration": 0.020223,
     "end_time": "2021-12-09T16:17:52.936121",
     "exception": false,
     "start_time": "2021-12-09T16:17:52.915898",
     "status": "completed"
    },
    "tags": []
   },
   "outputs": [],
   "source": [
    "def lzw_compress(text):\n",
    "    dictionary = {chr(k): k for k in range(256)}\n",
    "    encoded = list()\n",
    "    s = text[0]\n",
    "    for c in text[1:]:\n",
    "        if s+c in dictionary:\n",
    "            s = s+c\n",
    "        else:\n",
    "            print ('> %s' %s)\n",
    "            encoded.append(dictionary[s])\n",
    "            print ('found: %s compressed as %s' % \n",
    "                   (s,dictionary[s]))\n",
    "            dictionary[s+c] = max(dictionary.values()) + 1\n",
    "            print ('New sequence %s indexed as %s' % \n",
    "                   (s+c, dictionary[s+c]))\n",
    "            s = c \n",
    "    encoded.append(dictionary[s])\n",
    "    print ('found: %s compressed as %s' \n",
    "           %(s,dictionary[s]))\n",
    "    return encoded"
   ]
  },
  {
   "cell_type": "code",
   "execution_count": 5,
   "id": "e7d8fd0c",
   "metadata": {
    "collapsed": false,
    "execution": {
     "iopub.execute_input": "2021-12-09T16:17:52.958821Z",
     "iopub.status.busy": "2021-12-09T16:17:52.957841Z",
     "iopub.status.idle": "2021-12-09T16:17:52.964723Z",
     "shell.execute_reply": "2021-12-09T16:17:52.965229Z",
     "shell.execute_reply.started": "2021-12-09T16:16:37.523352Z"
    },
    "jupyter": {
     "outputs_hidden": false
    },
    "papermill": {
     "duration": 0.019802,
     "end_time": "2021-12-09T16:17:52.965411",
     "exception": false,
     "start_time": "2021-12-09T16:17:52.945609",
     "status": "completed"
    },
    "tags": []
   },
   "outputs": [
    {
     "name": "stdout",
     "output_type": "stream",
     "text": [
      "> A\n",
      "found: A compressed as 65\n",
      "New sequence AB indexed as 256\n",
      "> B\n",
      "found: B compressed as 66\n",
      "New sequence BA indexed as 257\n",
      "> AB\n",
      "found: AB compressed as 256\n",
      "New sequence ABC indexed as 258\n",
      "> C\n",
      "found: C compressed as 67\n",
      "New sequence CA indexed as 259\n",
      "> ABC\n",
      "found: ABC compressed as 258\n",
      "New sequence ABCA indexed as 260\n",
      "found: ABC compressed as 258\n",
      "\n",
      "Compressed: [65, 66, 256, 67, 258, 258] \n",
      "\n"
     ]
    }
   ],
   "source": [
    "text = \"ABABCABCABC\"\n",
    "compressed = lzw_compress(text)\n",
    "print('\\nCompressed: %s \\n' % compressed)"
   ]
  },
  {
   "cell_type": "code",
   "execution_count": 6,
   "id": "9c4d0e99",
   "metadata": {
    "collapsed": false,
    "execution": {
     "iopub.execute_input": "2021-12-09T16:17:52.989973Z",
     "iopub.status.busy": "2021-12-09T16:17:52.989029Z",
     "iopub.status.idle": "2021-12-09T16:17:52.998713Z",
     "shell.execute_reply": "2021-12-09T16:17:52.999225Z",
     "shell.execute_reply.started": "2021-12-09T16:16:41.601998Z"
    },
    "jupyter": {
     "outputs_hidden": false
    },
    "papermill": {
     "duration": 0.023688,
     "end_time": "2021-12-09T16:17:52.999398",
     "exception": false,
     "start_time": "2021-12-09T16:17:52.975710",
     "status": "completed"
    },
    "tags": []
   },
   "outputs": [],
   "source": [
    "def lzw_decompress(encoded):\n",
    "    reverse_dictionary = {k:chr(k) for k in range(256)}\n",
    "    current = encoded[0]\n",
    "    output = reverse_dictionary[current]\n",
    "    print ('Decompressed %s ' % output)\n",
    "    print ('>%s' % output)\n",
    "    for element in encoded[1:]:\n",
    "        previous = current\n",
    "        current = element\n",
    "        if current in reverse_dictionary:\n",
    "            s = reverse_dictionary[current]\n",
    "            print ('Decompressed %s ' % s)\n",
    "            output += s\n",
    "            print ('>%s' % output)\n",
    "            new_index = max(reverse_dictionary.keys()) + 1\n",
    "            reverse_dictionary[new_index\n",
    "            ] = reverse_dictionary[previous] + s[0]\n",
    "            print ('New dictionary entry %s at index %s' % \n",
    "                    (reverse_dictionary[previous] + s[0], \n",
    "                     new_index))\n",
    "        else:\n",
    "            print ('Not found:',current,'Output:', \n",
    "                   reverse_dictionary[previous\n",
    "                    ] + reverse_dictionary[previous][0])\n",
    "            s = reverse_dictionary[previous\n",
    "                    ] + reverse_dictionary[previous][0]\n",
    "            print ('New dictionary entry %s at index %s' % \n",
    "                   (s, max(reverse_dictionary.keys())+1))\n",
    "            reverse_dictionary[\n",
    "                max(reverse_dictionary.keys())+1] = s\n",
    "            print ('Decompressed %s' % s)\n",
    "            output += s\n",
    "            print ('>%s' % output)\n",
    "    return output"
   ]
  },
  {
   "cell_type": "code",
   "execution_count": 7,
   "id": "ab7f7e87",
   "metadata": {
    "collapsed": false,
    "execution": {
     "iopub.execute_input": "2021-12-09T16:17:53.023299Z",
     "iopub.status.busy": "2021-12-09T16:17:53.022345Z",
     "iopub.status.idle": "2021-12-09T16:17:53.030784Z",
     "shell.execute_reply": "2021-12-09T16:17:53.031353Z",
     "shell.execute_reply.started": "2021-12-09T16:16:43.074090Z"
    },
    "jupyter": {
     "outputs_hidden": false
    },
    "papermill": {
     "duration": 0.02203,
     "end_time": "2021-12-09T16:17:53.031526",
     "exception": false,
     "start_time": "2021-12-09T16:17:53.009496",
     "status": "completed"
    },
    "tags": []
   },
   "outputs": [
    {
     "name": "stdout",
     "output_type": "stream",
     "text": [
      "Decompressed A \n",
      ">A\n",
      "Decompressed B \n",
      ">AB\n",
      "New dictionary entry AB at index 256\n",
      "Decompressed AB \n",
      ">ABAB\n",
      "New dictionary entry BA at index 257\n",
      "Decompressed C \n",
      ">ABABC\n",
      "New dictionary entry ABC at index 258\n",
      "Decompressed ABC \n",
      ">ABABCABC\n",
      "New dictionary entry CA at index 259\n",
      "Decompressed ABC \n",
      ">ABABCABCABC\n",
      "New dictionary entry ABCA at index 260\n",
      "\n",
      "decompressed string : ABABCABCABC\n",
      "original string was : ABABCABCABC\n"
     ]
    }
   ],
   "source": [
    "print ('\\ndecompressed string : %s' % \n",
    "       lzw_decompress(compressed))\n",
    "print ('original string was : %s' % text)"
   ]
  }
 ],
 "metadata": {
  "kernelspec": {
   "display_name": "Python 3",
   "language": "python",
   "name": "python3"
  },
  "language_info": {
   "codemirror_mode": {
    "name": "ipython",
    "version": 3
   },
   "file_extension": ".py",
   "mimetype": "text/x-python",
   "name": "python",
   "nbconvert_exporter": "python",
   "pygments_lexer": "ipython3",
   "version": "3.7.12"
  },
  "papermill": {
   "default_parameters": {},
   "duration": 12.381161,
   "end_time": "2021-12-09T16:17:53.650952",
   "environment_variables": {},
   "exception": null,
   "input_path": "__notebook__.ipynb",
   "output_path": "__notebook__.ipynb",
   "parameters": {},
   "start_time": "2021-12-09T16:17:41.269791",
   "version": "2.3.3"
  }
 },
 "nbformat": 4,
 "nbformat_minor": 5
}
