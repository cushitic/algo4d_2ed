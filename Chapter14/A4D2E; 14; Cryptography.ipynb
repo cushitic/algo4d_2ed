{
 "cells": [
  {
   "cell_type": "markdown",
   "metadata": {},
   "source": [
    "# Hiding Your Secrets with Cryptography"
   ]
  },
  {
   "cell_type": "markdown",
   "metadata": {},
   "source": [
    "## Substituting characters"
   ]
  },
  {
   "cell_type": "code",
   "execution_count": 1,
   "metadata": {},
   "outputs": [
    {
     "name": "stdout",
     "output_type": "stream",
     "text": [
      "Provide an encryption value: 5\n",
      "['a', 'b', 'c', 'd', 'e', 'f', 'g', 'h', 'i', 'j', 'k', 'l', 'm', 'n', 'o', 'p', 'q', 'r', 's', 't', 'u', 'v', 'w', 'x', 'y', 'z', '!', 'A', 'B', 'C', 'D', 'E', 'F', 'G', 'H', 'I', 'J', 'K', 'L', 'M', 'N', 'O', 'P', 'Q', 'R', 'S', 'T', 'U', 'V', 'W', 'X', 'Y', 'Z', ' ']\n",
      "['x', 'q', 'i', 'y', 'l', 'B', 'u', 'a', 'z', 'L', 'v', 'A', 'P', 'O', 'X', 'e', 'c', 'D', 't', 'f', 'Z', 'p', 'k', 'V', 'm', 'S', 's', '!', ' ', 'H', 'R', 'Q', 'U', 'E', 'h', 'j', 'Y', 'n', 'b', 'I', 'M', 'J', 'g', 'N', 'K', 'C', 'o', 'F', 'd', 'T', 'G', 'W', 'r', 'w']\n"
     ]
    }
   ],
   "source": [
    "import random\n",
    "\n",
    "random.seed(input(\"Provide an encryption value: \"))\n",
    "\n",
    "letters = [\"a\", \"b\", \"c\", \"d\", \"e\", \"f\", \"g\", \"h\", \"i\",\n",
    "           \"j\", \"k\", \"l\", \"m\", \"n\", \"o\", \"p\", \"q\", \"r\",\n",
    "           \"s\", \"t\", \"u\", \"v\", \"w\", \"x\", \"y\", \"z\", \"!\",\n",
    "           \"A\", \"B\", \"C\", \"D\", \"E\", \"F\", \"G\", \"H\", \"I\",\n",
    "           \"J\", \"K\", \"L\", \"M\", \"N\", \"O\", \"P\", \"Q\", \"R\",\n",
    "           \"S\", \"T\", \"U\", \"V\", \"W\", \"X\", \"Y\", \"Z\", \" \"]\n",
    "randomLetters = letters.copy()\n",
    "random.shuffle(randomLetters)\n",
    "print(letters)\n",
    "print(randomLetters)"
   ]
  },
  {
   "cell_type": "code",
   "execution_count": 2,
   "metadata": {},
   "outputs": [],
   "source": [
    "def encrypt(text):\n",
    "    result=\"\"\n",
    "    for i in range(len(text)):\n",
    "        char = text[i]\n",
    "        result += randomLetters[letters.index(char)]\n",
    "    return result\n",
    "\n",
    "def decrypt(text):\n",
    "    result=\"\"\n",
    "    for i in range(len(text)):\n",
    "        char = text[i]\n",
    "        result += letters[randomLetters.index(char)]\n",
    "    return result"
   ]
  },
  {
   "cell_type": "code",
   "execution_count": 3,
   "metadata": {},
   "outputs": [
    {
     "name": "stdout",
     "output_type": "stream",
     "text": [
      "hlAAXwoalDls\n"
     ]
    }
   ],
   "source": [
    "encrypted = encrypt(\"Hello There!\")\n",
    "print(encrypted)"
   ]
  },
  {
   "cell_type": "code",
   "execution_count": 4,
   "metadata": {},
   "outputs": [
    {
     "name": "stdout",
     "output_type": "stream",
     "text": [
      "Provide a decryption value: 5\n",
      "Hello There!\n"
     ]
    }
   ],
   "source": [
    "random.seed(input(\"Provide a decryption value: \"))\n",
    "randomLetters = letters.copy()\n",
    "random.shuffle(randomLetters)\n",
    "\n",
    "decrypted = decrypt(encrypted)\n",
    "print(decrypted)"
   ]
  },
  {
   "cell_type": "markdown",
   "metadata": {},
   "source": [
    "## Working with AES encryption"
   ]
  },
  {
   "cell_type": "code",
   "execution_count": 5,
   "metadata": {},
   "outputs": [],
   "source": [
    "import base64, re\n",
    "from Crypto.Cipher import AES\n",
    "from Crypto import Random\n",
    "\n",
    "def encrypt(key, blk_sz, raw):\n",
    "    raw = raw + '\\0' * (blk_sz - len(raw) % blk_sz)\n",
    "    raw = raw.encode('utf-8')\n",
    "    secretKey = Random.new().read(AES.block_size)\n",
    "    cipher = AES.new(key.encode('utf-8'), AES.MODE_CBC, \n",
    "                     secretKey)\n",
    "    return base64.b64encode(\n",
    "        secretKey + cipher.encrypt(raw) ).decode(\n",
    "            'utf-8')\n",
    "\n",
    "def decrypt(key, enc):\n",
    "    enc = base64.b64decode(enc)\n",
    "    secretKey = enc[:16]\n",
    "    cipher = AES.new(key.encode('utf-8'), AES.MODE_CBC, \n",
    "                     secretKey)\n",
    "    return re.sub(b'\\x00*$', b'', \n",
    "                  cipher.decrypt(enc[16:])).decode(\n",
    "                    'utf-8')"
   ]
  },
  {
   "cell_type": "code",
   "execution_count": 6,
   "metadata": {},
   "outputs": [
    {
     "name": "stdout",
     "output_type": "stream",
     "text": [
      "cv8nVYRdhc9sf9SiASEDYzxF6vtaL+Kvk8wM3RbVHZgDEioLVMCZquO+tgHrwE1j\n",
      "This is a secret message.\n"
     ]
    }
   ],
   "source": [
    "encryp_msg = encrypt(\"1234567890ABCDEF\", 16, \n",
    "                     \"This is a secret message.\")\n",
    "print(encryp_msg)\n",
    "\n",
    "msg = decrypt(\"1234567890ABCDEF\", encryp_msg)\n",
    "print(msg)"
   ]
  },
  {
   "cell_type": "code",
   "execution_count": null,
   "metadata": {},
   "outputs": [],
   "source": []
  }
 ],
 "metadata": {
  "kernelspec": {
   "display_name": "Python 3",
   "language": "python",
   "name": "python3"
  },
  "language_info": {
   "codemirror_mode": {
    "name": "ipython",
    "version": 3
   },
   "file_extension": ".py",
   "mimetype": "text/x-python",
   "name": "python",
   "nbconvert_exporter": "python",
   "pygments_lexer": "ipython3",
   "version": "3.8.3"
  }
 },
 "nbformat": 4,
 "nbformat_minor": 4
}
